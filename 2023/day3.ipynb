{
 "cells": [
  {
   "cell_type": "markdown",
   "metadata": {},
   "source": [
    "# Day 3 : Gear ratios\n",
    "\n",
    "You and the Elf eventually reach a gondola lift station; he says the gondola lift will take you up to the water source, but this is as far as he can bring you. You go inside.\n",
    "\n",
    "It doesn't take long to find the gondolas, but there seems to be a problem: they're not moving.\n",
    "\n",
    "\"Aaah!\"\n",
    "\n",
    "You turn around to see a slightly-greasy Elf with a wrench and a look of surprise. \"Sorry, I wasn't expecting anyone! The gondola lift isn't working right now; it'll still be a while before I can fix it.\" You offer to help.\n",
    "\n",
    "The engineer explains that an engine part seems to be missing from the engine, but nobody can figure out which one. If you can add up all the part numbers in the engine schematic, it should be easy to work out which part is missing.\n",
    "\n",
    "The engine schematic (your puzzle input) consists of a visual representation of the engine. There are lots of numbers and symbols you don't really understand, but apparently any number adjacent to a symbol, even diagonally, is a \"part number\" and should be included in your sum. (Periods (.) do not count as a symbol.)\n",
    "\n",
    "Here is an example engine schematic:\n"
   ]
  },
  {
   "cell_type": "code",
   "execution_count": null,
   "metadata": {},
   "outputs": [],
   "source": [
    "\n",
    "\"\"\"\n",
    "467..114..\n",
    "...*......\n",
    "..35..633.\n",
    "......#...\n",
    "617*......\n",
    ".....+.58.\n",
    "..592.....\n",
    "......755.\n",
    "...$.*....\n",
    ".664.598..\n",
    "\"\"\"\n"
   ]
  },
  {
   "cell_type": "markdown",
   "metadata": {},
   "source": [
    "\n",
    "In this schematic, two numbers are not part numbers because they are not adjacent to a symbol: 114 (top right) and 58 (middle right). Every other number is adjacent to a symbol and so is a part number; their sum is 4361.\n",
    "\n",
    "Of course, the actual engine schematic is much larger. What is the sum of all of the part numbers in the engine schematic?"
   ]
  },
  {
   "cell_type": "code",
   "execution_count": 78,
   "metadata": {},
   "outputs": [],
   "source": [
    "import backend\n",
    "import numpy as np\n",
    "import re\n",
    "\n",
    "testInput = \"\"\"467..114..\n",
    "...*......\n",
    "..35..633.\n",
    "......#...\n",
    "617*......\n",
    ".....+.58.\n",
    "..592.....\n",
    "......755.\n",
    "...$.*....\n",
    ".664.598..\"\"\".split(\"\\n\")\n",
    "\n",
    "def get_number_indexes_in_text(text : str) -> np.array:\n",
    "    \"\"\"Returns an array with all numbers inside a text\"\"\"\n",
    "    matches = re.finditer(r\"\\d+\", text)\n",
    "    return np.array([match.span() for match in matches])\n",
    "\n",
    "def day3_part_1(input : list) -> int:\n",
    "    schematic_matrix = np.empty((len(input), len(input[0])), dtype=str)\n",
    "    numbers = []\n",
    "    # Construct a matrix to compare values\n",
    "    for i in np.arange(len(input)):\n",
    "        for j in np.arange(len(input[i])):\n",
    "            schematic_matrix[i,j] = input[i][j]\n",
    "    \n",
    "    # Go through matrix to find all numbers, and check if any symbols are close\n",
    "    for i in np.arange(schematic_matrix.shape[0]):\n",
    "        numberRanges = get_number_indexes_in_text(input[i]) ## Get all ranges of number\n",
    "        for numberRange in numberRanges: # For each range, check if symbols are around\n",
    "            startIndex, endIndex = numberRange[0], numberRange[1] # Start and end index of the number range\n",
    "            number = int(str.join(\"\", (string for string in schematic_matrix[i][startIndex:endIndex])))\n",
    "            ## Create a submatrix which extends one column and row beyond the current range\n",
    "            colIndexes = (max(0, startIndex-1), min(schematic_matrix.shape[0],endIndex+1))\n",
    "            rowIndexes = (max(0,i-1), min(schematic_matrix.shape[0],i+2))\n",
    "            subMatrix = schematic_matrix[rowIndexes[0]:rowIndexes[1],colIndexes[0]:colIndexes[1]]\n",
    "            flatString = str.join(\"\", (string for string in subMatrix.flatten())) ## Flatten into a single string\n",
    "            matches = re.findall(r\"[^.\\d]\", flatString)\n",
    "            ## Check if any character is around, if so append the number to the list\n",
    "            if len(matches) >= 1 : numbers.append(number)\n",
    "               \n",
    "    \n",
    "    return(sum(numbers))\n"
   ]
  },
  {
   "cell_type": "code",
   "execution_count": 79,
   "metadata": {},
   "outputs": [
    {
     "name": "stdout",
     "output_type": "stream",
     "text": [
      "Completed in  0.00 seconds.\n",
      "Answer: \n",
      "4361\n",
      "Test succeeded.\n"
     ]
    }
   ],
   "source": [
    "backend.test(day3_part_1, 4361, input = testInput)"
   ]
  },
  {
   "cell_type": "code",
   "execution_count": 80,
   "metadata": {},
   "outputs": [
    {
     "name": "stdout",
     "output_type": "stream",
     "text": [
      "Completed in  0.03 seconds.\n",
      "Answer: \n",
      "519444\n"
     ]
    },
    {
     "data": {
      "text/plain": [
       "519444"
      ]
     },
     "execution_count": 80,
     "metadata": {},
     "output_type": "execute_result"
    }
   ],
   "source": [
    "actualInput = open(\"inputs/day3.txt\").readlines()\n",
    "backend.run(day3_part_1, input = actualInput)"
   ]
  }
 ],
 "metadata": {
  "kernelspec": {
   "display_name": "Python 3",
   "language": "python",
   "name": "python3"
  },
  "language_info": {
   "codemirror_mode": {
    "name": "ipython",
    "version": 3
   },
   "file_extension": ".py",
   "mimetype": "text/x-python",
   "name": "python",
   "nbconvert_exporter": "python",
   "pygments_lexer": "ipython3",
   "version": "3.12.2"
  }
 },
 "nbformat": 4,
 "nbformat_minor": 2
}
