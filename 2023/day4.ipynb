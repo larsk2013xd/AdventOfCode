{
 "cells": [
  {
   "cell_type": "markdown",
   "metadata": {},
   "source": [
    "# Day 4 : Scratchcards\n",
    "\n",
    "## Part 1\n",
    "\n",
    "The gondola takes you up. Strangely, though, the ground doesn't seem to be coming with you; you're not climbing a mountain. As the circle of Snow Island recedes below you, an entire new landmass suddenly appears above you! The gondola carries you to the surface of the new island and lurches into the station.\n",
    "\n",
    "As you exit the gondola, the first thing you notice is that the air here is much warmer than it was on Snow Island. It's also quite humid. Is this where the water source is?\n",
    "\n",
    "The next thing you notice is an Elf sitting on the floor across the station in what seems to be a pile of colorful square cards.\n",
    "\n",
    "\"Oh! Hello!\" The Elf excitedly runs over to you. \"How may I be of service?\" You ask about water sources.\n",
    "\n",
    "\"I'm not sure; I just operate the gondola lift. That does sound like something we'd have, though - this is Island Island, after all! I bet the gardener would know. He's on a different island, though - er, the small kind surrounded by water, not the floating kind. We really need to come up with a better naming scheme. Tell you what: if you can help me with something quick, I'll let you borrow my boat and you can go visit the gardener. I got all these scratchcards as a gift, but I can't figure out what I've won.\"\n",
    "\n",
    "The Elf leads you over to the pile of colorful cards. There, you discover dozens of scratchcards, all with their opaque covering already scratched off. Picking one up, it looks like each card has two lists of numbers separated by a vertical bar (|): a list of winning numbers and then a list of numbers you have. You organize the information into a table (your puzzle input).\n",
    "\n",
    "As far as the Elf has been able to figure out, you have to figure out which of the numbers you have appear in the list of winning numbers. The first match makes the card worth one point and each match after the first doubles the point value of that card.\n",
    "\n",
    "For example:\n",
    "\n",
    "Card 1: 41 48 83 86 17 | 83 86  6 31 17  9 48 53\n",
    "Card 2: 13 32 20 16 61 | 61 30 68 82 17 32 24 19\n",
    "Card 3:  1 21 53 59 44 | 69 82 63 72 16 21 14  1\n",
    "Card 4: 41 92 73 84 69 | 59 84 76 51 58  5 54 83\n",
    "Card 5: 87 83 26 28 32 | 88 30 70 12 93 22 82 36\n",
    "Card 6: 31 18 13 56 72 | 74 77 10 23 35 67 36 11\n",
    "\n",
    "In the above example, card 1 has five winning numbers (41, 48, 83, 86, and 17) and eight numbers you have (83, 86, 6, 31, 17, 9, 48, and 53). Of the numbers you have, four of them (48, 83, 17, and 86) are winning numbers! That means card 1 is worth 8 points (1 for the first match, then doubled three times for each of the three matches after the first).\n",
    "\n",
    "    Card 2 has two winning numbers (32 and 61), so it is worth 2 points.\n",
    "    Card 3 has two winning numbers (1 and 21), so it is worth 2 points.\n",
    "    Card 4 has one winning number (84), so it is worth 1 point.\n",
    "    Card 5 has no winning numbers, so it is worth no points.\n",
    "    Card 6 has no winning numbers, so it is worth no points.\n",
    "\n",
    "So, in this example, the Elf's pile of scratchcards is worth 13 points.\n",
    "\n",
    "Take a seat in the large pile of colorful cards. How many points are they worth in total?"
   ]
  },
  {
   "cell_type": "code",
   "execution_count": 27,
   "metadata": {},
   "outputs": [],
   "source": [
    "import backend\n",
    "import re\n",
    "import numpy as np\n",
    "\n",
    "testInput = \"\"\"Card 1: 41 48 83 86 17 | 83 86  6 31 17  9 48 53\n",
    "Card 2: 13 32 20 16 61 | 61 30 68 82 17 32 24 19\n",
    "Card 3:  1 21 53 59 44 | 69 82 63 72 16 21 14  1\n",
    "Card 4: 41 92 73 84 69 | 59 84 76 51 58  5 54 83\n",
    "Card 5: 87 83 26 28 32 | 88 30 70 12 93 22 82 36\n",
    "Card 6: 31 18 13 56 72 | 74 77 10 23 35 67 36 11\"\"\".split(\"\\n\")\n",
    "testResult = 13\n",
    "\n",
    "actualInput = open(\"inputs/day4.txt\").readlines()\n",
    "\n",
    "def winningNumbers(card : str) -> np.array:\n",
    "    matches = re.findall(r\"\\d+\",re.split(r\"\\|\", card)[0])[1:]\n",
    "    return np.array([int(match) for match in matches])\n",
    "\n",
    "def ownNumbers(card : str) -> np.array:\n",
    "    matches = re.findall(r\"\\d+\",re.split(r\"\\|\", card)[1])\n",
    "    return np.array([int(match) for match in matches])\n",
    "\n",
    "def cardNumber(card : str) -> int:\n",
    "    return int(re.findall(r\"(?<=Card )\\d+\",re.split(\":\", card)[0])[0])\n",
    "\n",
    "def cardValue(card : str) -> int:\n",
    "    \"\"\"Returns the card value of a single card\"\"\"\n",
    "    winning_numbers = winningNumbers(card)\n",
    "    own_numbers = ownNumbers(card)\n",
    "    correct_numbers = [own_number for own_number in own_numbers if own_number in winning_numbers]\n",
    "    if len(correct_numbers) == 0 : return 0\n",
    "    return(2**(len(correct_numbers)-1))\n",
    "    \n",
    "def day4_part1(input) -> int:\n",
    "    card_values = np.array([])\n",
    "    for card in input:\n",
    "        card_values = np.append(card_values, cardValue(card))\n",
    "    return card_values.sum()\n"
   ]
  },
  {
   "cell_type": "code",
   "execution_count": 25,
   "metadata": {},
   "outputs": [
    {
     "name": "stdout",
     "output_type": "stream",
     "text": [
      "Completed in  0.00 seconds.\n",
      "Answer: \n",
      "13.0\n",
      "Test succeeded.\n"
     ]
    }
   ],
   "source": [
    "backend.test(day4_part1, testResult, input = testInput)"
   ]
  },
  {
   "cell_type": "code",
   "execution_count": 28,
   "metadata": {},
   "outputs": [
    {
     "name": "stdout",
     "output_type": "stream",
     "text": [
      "Completed in  0.04 seconds.\n",
      "Answer: \n",
      "18519.0\n"
     ]
    },
    {
     "data": {
      "text/plain": [
       "18519.0"
      ]
     },
     "execution_count": 28,
     "metadata": {},
     "output_type": "execute_result"
    }
   ],
   "source": [
    "backend.run(day4_part1, input = actualInput)"
   ]
  }
 ],
 "metadata": {
  "kernelspec": {
   "display_name": "Python 3",
   "language": "python",
   "name": "python3"
  },
  "language_info": {
   "codemirror_mode": {
    "name": "ipython",
    "version": 3
   },
   "file_extension": ".py",
   "mimetype": "text/x-python",
   "name": "python",
   "nbconvert_exporter": "python",
   "pygments_lexer": "ipython3",
   "version": "3.12.2"
  }
 },
 "nbformat": 4,
 "nbformat_minor": 2
}
