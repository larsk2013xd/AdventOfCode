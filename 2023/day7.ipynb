{
 "cells": [
  {
   "cell_type": "markdown",
   "metadata": {},
   "source": [
    "# Day 7 : <a href=\"https://adventofcode.com/2023/day/7\">Camel cards</a>\n",
    "\n",
    "## Part 1\n",
    "\n",
    "In this problem, we're asked to carry out ordering on a set of cards. The possible cards are (in descending order):\n",
    "\n",
    "`A`, `K`, `Q`, `J`, `T`, `9`, `8`, `7`, `6`, `5`, `4`, `3`, `2`, `1`\n",
    "\n",
    "Each set of cards, also called a <i>hand</i> has a corresponding bid. We're asked to find the total winnings of a set of <i>hands</i>. Where each bid corresponding to a hand is multiplied by it's ranking. Where the rankings follow regular poker rules.\n",
    "\n",
    "As test input data we are given"
   ]
  },
  {
   "cell_type": "code",
   "execution_count": 30,
   "metadata": {},
   "outputs": [],
   "source": [
    "testData = \"\"\"32T3K 765\n",
    "T55J5 684\n",
    "KK677 28\n",
    "KTJJT 220\n",
    "QQQJA 483\"\"\".split('\\n')\n",
    "\n",
    "actualData = open(\"inputs/day7.txt\").readlines()"
   ]
  },
  {
   "cell_type": "markdown",
   "metadata": {},
   "source": [
    "Here the hand `32T3K` has a bid of `765`. If this were to be the worst card of our hand, it would have a value of $1\\times 765$. If it were the best of the 5 cards, it would have a value of $5\\times 765=3825$. We note the total winnings by the sum of all individual hand winnings. And for our `testData` we have a `testResult` of"
   ]
  },
  {
   "cell_type": "code",
   "execution_count": 31,
   "metadata": {},
   "outputs": [],
   "source": [
    "testResult = 6440"
   ]
  },
  {
   "cell_type": "markdown",
   "metadata": {},
   "source": [
    "We begin by importing regular modules"
   ]
  },
  {
   "cell_type": "code",
   "execution_count": 32,
   "metadata": {},
   "outputs": [],
   "source": [
    "import numpy as np\n",
    "import backend\n",
    "import re"
   ]
  },
  {
   "cell_type": "markdown",
   "metadata": {},
   "source": [
    "There are different kinds of hands. First, we write a function that classifies these hands. We do so by assigning numerical values to each type of hand, which we can sort by later."
   ]
  },
  {
   "cell_type": "code",
   "execution_count": 33,
   "metadata": {},
   "outputs": [],
   "source": [
    "high_card = 1\n",
    "one_pair = 2\n",
    "two_pair = 3\n",
    "three_of_a_kind = 4\n",
    "full_house = 5\n",
    "four_of_a_kind = 6\n",
    "five_of_a_kind = 7"
   ]
  },
  {
   "cell_type": "markdown",
   "metadata": {},
   "source": [
    "Let us first define a function that returns a dictionary with all cards and their relative number of appearances."
   ]
  },
  {
   "cell_type": "code",
   "execution_count": 34,
   "metadata": {},
   "outputs": [
    {
     "data": {
      "text/plain": [
       "{'A': 2, '3': 1, '6': 1, 'J': 1}"
      ]
     },
     "execution_count": 34,
     "metadata": {},
     "output_type": "execute_result"
    }
   ],
   "source": [
    "def cardsInHand(hand : str) -> dict:\n",
    "    cards = np.array([card for card in hand], dtype = str) # Create a numpy array\n",
    "    cardsDict = dict() # Create an empty dictionary first\n",
    "    for card in cards : cardsDict.update({card : np.sum(cards == card)})\n",
    "    return cardsDict\n",
    "\n",
    "cardsInHand(\"AA36J\")"
   ]
  },
  {
   "cell_type": "markdown",
   "metadata": {},
   "source": [
    "The next task is to create a mapping of hands to numbers, so we can simply sort the numbers. A first note is that there are 7 types of hand strengths. We could therefore first assign a score of 1 to 7 to each hand type. Luckily, we have already done so in one of the code sections above. The only thing left to do is to create a function that maps a hand to this score."
   ]
  },
  {
   "cell_type": "code",
   "execution_count": 35,
   "metadata": {},
   "outputs": [
    {
     "data": {
      "text/plain": [
       "3"
      ]
     },
     "execution_count": 35,
     "metadata": {},
     "output_type": "execute_result"
    }
   ],
   "source": [
    "def handStrength(hand : str) -> int:\n",
    "    assert len(hand) == 5, \"A hand should have five cards.\"\n",
    "    cardFrequencies = np.array(list(cardsInHand(hand).values())) # For the strenght of a hand we are only interested in the frequencies of cards\n",
    "    if np.any(cardFrequencies == 5) : return five_of_a_kind\n",
    "    if np.any(cardFrequencies == 4) : return four_of_a_kind\n",
    "    if np.any(cardFrequencies == 3) and np.any(cardFrequencies == 2) : return full_house\n",
    "    if np.any(cardFrequencies == 3) and not np.any(cardFrequencies == 2) : return three_of_a_kind\n",
    "    if np.sum(cardFrequencies == 2) == 2 : return two_pair\n",
    "    if np.sum(cardFrequencies == 2) == 1 : return one_pair\n",
    "    return high_card\n",
    "\n",
    "handStrength(\"AADDE\")"
   ]
  },
  {
   "cell_type": "markdown",
   "metadata": {},
   "source": [
    "The problem now is that we do not take into account the quality of the first to last card. Consider the example below:"
   ]
  },
  {
   "cell_type": "code",
   "execution_count": 36,
   "metadata": {},
   "outputs": [
    {
     "data": {
      "text/plain": [
       "(5, 5)"
      ]
     },
     "execution_count": 36,
     "metadata": {},
     "output_type": "execute_result"
    }
   ],
   "source": [
    "handStrength(\"AAAJJ\"), handStrength(\"22288\")"
   ]
  },
  {
   "cell_type": "markdown",
   "metadata": {},
   "source": [
    "Clearly, we should prefer the hand `AAAJJ` over `22288`. First, let us define the ordering of single cards. That is, we assign values to each card, where a higher number corresponds to a higher value. We then create a function called `cardValue` that returns the card-value of a card."
   ]
  },
  {
   "cell_type": "code",
   "execution_count": 37,
   "metadata": {},
   "outputs": [
    {
     "data": {
      "text/plain": [
       "0.0"
      ]
     },
     "execution_count": 37,
     "metadata": {},
     "output_type": "execute_result"
    }
   ],
   "source": [
    "cards = np.array([\"A\", \"K\", \"Q\", \"J\", \"T\", \"9\", \"8\", \"7\", \"6\", \"5\", \"4\", \"3\", \"2\"])\n",
    "cardValues = np.flip(np.arange(len(cards)))\n",
    "\n",
    "def cardValue(card : str) -> int:\n",
    "    return (cardValues[cards == card]/(2*cardValues.max()))[0]\n",
    "\n",
    "cardValue(\"2\")"
   ]
  },
  {
   "cell_type": "markdown",
   "metadata": {},
   "source": [
    "Now, we should create some form of ordering. In this case, the first card gets compared first. First we need to decide the value of each card in a hand and take some form of sum. I will call this the 'additional hand value' which is the hand strength, plus some number between 0 and 1 denoting the value of a hand. Therefore we know that if two hands have differing strengths, the stronger card will always have a higher ranking than the the hand with the lower strength. The rank of a hand is then simply the strength of a hand plus its additional hand value.\n",
    "\n",
    "To come up with the hand value, we need to note that the first card counts the most towards the additional hand value. For this, cardValue needs to be mapped on a scale between 0 and 1. Which is done in the function `cardValue`. To compute the additional hand value we take 1 times the first card value + 0.1 times the second card value + 0.01 times the third card value etc. This guarantees that we create a correct ordering, based on the assumption that the first card counts the most."
   ]
  },
  {
   "cell_type": "code",
   "execution_count": 38,
   "metadata": {},
   "outputs": [],
   "source": [
    "def additionalHandValue(hand : str) -> float:\n",
    "    additionalValue = 0.0\n",
    "    for card, factor in zip(hand, 1/(10**np.arange(len(hand)))):\n",
    "        additionalValue += factor * cardValue(card)\n",
    "    return(additionalValue)\n",
    "\n",
    "def handRank(hand : str) -> int:\n",
    "    handRank = handStrength(hand) + additionalHandValue(hand)\n",
    "    return handRank\n"
   ]
  },
  {
   "cell_type": "markdown",
   "metadata": {},
   "source": [
    "Now we can once again compare the two hands we've shown before:"
   ]
  },
  {
   "cell_type": "code",
   "execution_count": 39,
   "metadata": {},
   "outputs": [
    {
     "data": {
      "text/plain": [
       "(5.5554125, 5.000275)"
      ]
     },
     "execution_count": 39,
     "metadata": {},
     "output_type": "execute_result"
    }
   ],
   "source": [
    "handRank(\"AAAJJ\"), handRank(\"22288\")"
   ]
  },
  {
   "cell_type": "markdown",
   "metadata": {},
   "source": [
    "In this case, we see that both hands are full houses and have the same strength, but the first card has a higher additional value, so it has a higher rank. We can now sort all our hands by rank! As we want to keep track of both the hands and their bids, we create an indirect sorting function (`argSortHands`), which just returns the indexes of the elements in `hands` in sorted order."
   ]
  },
  {
   "cell_type": "code",
   "execution_count": 40,
   "metadata": {},
   "outputs": [
    {
     "data": {
      "text/plain": [
       "array([1, 0], dtype=int64)"
      ]
     },
     "execution_count": 40,
     "metadata": {},
     "output_type": "execute_result"
    }
   ],
   "source": [
    "def argSortHands(hands : list):\n",
    "    return np.argsort([handRank(hand) for hand in hands])\n",
    "\n",
    "argSortHands([\"AAAJJ\", \"22288\"])"
   ]
  },
  {
   "cell_type": "markdown",
   "metadata": {},
   "source": [
    "Great! Now we can sort both our bids corresponding to the hands!"
   ]
  },
  {
   "cell_type": "code",
   "execution_count": 44,
   "metadata": {},
   "outputs": [],
   "source": [
    "def day7_part1(input : str) -> int:\n",
    "    hands = np.array([], dtype = str)\n",
    "    bids = np.array([])\n",
    "    for line in input:\n",
    "        matches = re.match(\"(.....) (.+)\", line)\n",
    "        hand, bid = matches.group(1), int(matches.group(2))\n",
    "        hands = np.append(hands, hand)\n",
    "        bids = np.append(bids, bid)\n",
    "    \n",
    "    sortedIndexes = argSortHands(hands)\n",
    "    sortedHands = hands[sortedIndexes]\n",
    "    sortedBids = bids[sortedIndexes]\n",
    "    print(sortedHands)\n",
    "\n",
    "    return int(np.sum(sortedBids * np.arange(1, len(sortedBids)+1)))"
   ]
  },
  {
   "cell_type": "markdown",
   "metadata": {},
   "source": [
    "As shown above we finally multiply all bids by 1, 2, 3, etc, depending on their rank. Now let's run our test case!"
   ]
  },
  {
   "cell_type": "code",
   "execution_count": 42,
   "metadata": {},
   "outputs": [
    {
     "name": "stdout",
     "output_type": "stream",
     "text": [
      "Completed in  0.00 seconds.\n",
      "Answer: \n",
      "6440\n",
      "Test succeeded.\n"
     ]
    }
   ],
   "source": [
    "backend.test(day7_part1, 6440, input = testData)"
   ]
  },
  {
   "cell_type": "markdown",
   "metadata": {},
   "source": [
    "Great! Finally, let's run it on our actual input data."
   ]
  },
  {
   "cell_type": "code",
   "execution_count": 45,
   "metadata": {},
   "outputs": [
    {
     "name": "stdout",
     "output_type": "stream",
     "text": [
      "['23567' '249TK' '24AJ3' '254JK' '26TK5' '26A87' '27638' '285K3' '2TAQK'\n",
      " '2J54A' '2J6K9' '325J9' '32J6T' '2K43Q' '2QA87' '2A38K' '34628' '346KQ'\n",
      " '347JA' '34QK8' '35Q7T' '364K2' '36T8K' '374K5' '37KAJ' '389A5' '38T79'\n",
      " '39287' '3TQ7J' '3JK42' '4276T' '3K284' '3K549' '3KA2Q' '3A48Q' '459QA'\n",
      " '47T2Q' '48T9Q' '492QJ' '4J93T' '4J9TQ' '4Q269' '4Q2T5' '4JK37' '5249Q'\n",
      " '4JAT7' '4QT2K' '4QK82' '53782' '4A37Q' '53AK9' '54TQK' '57A9T' '57AJ3'\n",
      " '5892A' '58TK3' '5928Q' '58K74' '5986A' '5T264' '59K37' '5TJ83' '5JK2A'\n",
      " '6297T' '62A47' '63479' '5K829' '6382Q' '63T89' '63QJ5' '5KAQ3' '6479T'\n",
      " '64QTJ' '65JA9' '6729J' '67324' '67A9Q' '69243' '6932T' '68QA7' '6Q2TA'\n",
      " '723A4' '72689' '72J58' '6K2A8' '72A6T' '6A285' '6KA74' '6A4JT' '6A987'\n",
      " '74T36' '75A42' '76J5A' '76K52' '7935J' '7T846' '7J235' '7J689' '7J9QK'\n",
      " '7JT56' '7JTQ8' '7Q5A3' '8273K' '7QJTA' '7K42Q' '7K463' '7K63A' '7K85J'\n",
      " '83TK9' '7A396' '8465J' '7AKJ9' '879Q5' '89J45' '8T36A' '8T4K2' '8JT2K'\n",
      " '8Q2K9' '8Q9JA' '8KT74' '8A5K4' '94T85' '94K3J' '9624J' '9635K' '96524'\n",
      " '9T748' '9TJ32' '9J53Q' '9Q45T' '9Q685' '9Q7J6' '9A28T' '9A563' '9A63T'\n",
      " 'T48KA' 'T6534' 'T6579' 'T6A4K' 'T96Q4' 'T97Q6' 'T986J' 'T9J8Q' 'TJ6Q5'\n",
      " 'TQA64' 'J3742' 'J3958' 'TKAQJ' 'TAQ58' 'TAK95' 'J4A5Q' 'J5624' 'J6348'\n",
      " 'J7364' 'J7384' 'J7398' 'J7Q25' 'J7KT5' 'J9A4T' 'JT4Q3' 'JT4Q5' 'JQ274'\n",
      " 'Q24AJ' 'Q268J' 'Q2K79' 'Q4J85' 'JAK28' 'Q57K2' 'Q59K6' 'Q674K' 'Q6925'\n",
      " 'Q7J5A' 'Q8J4K' 'QT59A' 'QT624' 'QTA83' 'K2435' 'K32Q5' 'K35T6' 'K376Q'\n",
      " 'QK85T' 'QKTJ5' 'K469A' 'K46JQ' 'K52QA' 'K65T9' 'K6TQ4' 'K6TAJ' 'K876J'\n",
      " 'K93Q2' 'K986T' 'KTJ37' 'A2356' 'KQ893' 'KQ9T6' 'A2TQ5' 'KA3Q9' 'A43Q9'\n",
      " 'A57Q8' 'A593Q' 'A75K6' 'A8793' 'ATQ8J' 'AK75T' '22KJ6' '22A6K' '23493'\n",
      " '246A6' '24QQ3' '26634' '278J8' '28JA8' '2T2K7' '2J939' '2Q279' '2Q2J7'\n",
      " '324A2' '2Q5T5' '332T8' '2QA52' '2ATAQ' '3557T' '35T22' '363AJ' '37J7K'\n",
      " '3T244' '3TTQ8' '3J35Q' '3Q39T' '42J4A' '43227' '433QJ' '434J9' '3K7QQ'\n",
      " '3A7J7' '455J3' '45J7J' '488J6' '48934' '4894Q' '48Q54' '49932' '49TT8'\n",
      " '4T428' '4T84K' '4TJ77' '4J322' '522TJ' '525TJ' '52JKJ' '4K977' '53J22'\n",
      " '54662' '4AQ6Q' '4AK94' '565A8' '56KK8' '5854J' '585QJ' '59294' '58A54'\n",
      " '597Q7' '599K8' '5T4J5' '5J395' '5JJ43' '62253' '6252K' '627J2' '62994'\n",
      " '5Q9QJ' '5K28K' '5QQJ8' '5K3K4' '63697' '64534' '649Q4' '66784' '678JJ'\n",
      " '683J8' '6864J' '68J26' '69J6T' '69A8A' '6Q6J8' '727A9' '6K3J6' '6A32A'\n",
      " '7442J' '74QA4' '7647K' '7665Q' '766J8' '7688K' '774J9' '779AT' '77AJ8'\n",
      " '7857J' '78J55' '792T2' '7T4JJ' '7JJ2T' '7Q363' '82462' '82T77' '7K9A7'\n",
      " '83QTQ' '7A488' '83AA5' '8483A' '86JT6' '879A8' '882AT' '87KJ8' '88432'\n",
      " '87A99' '89T55' '8J2T2' '8J4J9' '8JT98' '8Q7KQ' '8K6K2' '8KQQT' '8A9TA'\n",
      " '8ATTJ' '8AAJK' '955J2' '95833' '97Q94' '98Q9T' '98AQA' '99J47' '9T29A'\n",
      " '9J242' '9J297' '9TAJA' 'T32TJ' '9K549' '9K9Q3' '9KJ9Q' 'T4633' '9AK2A'\n",
      " 'T59TQ' 'T64TJ' 'T6652' 'T76QT' 'T797J' 'T7A73' 'T8Q8J' 'T99J8' 'TT5QK'\n",
      " 'TT5KJ' 'TJ5T4' 'TJ7Q7' 'TJ944' 'TJ9TQ' 'TJT85' 'J23KK' 'TQ4T5' 'J27A7'\n",
      " 'J33Q6' 'TK64T' 'TKT84' 'TKTA8' 'J3Q44' 'J4353' 'J448T' 'J4Q5Q' 'TAK9T'\n",
      " 'J4A3A' 'J4AQA' 'J5T88' 'J63KK' 'J5AT5' 'J6585' 'J6T63' 'J6J25' 'J6QQA'\n",
      " 'J6KJ5' 'J76A6' 'J86K6' 'J8K9K' 'J9447' 'J8AA4' 'JT5J4' 'JT5J7' 'JTTQK'\n",
      " 'JJ974' 'JJQK2' 'Q2Q79' 'JK5KQ' 'Q3TQ2' 'JKK9T' 'JA56A' 'JA887' 'Q4J22'\n",
      " 'Q4QTK' 'Q5T8T' 'Q6697' 'Q68QJ' 'Q6949' 'Q6T3T' 'Q6Q53' 'Q77J2' 'Q7J57'\n",
      " 'Q8482' 'Q93KQ' 'Q99K7' 'QTT73' 'QTTAJ' 'QJ4J3' 'QTAKK' 'QJJK9' 'QJQKT'\n",
      " 'QQTJ3' 'QK2J2' 'K2K8T' 'K33J2' 'QKJK4' 'K3K4J' 'K43KQ' 'K44AQ' 'QAJQ4'\n",
      " 'K4Q74' 'K4KQT' 'K5664' 'K5QK8' 'K67QK' 'K6J56' 'K75K4' 'K7966' 'K7AA3'\n",
      " 'K858Q' 'K889J' 'K9QAA' 'KJ77Q' 'KJA5J' 'A2898' 'KK5J7' 'KA99J' 'A687A'\n",
      " 'A8QA5' 'A8K8Q' 'AT8T7' 'ATQ2T' 'AJ3TA' 'AJ447' 'AQ39Q' 'AQ9A5' 'AQJA8'\n",
      " 'AK3A2' 'AK755' 'AA274' 'AAT24' 'AAT6J' '22338' '23273' '23377' '2442T'\n",
      " '28AA2' '29829' '2T299' '2J332' '32236' '33447' '2K44K' '334J4' '2K72K'\n",
      " '339JJ' '33TTJ' '2KJK2' '33QAA' '2KK77' '3443A' '2KAK2' '35858' '37537'\n",
      " '37QQ3' '3939K' '3J3J2' '3TKTK' '3J63J' '424J2' '3Q7Q7' '42942' '43QQ3'\n",
      " '44696' '44TQT' '44QJQ' '44A88' '45K45' '474TT' '47674' '499JJ' '4JJ4T'\n",
      " '52275' '4QJ4J' '4KQQ4' '5588J' '58656' '5T2T5' '59K59' '5J577' '5Q5Q2'\n",
      " '5QT5T' '5QQ75' '5QQAA' '64654' '65995' '65J56' '6644J' '67337' '67868'\n",
      " '69869' '72788' '727T2' '737A3' '6A776' '76674' '77388' '78K8K' '7T6T7'\n",
      " '7JJ44' '82528' '7A22A' '85854' '86633' '86865' '887AA' '88Q7Q' '88QQ4'\n",
      " '88KQQ' '898A9' '8J899' '8Q866' '8QTT8' '8K484' '93944' '944J9' '944QQ'\n",
      " '97579' '99KK4' '99A6A' '9TTQ9' '9J66J' '9J9JA' 'T22T6' 'T2TJ2' '9QQAA'\n",
      " '9A922' '9A9A2' '9AJ9A' 'T588T' 'T78T7' 'T7T79' 'T93T3' 'T988T' 'TT338'\n",
      " 'TT669' 'TT775' 'TTK55' 'TJ4T4' 'J2255' 'J2277' 'J2299' 'J22JT' 'J2Q2Q'\n",
      " 'TK6T6' 'TKTKJ' 'J4J42' 'J4K4K' 'J54J5' 'J55J2' 'J5JQQ' 'J62J2' 'J656J'\n",
      " 'J8QJ8' 'J8K8K' 'JTT66' 'JTAJT' 'JJ5AA' 'JQTJQ' 'JQJ3Q' 'JQQ88' 'JK6KJ'\n",
      " 'Q3TQT' 'JKQKQ' 'Q4545' 'JAJ4A' 'Q4QKK' 'Q55QJ' 'Q6Q44' 'Q7QT7' 'QJJQA'\n",
      " 'QQ455' 'QQKK9' 'K3K77' 'K44K5' 'K6JK6' 'K8K82' 'K9TT9' 'K9TKT' 'K9K88'\n",
      " 'A22TA' 'KK339' 'A336A' 'A33JA' 'A33AK' 'KK797' 'KK998' 'KKTT6' 'KKJQJ'\n",
      " 'A43A4' 'KAAK4' 'A4AK4' 'A56A5' 'A5A5J' 'A6A22' 'A7575' 'A7TT7' 'A7AT7'\n",
      " 'A9449' 'A9A98' 'ATAQT' 'AKA99' 'AA66T' 'AAQ4Q' '2223J' '2226Q' '23229'\n",
      " '23TTT' '24999' '26J22' '277A7' '2822J' '28555' '28868' '2JT22' '32522'\n",
      " '2QQ5Q' '332A3' '33693' '33793' '3393J' '33T3J' '35343' '36833' '38339'\n",
      " '3J444' '3J733' '3QQ9Q' '3K332' '43339' '43494' '434Q4' '3QAAA' '44465'\n",
      " '4449A' '444Q7' '4474J' '44J45' '4644A' '4744T' '47773' '48446' '4T445'\n",
      " '4J464' '4J4Q4' '525J5' '4KK5K' '4KKKA' '4A448' '4A4K4' '5557K' '55KJ5'\n",
      " '56552' '565A5' '5755T' '58545' '58K88' '5TTT8' '62AAA' '5K9KK' '63KKK'\n",
      " '5A955' '662K6' '6646T' '66624' '67787' '677J7' '68A88' '6T266' '6J366'\n",
      " '6Q4QQ' '7277Q' '72877' '6QQTQ' '7377A' '6KKJK' '76737' '77792' '78222'\n",
      " '7J577' '7JTTT' '82292' '8288T' '83878' '7KJ77' '84KKK' '866J6' '86884'\n",
      " '87868' '88289' '87K88' '88568' '8878J' '888T9' '888AT' '94544' '95655'\n",
      " '95Q55' '95QQQ' '96667' '96Q66' '97776' '97K99' '9888J' '9994Q' '999T6'\n",
      " '99J59' '99J9Q' '99KJ9' 'T2232' 'T2292' '9K777' '9A333' 'T7J77' 'T9TT2'\n",
      " 'TT27T' 'TT9QT' 'TTQ4T' 'TJ444' 'TJTT2' 'J222Q' 'TQ555' 'TATT7' 'J6JKJ'\n",
      " 'J6QQQ' 'J8858' 'JT888' 'JT9TT' 'JTTAT' 'JJ4J2' 'JJA6J' 'JQ4QQ' 'JQQ7Q'\n",
      " 'JK2KK' 'Q2A22' 'JK666' 'JKK9K' 'Q4QQK' 'Q5552' 'Q77K7' 'Q7QQ4' 'Q7KQQ'\n",
      " 'Q8884' 'Q8QQJ' 'Q9888' 'QTJTT' 'QTQ4Q' 'K2223' 'QQQ3J' 'QQQ53' 'QQQ79'\n",
      " 'K2QQQ' 'K4J44' 'QAQQ6' 'K5KK8' 'K6TTT' 'K8Q88' 'K8A88' 'KT7KK' 'KT9KK'\n",
      " 'KTKQK' 'KJ3KK' 'KJTTT' 'KQ8QQ' 'KQ9QQ' 'KK8K9' 'KKQK6' 'A4442' 'A4777'\n",
      " 'A6667' 'A66Q6' 'A75AA' 'A8887' 'A9998' 'AT6AA' 'AA6JA' 'AA6A5' 'AA7TA'\n",
      " 'AA9A5' 'AATAQ' 'AAJA2' 'AAJAT' 'AAQA4' '22299' '222TT' '222JJ' '22525'\n",
      " '22Q2Q' '23233' '32223' '333TT' '33535' '33JJJ' '33QQ3' '36336' '36663'\n",
      " '38383' '39993' '44224' '44747' '44J4J' '3AA3A' '47747' '4QQ44' '4A4AA'\n",
      " '55454' '55588' '555JJ' '55757' '55T5T' '55QQQ' '55AA5' '62662' '64464'\n",
      " '64664' '66555' '66655' '666QQ' '666KK' '66868' '69996' '6JJ66' '6QQ6Q'\n",
      " '75757' '76676' '77337' '77667' '77888' '77QQ7' '79799' '7TTT7' '7J77J'\n",
      " '82828' '7QQ7Q' '84448' '888JJ' '88TT8' '88KK8' '94499' '8AA88' '95959'\n",
      " '96696' '99444' '99889' '99AA9' '9JJ99' 'T33TT' 'T5T5T' 'T6T66' 'T8TT8'\n",
      " 'T99TT' 'TT66T' 'TTJTJ' 'TAATT' 'JJ333' 'JJ5J5' 'JJQQQ' 'Q3QQ3' 'JAJAA'\n",
      " 'Q888Q' 'QTQTT' 'QQ44Q' 'QQ88Q' 'QQ9Q9' 'QKKQK' 'K5K5K' 'KK333' 'KQQKQ'\n",
      " 'KK66K' 'KK8K8' 'KK9K9' 'KKK33' 'KKK44' 'KKKJJ' 'A8A8A' 'AA66A' 'AATAT'\n",
      " 'AAKKK' 'AAAKK' '22229' '22232' '2222K' '22262' '22422' '22522' '22A22'\n",
      " '27222' '2J222' '3333T' '3333A' '33Q33' '34333' '36666' '37333' '3J333'\n",
      " '44244' '44443' '3KKKK' '44449' '444J4' '444Q4' '44844' '45444' '49999'\n",
      " '52555' '53333' '53555' '4AAAA' '55585' '555J5' '555Q5' '555A5' '57777'\n",
      " '63333' '66656' '66669' '666T6' '68666' '6TTTT' '6K666' '73777' '77767'\n",
      " '7777J' '7777K' '777Q7' '79777' '83333' '86888' '88848' '88898' '8AAAA'\n",
      " '95555' '95999' '99699' '99929' '99989' '9999Q' '99T99' '9TTTT' '9J999'\n",
      " '9A999' 'T8888' 'TT5TT' 'TT8TT' 'TTT2T' 'TTTTJ' 'TTQTT' 'J6666' 'J8888'\n",
      " 'J8JJJ' 'Q2222' 'Q4QQQ' 'Q7QQQ' 'Q8888' 'QJQQQ' 'QQ5QQ' 'QQ9QQ' 'QQTQQ'\n",
      " 'QQQ8Q' 'QQKQQ' 'QAAAA' 'K5555' 'K5KKK' 'K6KKK' 'KJKKK' 'KK8KK' 'KK9KK'\n",
      " 'KKK2K' 'KKKAK' 'A5AAA' 'AAJAA' 'AAA6A' 'AAAA2' 'AAAA3' 'AAAA7' 'AAAAT'\n",
      " 'JJJJJ']\n",
      "Completed in  0.20 seconds.\n",
      "Answer: \n",
      "251142035\n"
     ]
    },
    {
     "data": {
      "text/plain": [
       "251142035"
      ]
     },
     "execution_count": 45,
     "metadata": {},
     "output_type": "execute_result"
    }
   ],
   "source": [
    "backend.run(day7_part1, input = actualData)"
   ]
  }
 ],
 "metadata": {
  "kernelspec": {
   "display_name": "Python 3",
   "language": "python",
   "name": "python3"
  },
  "language_info": {
   "codemirror_mode": {
    "name": "ipython",
    "version": 3
   },
   "file_extension": ".py",
   "mimetype": "text/x-python",
   "name": "python",
   "nbconvert_exporter": "python",
   "pygments_lexer": "ipython3",
   "version": "3.12.2"
  }
 },
 "nbformat": 4,
 "nbformat_minor": 2
}
