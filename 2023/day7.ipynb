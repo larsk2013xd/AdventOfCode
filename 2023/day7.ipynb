{
 "cells": [
  {
   "cell_type": "markdown",
   "metadata": {},
   "source": [
    "# Day 7 : <a href=\"https://adventofcode.com/2023/day/7\">Camel cards</a>\n",
    "\n",
    "## Part 1\n",
    "\n",
    "In this problem, we're asked to carry out ordering on a set of cards. The possible cards are (in descending order):\n",
    "\n",
    "`A`, `K`, `Q`, `J`, `T`, `9`, `8`, `7`, `6`, `5`, `4`, `3`, `2`, `1`\n",
    "\n",
    "Each set of cards, also called a <i>hand</i> has a corresponding bid. We're asked to find the total winnings of a set of <i>hands</i>. Where each bid corresponding to a hand is multiplied by it's ranking. Where the rankings follow regular poker rules.\n",
    "\n",
    "As test input data we are given"
   ]
  },
  {
   "cell_type": "code",
   "execution_count": 6,
   "metadata": {},
   "outputs": [],
   "source": [
    "testData = \"\"\"32T3K 765\n",
    "T55J5 684\n",
    "KK677 28\n",
    "KTJJT 220\n",
    "QQQJA 483\"\"\""
   ]
  },
  {
   "cell_type": "markdown",
   "metadata": {},
   "source": [
    "Here the hand `32T3K` has a bid of `765`. If this were to be the worst card of our hand, it would have a value of $1\\times 765$. If it were the best of the 5 cards, it would have a value of $5\\times 765=3825$. We note the total winnings by the sum of all individual hand winnings. And for our `testData` we have a `testResult` of"
   ]
  },
  {
   "cell_type": "code",
   "execution_count": 7,
   "metadata": {},
   "outputs": [],
   "source": [
    "testResult = 6440"
   ]
  },
  {
   "cell_type": "markdown",
   "metadata": {},
   "source": [
    "We begin by importing regular modules"
   ]
  },
  {
   "cell_type": "code",
   "execution_count": 8,
   "metadata": {},
   "outputs": [],
   "source": [
    "import numpy as np\n",
    "import backend\n",
    "import re"
   ]
  },
  {
   "cell_type": "markdown",
   "metadata": {},
   "source": [
    "There are different kinds of hands. First, we write a function that classifies these hands. We do so by assigning numerical values to each type of hand, which we can sort by later."
   ]
  },
  {
   "cell_type": "code",
   "execution_count": 9,
   "metadata": {},
   "outputs": [],
   "source": [
    "high_card = 1\n",
    "one_pair = 2\n",
    "two_pair = 3\n",
    "three_of_a_kind = 4\n",
    "full_house = 5\n",
    "four_of_a_kind = 6\n",
    "five_of_a_kind = 7"
   ]
  },
  {
   "cell_type": "markdown",
   "metadata": {},
   "source": [
    "Let us first define a function that returns a dictionary with all cards and their relative number of appearances."
   ]
  },
  {
   "cell_type": "code",
   "execution_count": 24,
   "metadata": {},
   "outputs": [
    {
     "data": {
      "text/plain": [
       "{'A': 2, '3': 1, '6': 1, 'J': 1}"
      ]
     },
     "execution_count": 24,
     "metadata": {},
     "output_type": "execute_result"
    }
   ],
   "source": [
    "def cardsInHand(hand : str) -> dict:\n",
    "    cards = np.array([card for card in hand], dtype = str) # Create a numpy array\n",
    "    cardsDict = dict() # Create an empty dictionary first\n",
    "    for card in cards : cardsDict.update({card : np.sum(cards == card)})\n",
    "    return cardsDict\n",
    "\n",
    "cardsInHand(\"AA36J\")"
   ]
  }
 ],
 "metadata": {
  "kernelspec": {
   "display_name": "Python 3",
   "language": "python",
   "name": "python3"
  },
  "language_info": {
   "codemirror_mode": {
    "name": "ipython",
    "version": 3
   },
   "file_extension": ".py",
   "mimetype": "text/x-python",
   "name": "python",
   "nbconvert_exporter": "python",
   "pygments_lexer": "ipython3",
   "version": "3.12.2"
  }
 },
 "nbformat": 4,
 "nbformat_minor": 2
}
