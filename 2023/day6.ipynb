{
 "cells": [
  {
   "cell_type": "markdown",
   "metadata": {},
   "source": [
    "# Day 6 : Wait for it\n",
    "\n",
    "## Part 1\n",
    "\n",
    "The ferry quickly brings you across Island Island. After asking around, you discover that there is indeed normally a large pile of sand somewhere near here, but you don't see anything besides lots of water and the small island where the ferry has docked.\n",
    "\n",
    "As you try to figure out what to do next, you notice a poster on a wall near the ferry dock. \"Boat races! Open to the public! Grand prize is an all-expenses-paid trip to Desert Island!\" That must be where the sand comes from! Best of all, the boat races are starting in just a few minutes.\n",
    "\n",
    "You manage to sign up as a competitor in the boat races just in time. The organizer explains that it's not really a traditional race - instead, you will get a fixed amount of time during which your boat has to travel as far as it can, and you win if your boat goes the farthest.\n",
    "\n",
    "As part of signing up, you get a sheet of paper (your puzzle input) that lists the time allowed for each race and also the best distance ever recorded in that race. To guarantee you win the grand prize, you need to make sure you go farther in each race than the current record holder.\n",
    "\n",
    "The organizer brings you over to the area where the boat races are held. The boats are much smaller than you expected - they're actually toy boats, each with a big button on top. Holding down the button charges the boat, and releasing the button allows the boat to move. Boats move faster if their button was held longer, but time spent holding the button counts against the total race time. You can only hold the button at the start of the race, and boats don't move until the button is released.\n",
    "\n",
    "For example:\n",
    "\n",
    "Time:      7  15   30\n",
    "Distance:  9  40  200\n",
    "\n",
    "This document describes three races:\n",
    "\n",
    "    The first race lasts 7 milliseconds. The record distance in this race is 9 millimeters.\n",
    "    The second race lasts 15 milliseconds. The record distance in this race is 40 millimeters.\n",
    "    The third race lasts 30 milliseconds. The record distance in this race is 200 millimeters.\n",
    "\n",
    "Your toy boat has a starting speed of zero millimeters per millisecond. For each whole millisecond you spend at the beginning of the race holding down the button, the boat's speed increases by one millimeter per millisecond.\n",
    "\n",
    "So, because the first race lasts 7 milliseconds, you only have a few options:\n",
    "\n",
    "    Don't hold the button at all (that is, hold it for 0 milliseconds) at the start of the race. The boat won't move; it will have traveled 0 millimeters by the end of the race.\n",
    "    Hold the button for 1 millisecond at the start of the race. Then, the boat will travel at a speed of 1 millimeter per millisecond for 6 milliseconds, reaching a total distance traveled of 6 millimeters.\n",
    "    Hold the button for 2 milliseconds, giving the boat a speed of 2 millimeters per millisecond. It will then get 5 milliseconds to move, reaching a total distance of 10 millimeters.\n",
    "    Hold the button for 3 milliseconds. After its remaining 4 milliseconds of travel time, the boat will have gone 12 millimeters.\n",
    "    Hold the button for 4 milliseconds. After its remaining 3 milliseconds of travel time, the boat will have gone 12 millimeters.\n",
    "    Hold the button for 5 milliseconds, causing the boat to travel a total of 10 millimeters.\n",
    "    Hold the button for 6 milliseconds, causing the boat to travel a total of 6 millimeters.\n",
    "    Hold the button for 7 milliseconds. That's the entire duration of the race. You never let go of the button. The boat can't move until you let go of the button. Please make sure you let go of the button so the boat gets to move. 0 millimeters.\n",
    "\n",
    "Since the current record for this race is 9 millimeters, there are actually 4 different ways you could win: you could hold the button for 2, 3, 4, or 5 milliseconds at the start of the race.\n",
    "\n",
    "In the second race, you could hold the button for at least 4 milliseconds and at most 11 milliseconds and beat the record, a total of 8 different ways to win.\n",
    "\n",
    "In the third race, you could hold the button for at least 11 milliseconds and no more than 19 milliseconds and still beat the record, a total of 9 ways you could win.\n",
    "\n",
    "To see how much margin of error you have, determine the number of ways you can beat the record in each race; in this example, if you multiply these values together, you get 288 (4 * 8 * 9).\n",
    "\n",
    "Determine the number of ways you could beat the record in each race. What do you get if you multiply these numbers together?"
   ]
  },
  {
   "cell_type": "code",
   "execution_count": 99,
   "metadata": {},
   "outputs": [],
   "source": [
    "import backend\n",
    "import re\n",
    "import numpy as np\n",
    "import matplotlib.pyplot as plt\n",
    "\n",
    "testInput = \"\"\"Time:      7  15   30\n",
    "Distance:  9  40  200\"\"\"\n",
    "testResult = 288\n",
    "actualInput = open(\"inputs/day6.txt\").read()"
   ]
  },
  {
   "cell_type": "code",
   "execution_count": null,
   "metadata": {},
   "outputs": [],
   "source": [
    "\n",
    "def calculate_distances(buttonTimes : np.array, raceTime : int) -> np.array:\n",
    "    return buttonTimes * (raceTime - buttonTimes)\n",
    "\n",
    "\n",
    "def day6_part1(input) -> int:\n",
    "    _, times, records = tuple(re.split(\":\", input))\n",
    "    times = np.array([int(time) for time in re.findall(r\"\\d+\",times)])\n",
    "    records = np.array([int(record) for record in re.findall(r\"\\d+\",records)])\n",
    "    nWays = np.array([])\n",
    "    for time, record in zip(times, records):\n",
    "        nWays = np.append(nWays, np.sum(calculate_distances(np.arange(time), time) > record))\n",
    "    return nWays.prod()\n"
   ]
  },
  {
   "cell_type": "code",
   "execution_count": 101,
   "metadata": {},
   "outputs": [
    {
     "name": "stdout",
     "output_type": "stream",
     "text": [
      "Completed in  0.00 seconds.\n",
      "Answer: \n",
      "288.0\n",
      "Test succeeded.\n"
     ]
    }
   ],
   "source": [
    "backend.test(day6_part1, 288, input = testInput)"
   ]
  },
  {
   "cell_type": "code",
   "execution_count": 102,
   "metadata": {},
   "outputs": [
    {
     "name": "stdout",
     "output_type": "stream",
     "text": [
      "Completed in  0.00 seconds.\n",
      "Answer: \n",
      "211904.0\n"
     ]
    },
    {
     "data": {
      "text/plain": [
       "211904.0"
      ]
     },
     "execution_count": 102,
     "metadata": {},
     "output_type": "execute_result"
    }
   ],
   "source": [
    "backend.run(day6_part1, input = actualInput)"
   ]
  },
  {
   "cell_type": "markdown",
   "metadata": {},
   "source": [
    "## Part 2\n",
    "\n",
    "As the race is about to start, you realize the piece of paper with race times and record distances you got earlier actually just has very bad kerning. There's really only one race - ignore the spaces between the numbers on each line.\n",
    "\n",
    "So, the example from before:\n",
    "\n",
    "Time:      7  15   30\n",
    "Distance:  9  40  200\n",
    "\n",
    "...now instead means this:\n",
    "\n",
    "Time:      71530\n",
    "Distance:  940200\n",
    "\n",
    "Now, you have to figure out how many ways there are to win this single race. In this example, the race lasts for 71530 milliseconds and the record distance you need to beat is 940200 millimeters. You could hold the button anywhere from 14 to 71516 milliseconds and beat the record, a total of 71503 ways!\n",
    "\n",
    "How many ways can you beat the record in this one much longer race?"
   ]
  },
  {
   "cell_type": "markdown",
   "metadata": {},
   "source": [
    "### Solution methodology\n",
    "\n",
    "The numbers are getting quite large now, we might as well solve the problem using some basic maths:\n",
    "Given the button time $t$ and race time $T$ we can express the distance $d(t)$ as follows:\n",
    "$$d(t)=t(T-t)=-t^2 + Tt$$\n",
    "If we then let $R$ denote the record we can solve $d(t)=R$ as follows:\n",
    "\\begin{align*}\n",
    "-t^2 + Tt &= R\\\\\n",
    "t^2 -Tt &= -R\\\\\n",
    "(t-\\frac{1}{2}T)^2 -\\frac{1}{4}T^2 &= -R\\\\\n",
    "(t-\\frac{1}{2}T)^2 &= \\frac{1}{4}T^2 - R\\\\\n",
    "t-\\frac{1}{2}T &= \\pm \\sqrt{\\frac{1}{4}T^2 - R}\\\\\n",
    "t &= \\pm \\sqrt{\\frac{1}{4}T^2 - R} + \\frac{1}{2}T\n",
    "\\end{align*}\n",
    "Of course, the lower of the two solutions should be rounded up, whereas the other should be rounded down:"
   ]
  },
  {
   "cell_type": "code",
   "execution_count": 129,
   "metadata": {},
   "outputs": [],
   "source": [
    "def solve(T : int, R : int) -> tuple:\n",
    "    return -1*np.sqrt(0.25*T**2-R) + 0.5*T, 1*np.sqrt(0.25*T**2-R) + 0.5*T\n",
    "\n",
    "def day6_part2(input) -> int:\n",
    "    _, times, records = tuple(re.split(\":\", input))\n",
    "    time = int(\"\".join([time for time in re.findall(r\"\\d+\",times)]))\n",
    "    record = int(\"\".join([record for record in re.findall(r\"\\d+\",records)]))\n",
    "    tMin, tMax = solve(time, record)\n",
    "    print(tMin, tMax)\n",
    "    return np.ceil(tMax) - np.floor(tMin)\n"
   ]
  },
  {
   "cell_type": "code",
   "execution_count": 130,
   "metadata": {},
   "outputs": [
    {
     "name": "stdout",
     "output_type": "stream",
     "text": [
      "13.146551542253292 71516.85344845775\n",
      "Completed in  0.00 seconds.\n",
      "Answer: \n",
      "71504.0\n"
     ]
    },
    {
     "ename": "AssertionError",
     "evalue": "Test failed...",
     "output_type": "error",
     "traceback": [
      "\u001b[1;31m---------------------------------------------------------------------------\u001b[0m",
      "\u001b[1;31mAssertionError\u001b[0m                            Traceback (most recent call last)",
      "Cell \u001b[1;32mIn[130], line 1\u001b[0m\n\u001b[1;32m----> 1\u001b[0m \u001b[43mbackend\u001b[49m\u001b[38;5;241;43m.\u001b[39;49m\u001b[43mtest\u001b[49m\u001b[43m(\u001b[49m\u001b[43mday6_part2\u001b[49m\u001b[43m,\u001b[49m\u001b[43m \u001b[49m\u001b[38;5;241;43m71503\u001b[39;49m\u001b[43m,\u001b[49m\u001b[43m \u001b[49m\u001b[38;5;28;43minput\u001b[39;49m\u001b[43m \u001b[49m\u001b[38;5;241;43m=\u001b[39;49m\u001b[43m \u001b[49m\u001b[43mtestInput\u001b[49m\u001b[43m)\u001b[49m\n",
      "File \u001b[1;32mc:\\Users\\Lars Kwant\\Documents\\GitHub\\AdventOfCode\\2023\\backend.py:13\u001b[0m, in \u001b[0;36mtest\u001b[1;34m(function, expectedResult, **kwargs)\u001b[0m\n\u001b[0;32m     11\u001b[0m \u001b[38;5;28;01mdef\u001b[39;00m \u001b[38;5;21mtest\u001b[39m(function : \u001b[38;5;28mcallable\u001b[39m, expectedResult, \u001b[38;5;241m*\u001b[39m\u001b[38;5;241m*\u001b[39mkwargs):\n\u001b[0;32m     12\u001b[0m     result \u001b[38;5;241m=\u001b[39m run(function, \u001b[38;5;241m*\u001b[39m\u001b[38;5;241m*\u001b[39mkwargs)\n\u001b[1;32m---> 13\u001b[0m     \u001b[38;5;28;01massert\u001b[39;00m result \u001b[38;5;241m==\u001b[39m expectedResult, \u001b[38;5;124m\"\u001b[39m\u001b[38;5;124mTest failed...\u001b[39m\u001b[38;5;124m\"\u001b[39m\n\u001b[0;32m     14\u001b[0m     \u001b[38;5;28mprint\u001b[39m(\u001b[38;5;124m\"\u001b[39m\u001b[38;5;124mTest succeeded.\u001b[39m\u001b[38;5;124m\"\u001b[39m)\n",
      "\u001b[1;31mAssertionError\u001b[0m: Test failed..."
     ]
    }
   ],
   "source": [
    "backend.test(day6_part2, 71503, input = testInput)"
   ]
  },
  {
   "cell_type": "code",
   "execution_count": 131,
   "metadata": {},
   "outputs": [
    {
     "name": "stdout",
     "output_type": "stream",
     "text": [
      "6676763.934021793 50041235.06597821\n",
      "Completed in  0.00 seconds.\n",
      "Answer: \n",
      "43364473.0\n"
     ]
    },
    {
     "data": {
      "text/plain": [
       "43364473.0"
      ]
     },
     "execution_count": 131,
     "metadata": {},
     "output_type": "execute_result"
    }
   ],
   "source": [
    "backend.run(day6_part2, input = actualInput)"
   ]
  }
 ],
 "metadata": {
  "kernelspec": {
   "display_name": "Python 3",
   "language": "python",
   "name": "python3"
  },
  "language_info": {
   "codemirror_mode": {
    "name": "ipython",
    "version": 3
   },
   "file_extension": ".py",
   "mimetype": "text/x-python",
   "name": "python",
   "nbconvert_exporter": "python",
   "pygments_lexer": "ipython3",
   "version": "3.12.2"
  }
 },
 "nbformat": 4,
 "nbformat_minor": 2
}
