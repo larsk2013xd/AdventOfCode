{
 "cells": [
  {
   "cell_type": "markdown",
   "metadata": {},
   "source": [
    "# Day 8 : <a href=\"https://adventofcode.com/2023/day/8\">Haunted Wasteland</a>\n",
    "\n",
    "## Part 1\n",
    "\n",
    "~Description~\n"
   ]
  },
  {
   "cell_type": "markdown",
   "metadata": {},
   "source": [
    "We start off by importing the regular tools, such as the <a href='backend.py'>backend</a>. We also load in the test data and set its test result."
   ]
  },
  {
   "cell_type": "code",
   "execution_count": 2,
   "metadata": {},
   "outputs": [
    {
     "name": "stdout",
     "output_type": "stream",
     "text": [
      "[Parse]\n",
      "[Parse of inputs/day8.txt]\n",
      ".\n",
      ".\n",
      ".\n",
      ".\n",
      "\n"
     ]
    },
    {
     "data": {
      "text/plain": [
       "'LLR\\n\\nAAA = (BBB, BBB)\\nBBB = (AAA, ZZZ)\\nZZZ = (ZZZ, ZZZ)'"
      ]
     },
     "execution_count": 2,
     "metadata": {},
     "output_type": "execute_result"
    }
   ],
   "source": [
    "import backend\n",
    "import re\n",
    "\n",
    "testInput = backend.parseInput(\"\"\"LLR\n",
    "\n",
    "AAA = (BBB, BBB)\n",
    "BBB = (AAA, ZZZ)\n",
    "ZZZ = (ZZZ, ZZZ)\"\"\", parseFunction= None, printAll=True)\n",
    "\n",
    "testResult = 2\n",
    "\n",
    "actualInput = backend.parseInput(open(\"inputs/day8.txt\"), parseFunction= None)\n",
    "\n",
    "testInput"
   ]
  },
  {
   "cell_type": "markdown",
   "metadata": {},
   "source": []
  },
  {
   "cell_type": "code",
   "execution_count": 3,
   "metadata": {},
   "outputs": [],
   "source": [
    "def destination(options : tuple, instruction : str) -> str:\n",
    "    return options[instruction.lower() == \"r\"]\n",
    "\n",
    "def actOnInstructionset(map : str, start = \"AAA\", end = \"ZZZ\"):\n",
    "    loc = start\n",
    "    instructions = getInstructionSet(map)\n",
    "    i = 0\n",
    "    while loc != end:\n",
    "        destinations = getDestinations(loc, map)\n",
    "        instruction = instructions[i % len(instructions)]\n",
    "        loc= destination(destinations, instruction)\n",
    "        i += 1\n",
    "    return i\n",
    "\n",
    "def getInstructionSet(map : str) -> str:\n",
    "    return re.match(r\"[RL]+\", map).group(0)\n",
    "\n",
    "def getDestinations(source : str, map : str) -> tuple:\n",
    "    matches = re.search(rf\"{source} = \\((.+), (.+)\\)\", map)\n",
    "    return (matches.group(1), matches.group(2))\n"
   ]
  },
  {
   "cell_type": "code",
   "execution_count": 4,
   "metadata": {},
   "outputs": [
    {
     "name": "stdout",
     "output_type": "stream",
     "text": [
      "Answer: 6            0.000457 seconds\n",
      "Test succeeded.\n"
     ]
    }
   ],
   "source": [
    "backend.test(actOnInstructionset, 6, map = testInput)"
   ]
  },
  {
   "cell_type": "code",
   "execution_count": 5,
   "metadata": {},
   "outputs": [
    {
     "name": "stdout",
     "output_type": "stream",
     "text": [
      "Answer: 22357            0.294622 seconds\n"
     ]
    },
    {
     "data": {
      "text/plain": [
       "22357"
      ]
     },
     "execution_count": 5,
     "metadata": {},
     "output_type": "execute_result"
    }
   ],
   "source": [
    "backend.run(actOnInstructionset, map = actualInput)"
   ]
  },
  {
   "cell_type": "code",
   "execution_count": 6,
   "metadata": {},
   "outputs": [],
   "source": [
    "def actOnInstructionset(map : str, start = \"AAA\", end = \"ZZZ\"):\n",
    "    loc = start\n",
    "    instructions = getInstructionSet(map)\n",
    "    i = 0\n",
    "    while loc != end:\n",
    "        destinations = getDestinations(loc, map)\n",
    "        instruction = instructions[i % len(instructions)]\n",
    "        loc= destination(destinations, instruction)\n",
    "        i += 1\n",
    "    return i"
   ]
  }
 ],
 "metadata": {
  "kernelspec": {
   "display_name": "Python 3",
   "language": "python",
   "name": "python3"
  },
  "language_info": {
   "codemirror_mode": {
    "name": "ipython",
    "version": 3
   },
   "file_extension": ".py",
   "mimetype": "text/x-python",
   "name": "python",
   "nbconvert_exporter": "python",
   "pygments_lexer": "ipython3",
   "version": "3.12.2"
  }
 },
 "nbformat": 4,
 "nbformat_minor": 2
}
