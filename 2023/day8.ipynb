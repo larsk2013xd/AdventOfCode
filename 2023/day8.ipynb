{
 "cells": [
  {
   "cell_type": "markdown",
   "metadata": {},
   "source": [
    "# Day 8 : <a href=\"https://adventofcode.com/2023/day/8\">Haunted Wasteland</a>\n",
    "\n",
    "## Part 1\n",
    "\n",
    "\n"
   ]
  },
  {
   "cell_type": "code",
   "execution_count": 5,
   "metadata": {},
   "outputs": [
    {
     "name": "stdout",
     "output_type": "stream",
     "text": [
      "[Parse]\n",
      "RL\n",
      "AAA = (BBB, CCC)\n",
      "BBB = (DDD, EEE)\n",
      "CCC = (ZZZ, GGG)\n",
      "DDD = (DDD, DDD)\n",
      ".\n",
      ".\n",
      ".\n",
      ".\n",
      "\n",
      "[Parse of inputs/day8.txt]\n",
      "LRLRRLLRRLRLRRLLRRLRRLLRRLRRRLRRLRRLRRRLRRLRLRLRLLLRRRLRLLRRLRLRRRLRRLLRRLRRRLRRLRLRLRRRLRLRRRLLRLLRRLRRRLLRRLRLLLRRLRLRLLRRLRLRRRLLRLLRRRLRLLRRRLRRLRRLRRRLRRRLLRLLRRRLRRRLRRLRRRLLRRRLRLRRLLRRLRLRLRRLRRLRLLRRRLRRRLLLRLRLRRRLLRRLRRRLRLRRLLRRLRRLLRLRLRRRLRLRLRLRRRLRLLRRRLRRRLRRLLLRRRR\n",
      "\n",
      "LCP = (FQJ, JGH)\n",
      "FFQ = (PJQ, GPP)\n",
      "NQP = (LFH, SCS)\n",
      ".\n",
      ".\n",
      ".\n",
      ".\n",
      "\n"
     ]
    }
   ],
   "source": [
    "import backend\n",
    "\n",
    "testInput = backend.parseInput(\"\"\"RL\n",
    "AAA = (BBB, CCC)\n",
    "BBB = (DDD, EEE)\n",
    "CCC = (ZZZ, GGG)\n",
    "DDD = (DDD, DDD)\n",
    "EEE = (EEE, EEE)\n",
    "GGG = (GGG, GGG)\n",
    "ZZZ = (ZZZ, ZZZ)\"\"\")\n",
    "actualInput = backend.parseInput(open(\"inputs/day8.txt\"))\n"
   ]
  }
 ],
 "metadata": {
  "kernelspec": {
   "display_name": "Python 3",
   "language": "python",
   "name": "python3"
  },
  "language_info": {
   "codemirror_mode": {
    "name": "ipython",
    "version": 3
   },
   "file_extension": ".py",
   "mimetype": "text/x-python",
   "name": "python",
   "nbconvert_exporter": "python",
   "pygments_lexer": "ipython3",
   "version": "3.12.2"
  }
 },
 "nbformat": 4,
 "nbformat_minor": 2
}
