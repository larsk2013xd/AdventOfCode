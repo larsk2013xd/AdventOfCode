{
 "cells": [
  {
   "cell_type": "markdown",
   "metadata": {},
   "source": [
    "# Advent of code 2024\n",
    "\n",
    "It's time for AOC 2024! This time, I will put all answers in one notebook, so we can get a nice overview of runtimes and answers over time. To brighten things up a bit, I added some (AI generated, progressively worsening) images corresponding to the problem description. "
   ]
  },
  {
   "cell_type": "code",
   "execution_count": 1,
   "metadata": {},
   "outputs": [],
   "source": [
    "import backend\n",
    "import re\n",
    "from itertools import combinations, combinations_with_replacement, permutations\n",
    "from collections import deque\n",
    "import time\n",
    "import cProfile\n",
    "import pstats\n",
    "backend.run_results = list()"
   ]
  },
  {
   "cell_type": "markdown",
   "metadata": {},
   "source": [
    "<img src='notebook_images/day1.webp'/>\n",
    "\n",
    "# Day 1 : <a href=\"https://adventofcode.com/2024/day/1\">Historian Hysteria</a>\n",
    "\n",
    "## Part 1\n",
    "\n",
    "For our first problem we will need to sort two lists, and take the sum of each pair of numbers in the sorted lists. Again, I will use my file parser to convert the input to some tuples, and convert them into a NumPy array."
   ]
  },
  {
   "cell_type": "code",
   "execution_count": 2,
   "metadata": {},
   "outputs": [
    {
     "name": "stdout",
     "output_type": "stream",
     "text": [
      "__________ Input to be parsed __________\n",
      "3   4\n",
      "4   3\n",
      "2   5\n",
      "1   3\n",
      "3   9\n",
      "... and maybe more\n",
      "____________________\n",
      "__________ Parsed input __________\n",
      "(3, 4)\n",
      "(4, 3)\n",
      "(2, 5)\n",
      "(1, 3)\n",
      "(3, 9)\n",
      "... and maybe more\n",
      "____________________\n",
      "Answer: 11            0.000011 seconds\n",
      "Test succeeded.\n"
     ]
    }
   ],
   "source": [
    "test_input = backend.parseInput(\"\"\"3   4\n",
    "4   3\n",
    "2   5\n",
    "1   3\n",
    "3   9\n",
    "3   3\"\"\", parseMethod = backend.parseInts)\n",
    "\n",
    "\n",
    "def day_1_part_1(lines : list):\n",
    "    first_list = sorted(tuple(line[0] for line in lines))\n",
    "    second_list = sorted(tuple(line[1] for line in lines))\n",
    "    differences = (abs(first_list[i] - second_list[i]) for i in range(len(first_list)))\n",
    "    return(sum(differences))\n",
    "\n",
    "backend.test(day_1_part_1, test_input, 11)\n"
   ]
  },
  {
   "cell_type": "code",
   "execution_count": 3,
   "metadata": {},
   "outputs": [
    {
     "name": "stdout",
     "output_type": "stream",
     "text": [
      "__________ Input to be parsed __________\n",
      "76309   75213\n",
      "79731   28444\n",
      "29583   71339\n",
      "60992   99148\n",
      "34680   74530\n",
      "... and maybe more\n",
      "____________________\n",
      "__________ Parsed input __________\n",
      "(76309, 75213)\n",
      "(79731, 28444)\n",
      "(29583, 71339)\n",
      "(60992, 99148)\n",
      "(34680, 74530)\n",
      "... and maybe more\n",
      "____________________\n",
      "Answer for day 1 part 1: 1110981  Average time  0.000648 seconds [51 runs]\n"
     ]
    },
    {
     "data": {
      "text/plain": [
       "1110981"
      ]
     },
     "execution_count": 3,
     "metadata": {},
     "output_type": "execute_result"
    }
   ],
   "source": [
    "real_input = backend.parseInput(open(\"inputs/day1.txt\").read(), backend.parseInts)\n",
    "\n",
    "backend.run(day_1_part_1, real_input, 1, 1)"
   ]
  },
  {
   "cell_type": "markdown",
   "metadata": {},
   "source": [
    "That was easy! Now on to part 2."
   ]
  },
  {
   "cell_type": "markdown",
   "metadata": {},
   "source": [
    "## Part 2\n",
    "\n",
    "It turns out that our first list contains ID's and we need to count each ID in the second list. We multiply the ID by the number of occurences in the second list, to obtain the <b>Similarity score</b>."
   ]
  },
  {
   "cell_type": "code",
   "execution_count": 4,
   "metadata": {},
   "outputs": [
    {
     "name": "stdout",
     "output_type": "stream",
     "text": [
      "Answer: 31            0.000009 seconds\n",
      "Test succeeded.\n"
     ]
    }
   ],
   "source": [
    "def day_1_part_2(lines : list):\n",
    "    first_list = tuple(line[0] for line in lines)\n",
    "    second_list = tuple(line[1] for line in lines)\n",
    "    similarity_scores = map(lambda e: e * second_list.count(e), first_list)\n",
    "    return(sum(similarity_scores))\n",
    "    \n",
    "backend.test(day_1_part_2, test_input, 31)"
   ]
  },
  {
   "cell_type": "code",
   "execution_count": 5,
   "metadata": {},
   "outputs": [
    {
     "name": "stdout",
     "output_type": "stream",
     "text": [
      "Answer for day 1 part 2: 24869388  Average time  0.009662 seconds [51 runs]\n"
     ]
    },
    {
     "data": {
      "text/plain": [
       "24869388"
      ]
     },
     "execution_count": 5,
     "metadata": {},
     "output_type": "execute_result"
    }
   ],
   "source": [
    "backend.run(day_1_part_2, real_input, 1, 2)"
   ]
  },
  {
   "cell_type": "markdown",
   "metadata": {},
   "source": [
    "Day 1 was quite doable, as ever with AOC. Let's see what day 2 brings us!"
   ]
  },
  {
   "cell_type": "markdown",
   "metadata": {},
   "source": [
    "<img src='notebook_images/day2.webp'/>\n",
    "\n",
    "# Day 2 : <a href=\"https://adventofcode.com/2024/day/2\">Red-Nosed Reports</a>\n",
    "\n",
    "Today, we are tasked with classifying reports whether they are either <b>safe</b> or <b>unsafe</b>.\n",
    "Safe reports contain numbers in strictly increasing or strictly decreasing order (i.e. monotonic), where the increments, or decrements do not exceed 3.\n",
    "\n",
    "For this, I introduce a function called `diff_tuple` which generates a tuple that represents the running difference of another tuple.\n",
    "\n",
    "## Part 1\n"
   ]
  },
  {
   "cell_type": "code",
   "execution_count": 6,
   "metadata": {},
   "outputs": [
    {
     "name": "stdout",
     "output_type": "stream",
     "text": [
      "__________ Input to be parsed __________\n",
      "7 6 4 2 1\n",
      "1 2 7 8 9\n",
      "9 7 6 2 1\n",
      "1 3 2 4 5\n",
      "8 6 4 4 1\n",
      "... and maybe more\n",
      "____________________\n",
      "__________ Parsed input __________\n",
      "(7, 6, 4, 2, 1)\n",
      "(1, 2, 7, 8, 9)\n",
      "(9, 7, 6, 2, 1)\n",
      "(1, 3, 2, 4, 5)\n",
      "(8, 6, 4, 4, 1)\n",
      "... and maybe more\n",
      "____________________\n",
      "Answer: 2            0.000044 seconds\n",
      "Test succeeded.\n"
     ]
    }
   ],
   "source": [
    "test_input = backend.parseInput(\"\"\"7 6 4 2 1\n",
    "1 2 7 8 9\n",
    "9 7 6 2 1\n",
    "1 3 2 4 5\n",
    "8 6 4 4 1\n",
    "1 3 6 7 9\"\"\", parseMethod = backend.parseInts)\n",
    "\n",
    "def diff_tuple(t : tuple) -> tuple:\n",
    "    \"\"\"Returns a tuple with the one-step differences\"\"\"\n",
    "    return tuple(t[i + 1] - t[i] for i in range(len(t)-1))\n",
    "\n",
    "def is_monotonic_tuple(t : tuple) -> bool:\n",
    "    \"\"\"Check is a tuple either strictly increases or decreases\"\"\"\n",
    "    diff_t = diff_tuple(t)\n",
    "    return min(diff_t) * max(diff_t) > 0\n",
    "\n",
    "def is_safe(report : tuple) -> bool:\n",
    "    monotonic = is_monotonic_tuple(report)\n",
    "    safe_abs_change = max(diff_tuple(report)) <= 3 and min(diff_tuple(report)) >= -3\n",
    "    return(monotonic * safe_abs_change)\n",
    "\n",
    "def day_2_part_1(reports : list):\n",
    "    map_obj = map(is_safe, reports)\n",
    "    return(sum(map_obj))\n",
    "\n",
    "backend.test(day_2_part_1, test_input, 2)"
   ]
  },
  {
   "cell_type": "code",
   "execution_count": 7,
   "metadata": {},
   "outputs": [
    {
     "name": "stdout",
     "output_type": "stream",
     "text": [
      "__________ Input to be parsed __________\n",
      "20 21 24 25 27 29 27\n",
      "60 61 62 64 64\n",
      "15 18 21 22 25 26 30\n",
      "5 8 11 14 16 19 20 26\n",
      "20 22 20 23 24\n",
      "... and maybe more\n",
      "____________________\n",
      "__________ Parsed input __________\n",
      "(20, 21, 24, 25, 27, 29, 27)\n",
      "(60, 61, 62, 64, 64)\n",
      "(15, 18, 21, 22, 25, 26, 30)\n",
      "(5, 8, 11, 14, 16, 19, 20, 26)\n",
      "(20, 22, 20, 23, 24)\n",
      "... and maybe more\n",
      "____________________\n",
      "Answer for day 2 part 1: 526  Average time  0.006496 seconds [51 runs]\n"
     ]
    },
    {
     "data": {
      "text/plain": [
       "526"
      ]
     },
     "execution_count": 7,
     "metadata": {},
     "output_type": "execute_result"
    }
   ],
   "source": [
    "real_input = backend.parseInput(open(\"inputs/day2.txt\").read(), parseMethod = backend.parseInts)\n",
    "backend.run(day_2_part_1, real_input, 2, 1)"
   ]
  },
  {
   "cell_type": "markdown",
   "metadata": {},
   "source": [
    "## Part 2\n",
    "\n",
    "It turns out that the facility contains a <b>problem dampener</b>, that can remove a single element from a report to make it safe. We now need to figure out how many reports are safe after the problem dampener removed a single element from a report to make it safe (if possible). For this, I use a simple approach by checking whether we obtain a safe list by removing any element from the report."
   ]
  },
  {
   "cell_type": "code",
   "execution_count": 8,
   "metadata": {},
   "outputs": [
    {
     "name": "stdout",
     "output_type": "stream",
     "text": [
      "Answer: 4            0.000174 seconds\n",
      "Test succeeded.\n"
     ]
    }
   ],
   "source": [
    "def list_without(l : list, i: int) -> list:\n",
    "    \"\"\"Returns a list with index i removed\"\"\"\n",
    "    l_copy = l.copy()\n",
    "    l_copy.pop(i)\n",
    "    return(l_copy)\n",
    "\n",
    "def problem_dampener(report : tuple):\n",
    "    if is_safe(report) : return True\n",
    "    report_list = list(report)\n",
    "    return(sum(map(lambda e : is_safe(list_without(report_list, e)), range(len(report_list)))) > 0)\n",
    "    \n",
    "def day_2_part_2(input):\n",
    "    map_obj = map(problem_dampener, [report for report in input])\n",
    "    return(sum(map_obj))\n",
    "\n",
    "backend.test(day_2_part_2, test_input, 4)"
   ]
  },
  {
   "cell_type": "code",
   "execution_count": 9,
   "metadata": {},
   "outputs": [
    {
     "name": "stdout",
     "output_type": "stream",
     "text": [
      "Answer for day 2 part 2: 566  Average time  0.021097 seconds [48 runs]\n"
     ]
    },
    {
     "data": {
      "text/plain": [
       "566"
      ]
     },
     "execution_count": 9,
     "metadata": {},
     "output_type": "execute_result"
    }
   ],
   "source": [
    "backend.run(day_2_part_2, real_input, 2, 2)"
   ]
  },
  {
   "cell_type": "markdown",
   "metadata": {},
   "source": [
    "<img src='notebook_images/day3.webp'/>\n",
    "\n",
    "# Day 3 : <a href=\"https://adventofcode.com/2024/day/3\">Mull It Over</a>\n",
    "\n",
    "Time for some <b>multiplication</b>! The owner of the Toboggan rental shop asks us to help carry out some corrupted multiplication instructions on their (probably worn out) computer.\n",
    "\n",
    "## Part 1\n",
    "We are tasked with finding all occurrences of instructions of the form `mul(x,y)` where `x` and `y` are 1 to 3 digit numbers. We are asked to find the sum of all the outcomes. In this case, I refrain from using my `backend` as we can use some simple regex to find all valid `mul` instructions:"
   ]
  },
  {
   "cell_type": "code",
   "execution_count": 10,
   "metadata": {},
   "outputs": [
    {
     "name": "stdout",
     "output_type": "stream",
     "text": [
      "Answer: 161            0.000020 seconds\n",
      "Test succeeded.\n"
     ]
    }
   ],
   "source": [
    "test_input = \"\"\"xmul(2,4)%&mul[3,7]!@^do_not_mul(5,5)+mul(32,64]then(mul(11,8)mul(8,5))\"\"\"\n",
    "def perform_mul(mul_instruction : str):\n",
    "    numbers = list(map(int,  re.findall(r\"\\d+\",mul_instruction)))\n",
    "    assert len(numbers) == 2, f\"Can only multiply if the multiplication instruction is of length two. Got {mul_instruction} as instruction instead.\"\n",
    "    return(numbers[0] * numbers[1])\n",
    "\n",
    "def day_3_part_1(input : str):\n",
    "    mul_instructions = re.findall(r\"mul\\(\\d+,\\d+\\)\", input)\n",
    "    return sum(map(perform_mul, mul_instructions))\n",
    "\n",
    "backend.test(day_3_part_1, test_input, 161)\n"
   ]
  },
  {
   "cell_type": "code",
   "execution_count": 11,
   "metadata": {},
   "outputs": [
    {
     "name": "stdout",
     "output_type": "stream",
     "text": [
      "Answer for day 3 part 1: 192767529  Average time  0.002412 seconds [51 runs]\n"
     ]
    },
    {
     "data": {
      "text/plain": [
       "192767529"
      ]
     },
     "execution_count": 11,
     "metadata": {},
     "output_type": "execute_result"
    }
   ],
   "source": [
    "real_input = open(\"inputs/day3.txt\").read()\n",
    "\n",
    "backend.run(day_3_part_1, real_input, 3, 1)"
   ]
  },
  {
   "cell_type": "markdown",
   "metadata": {},
   "source": [
    "## Part 2\n",
    "It turns out that our input file also contains additional instructions, namely `do()` and `don't()`, which tells us to carry out any instructions that follow, or ignore any of the following instructions. \n",
    "\n",
    "To solve this, I wrote a function that finds the locations of all `do()`, `don't()` and `mul()` instructions. A `mul()` instruction should be carried out if the largest `do()` location that comes before it is bigger than the largest `don't()` location that comes before it. We filter the `mul()` instructions, and once again apply the `perform_mul()` on all filtered instructions."
   ]
  },
  {
   "cell_type": "code",
   "execution_count": 12,
   "metadata": {},
   "outputs": [
    {
     "name": "stdout",
     "output_type": "stream",
     "text": [
      "Answer: 48            0.000054 seconds\n",
      "Test succeeded.\n"
     ]
    }
   ],
   "source": [
    "test_input = \"xmul(2,4)&mul[3,7]!^don't()_mul(5,5)+mul(32,64](mul(11,8)undo()?mul(8,5))\"\n",
    "\n",
    "def regexp_locs(input : str, r_exp : str) -> list:\n",
    "    \"\"\"Returns a list of locations where the regular expression was found\"\"\" \n",
    "    m_iterable = re.finditer(r_exp, input)\n",
    "    return [m.span()[0] for m in m_iterable]\n",
    "\n",
    "def smaller_elements(l : list, compare : int) -> list:\n",
    "    \"\"\"Returns a copy of l with only the elements smaller than 'compare'\"\"\"\n",
    "    return[li for li in l if li < compare]\n",
    "\n",
    "def should_carry_out_mul(mul_location : int, do_locations : list, dont_locations : list) -> bool:\n",
    "    \"\"\"Checks whether a mul corresponding to a location should be carried out\"\"\"\n",
    "    previous_do_locations = smaller_elements(do_locations, mul_location)\n",
    "    previous_dont_locations = smaller_elements(dont_locations, mul_location)\n",
    "    if len(previous_dont_locations) == 0 : return True\n",
    "    if len(previous_do_locations) == 0 : previous_do_locations = [-1]\n",
    "    latest_do = max(previous_do_locations)\n",
    "    latest_dont = max(previous_dont_locations)\n",
    "    return(latest_do > latest_dont)\n",
    "\n",
    "def filter_muls(input : str) -> list:\n",
    "    \"\"\"Returns a list of mul instructions after filtering the 'do' and 'dont' instructions.\"\"\"\n",
    "    # Look for locations of mul instructions\n",
    "    mul_locations = regexp_locs(input, r\"mul\\(\\d+,\\d+\\)\")\n",
    "    mul_instructions = re.findall(r\"mul\\(\\d+,\\d+\\)\", input)\n",
    "    do_locations = regexp_locs(input, r\"do\\(\\)\")\n",
    "    dont_locations = regexp_locs(input, r\"don't\\(\\)\")\n",
    "\n",
    "    unignored_locations = [location for location in mul_locations if should_carry_out_mul(location, do_locations, dont_locations)]\n",
    "    return([mul_instructions[mul_locations.index(i)] for i in unignored_locations])\n",
    "    \n",
    "def day_3_part_2(input : str):\n",
    "    return(sum(map(perform_mul, filter_muls(input))))\n",
    "\n",
    "backend.test(day_3_part_2, test_input, 48)"
   ]
  },
  {
   "cell_type": "code",
   "execution_count": 13,
   "metadata": {},
   "outputs": [
    {
     "name": "stdout",
     "output_type": "stream",
     "text": [
      "Answer for day 3 part 2: 104083373  Average time  0.007971 seconds [51 runs]\n"
     ]
    },
    {
     "data": {
      "text/plain": [
       "104083373"
      ]
     },
     "execution_count": 13,
     "metadata": {},
     "output_type": "execute_result"
    }
   ],
   "source": [
    "backend.run(day_3_part_2, real_input, 3, 2)"
   ]
  },
  {
   "cell_type": "markdown",
   "metadata": {},
   "source": [
    "<img src='notebook_images/day4.webp'/>\n",
    "\n",
    "# Day 4 : <a href=\"https://adventofcode.com/2024/day/4\">Ceres Search</a>\n",
    "\n",
    "If you take part in AOC you should like puzzles right? I do, but I definitely do not like crossword puzzles...\n",
    "\n",
    "## Part 1\n",
    "Today, we are tasked with solving a crossword puzzle. More specifically, we are given a crossword puzzle consisting of only the letters `X`, `M`, `A` and `S`. Funnily enough these letters spell `XMAS`. Which is exactly what we should look for. In this problem we need to count how many times the word `XMAS` appears, horizontally, vertically and diagonally. In regular or reversed order.\n",
    "\n",
    "In order to do so I create a function called `count_horizontals` which takes in a cross word puzzle and counts all occurrences of the word `XMAS`, in both directions. I can then transpose the crossword so the rows become columns and apply `count_horizontals` again. Finally, I create a function that takes all diagonal cuts of the crossword and we run `count_horizontals` on all diagonals as well. "
   ]
  },
  {
   "cell_type": "code",
   "execution_count": 14,
   "metadata": {},
   "outputs": [
    {
     "name": "stdout",
     "output_type": "stream",
     "text": [
      "__________ Input to be parsed __________\n",
      "MMMSXXMASM\n",
      "MSAMXMSMSA\n",
      "AMXSXMAAMM\n",
      "MSAMASMSMX\n",
      "XMASAMXAMM\n",
      "... and maybe more\n",
      "____________________\n",
      "__________ Parsed input __________\n",
      "MMMSXXMASM\n",
      "MSAMXMSMSA\n",
      "AMXSXMAAMM\n",
      "MSAMASMSMX\n",
      "XMASAMXAMM\n",
      "... and maybe more\n",
      "____________________\n",
      "Answer: 18            0.000362 seconds\n",
      "Test succeeded.\n"
     ]
    }
   ],
   "source": [
    "test_input = backend.parseInput(\"\"\"MMMSXXMASM\n",
    "MSAMXMSMSA\n",
    "AMXSXMAAMM\n",
    "MSAMASMSMX\n",
    "XMASAMXAMM\n",
    "XXAMMXXAMA\n",
    "SMSMSASXSS\n",
    "SAXAMASAAA\n",
    "MAMMMXMMMM\n",
    "MXMXAXMASX\"\"\")\n",
    "\n",
    "def horizontal_flipped_cw(crossword : list) -> list:\n",
    "    return [\"\".join(reversed(line)) for line in crossword]\n",
    "\n",
    "def get_diagonals(crossword : list) -> list:\n",
    "    n_col, n_row = len(crossword[0]), len(crossword)\n",
    "    lower_diag = [\"\".join(crossword[i+j][j] for j in range(n_col) if i + j < n_col) for i in range(n_row)]\n",
    "    upper_diag = [\"\".join(crossword[i][j + i] for i in range(n_row) if i + j < n_row) for j in range(n_col)][1:]\n",
    "    crossword = horizontal_flipped_cw(crossword) # Flip the crossword and add the other diagonals\n",
    "    lower_diag += [\"\".join(crossword[i+j][j] for j in range(n_col) if i + j < n_col) for i in range(n_row)]\n",
    "    upper_diag += [\"\".join(crossword[i][j + i] for i in range(n_row) if i + j < n_row) for j in range(n_col)][1:]\n",
    "    return(lower_diag + upper_diag) # The middle diagonal is double counted, so we ignore one of them\n",
    "\n",
    "def transposed_cw(crossword : list) -> list:\n",
    "    return [''.join(list(i)) for i in zip(*crossword)]\n",
    "\n",
    "def count_horizontals(crossword : list, word = \"xmas\") -> int:\n",
    "    \"\"\"Counts how many time the word appears horizontally in a crossword\"\"\"\n",
    "    left_to_right = sum(map(lambda w : len(re.findall(rf\"(?i){word}\", w)), crossword))\n",
    "    right_to_left = sum(map(lambda w : len(re.findall(rf\"(?i){word[::-1]}\", w)), crossword))\n",
    "    return(left_to_right + right_to_left)\n",
    "\n",
    "def count_verticals(crossword : list, word = \"xmas\") -> int:\n",
    "    \"\"\"Counts how many times the word appears vertically in a crossword\"\"\"\n",
    "    return(count_horizontals(transposed_cw(crossword), word))\n",
    "\n",
    "def count_diagonals(crossword : list, word = \"xmas\") -> int:\n",
    "    \"\"\"Counts how many times the word appears on the diagonals of a crossword\"\"\"\n",
    "    return count_horizontals(get_diagonals(crossword), word)\n",
    "\n",
    "def count_all(crossword : list, word = \"xmas\") -> int:\n",
    "    return count_diagonals(crossword, word) + count_horizontals(crossword, word) + count_verticals(crossword, word)\n",
    "\n",
    "backend.test(count_all, test_input, 18)"
   ]
  },
  {
   "cell_type": "code",
   "execution_count": 15,
   "metadata": {},
   "outputs": [
    {
     "name": "stdout",
     "output_type": "stream",
     "text": [
      "__________ Input to be parsed __________\n",
      "XMASAXMASXXMMAMAXAXXXMSASXSXSXMAMMAMXMASASXMXMASMSMSSMMSXMASXMSMXMASMMSSMMMSMMAMMSMMMMMSXMAXMSMMMMMSAXAXXXMASAMXXSXMXSSSMSMSXMAMXXXSAXSMSAMX\n",
      "MSMMMMSMXMXSSSSSSMSMSMSASAAXXASAXXMAXSMSAMMSAMSXAAAAXSAMXMASXMXMASAMXXAAAXMAMMAAMAMXAASAMMMSAMXMAASMSXMSMSMXMASMXMASXMAAXAAAXXSSSMMAMMXAXSXX\n",
      "AAAAAAAMMSAAMAAAXAAAAAMMMMMXMXMASXMSASXMAMAMASAMSMMMXMXSAMXSXMASXSAMXMSSMMSASXXSSMMSAMMASAAAAXXXSMSAAMXAAMSXSAMASAAMAMAMSMSMSMAAASAAXAMXMMMS\n",
      "SSSMMSSSSMSSMMMMMSMXMMMAAXXAXAMXMXAMASMSMMMSMMMXASAMXSMSXSAMAXAMAMASAMXAXXMAMXAAMXXMXMMAMMSSSMXXXAMXMAMMSMAXMASXXMASMMAXAAAXAAMMMMSXXSAMXAAA\n",
      "XMAXMXXMAAAXXXAMXXSMMMSMMSAMXMMMMMXMXMAAMAASAMXSAXXMAXAMXMMSSMSSSSMMASXMMMMAMSSMSMMAAXMASXAAAAASMMMSXSXAXMAMSAMXSSMSXMAMMXMSMSSXSAMXAAXXSMSS\n",
      "... and maybe more\n",
      "____________________\n",
      "__________ Parsed input __________\n",
      "XMASAXMASXXMMAMAXAXXXMSASXSXSXMAMMAMXMASASXMXMASMSMSSMMSXMASXMSMXMASMMSSMMMSMMAMMSMMMMMSXMAXMSMMMMMSAXAXXXMASAMXXSXMXSSSMSMSXMAMXXXSAXSMSAMX\n",
      "MSMMMMSMXMXSSSSSSMSMSMSASAAXXASAXXMAXSMSAMMSAMSXAAAAXSAMXMASXMXMASAMXXAAAXMAMMAAMAMXAASAMMMSAMXMAASMSXMSMSMXMASMXMASXMAAXAAAXXSSSMMAMMXAXSXX\n",
      "AAAAAAAMMSAAMAAAXAAAAAMMMMMXMXMASXMSASXMAMAMASAMSMMMXMXSAMXSXMASXSAMXMSSMMSASXXSSMMSAMMASAAAAXXXSMSAAMXAAMSXSAMASAAMAMAMSMSMSMAAASAAXAMXMMMS\n",
      "SSSMMSSSSMSSMMMMMSMXMMMAAXXAXAMXMXAMASMSMMMSMMMXASAMXSMSXSAMAXAMAMASAMXAXXMAMXAAMXXMXMMAMMSSSMXXXAMXMAMMSMAXMASXXMASMMAXAAAXAAMMMMSXXSAMXAAA\n",
      "XMAXMXXMAAAXXXAMXXSMMMSMMSAMXMMMMMXMXMAAMAASAMXSAXXMAXAMXMMSSMSSSSMMASXMMMMAMSSMSMMAAXMASXAAAAASMMMSXSXAXMAMSAMXSSMSXMAMMXMSMSSXSAMXAAXXSMSS\n",
      "... and maybe more\n",
      "____________________\n",
      "Answer for day 4 part 1: 2560  Average time  0.015192 seconds [51 runs]\n"
     ]
    },
    {
     "data": {
      "text/plain": [
       "2560"
      ]
     },
     "execution_count": 15,
     "metadata": {},
     "output_type": "execute_result"
    }
   ],
   "source": [
    "real_input = backend.parseInput(open(\"inputs/day4.txt\").read())\n",
    "backend.run(count_all, real_input, 4, 1)"
   ]
  },
  {
   "cell_type": "markdown",
   "metadata": {},
   "source": [
    "## Part 2"
   ]
  },
  {
   "cell_type": "markdown",
   "metadata": {},
   "source": [
    "It turns out that we didn't read the instructions correctly and that we actually need to look for `X-MAS` which means `MAS` spelled in the shape of an `X`.\n",
    "In order to do so I compute all the locations of the central element `A`, and do some checks on the elements that are on the left top, right top, left bottom and right bottom. \n"
   ]
  },
  {
   "cell_type": "code",
   "execution_count": 16,
   "metadata": {},
   "outputs": [
    {
     "name": "stdout",
     "output_type": "stream",
     "text": [
      "Answer: 9            0.000037 seconds\n",
      "Test succeeded.\n"
     ]
    }
   ],
   "source": [
    "def letter_locations(crossword : list, letter : str):\n",
    "    return list((i, j) for i in range(len(crossword)) for j in range(len(crossword)) if crossword[i][j] == letter)\n",
    "\n",
    "def count_mas(cw : list) -> int:\n",
    "    mas_count = 0\n",
    "    for loc in letter_locations(cw, \"A\"):\n",
    "        i, j = loc\n",
    "        # Filter locations at the edges\n",
    "        if i < 1 or j < 1: continue\n",
    "        if i >= len(cw) - 1 or j >= len(cw) - 1: continue\n",
    "        \n",
    "        l_top, r_top = cw[i-1][j-1], cw[i-1][j+1]\n",
    "        l_bot, r_bot = cw[i+1][j-1], cw[i+1][j+1]\n",
    "        if \"X\" in [l_top, r_top, l_bot, r_bot] : continue\n",
    "        if \"A\" in [l_top, r_top, l_bot, r_bot] : continue\n",
    "        if l_top == r_bot or r_top == l_bot : continue\n",
    "        mas_count += 1\n",
    "    return mas_count\n",
    "\n",
    "backend.test(count_mas, test_input, 9)"
   ]
  },
  {
   "cell_type": "code",
   "execution_count": 17,
   "metadata": {},
   "outputs": [
    {
     "name": "stdout",
     "output_type": "stream",
     "text": [
      "Answer for day 4 part 2: 1910  Average time  0.007264 seconds [51 runs]\n"
     ]
    },
    {
     "data": {
      "text/plain": [
       "1910"
      ]
     },
     "execution_count": 17,
     "metadata": {},
     "output_type": "execute_result"
    }
   ],
   "source": [
    "backend.run(count_mas, real_input, 4, 2)"
   ]
  },
  {
   "cell_type": "markdown",
   "metadata": {},
   "source": [
    "Funnily enough, part 2 took less time! I'm too lazy to reiterate through part 1 though. As long as we can solve all AOC problems in less than 1 second right?"
   ]
  },
  {
   "cell_type": "markdown",
   "metadata": {},
   "source": [
    "<img src='notebook_images/day5.webp'/>\n",
    "\n",
    "# Day 5 : <a href=\"https://adventofcode.com/2024/day/5\">Print Queue</a>\n",
    "\n",
    "## Part 1\n",
    "\n",
    "Today, we are given a set of <b>updating rules</b>, and <b>updates</b>. The updating rules are of the form `X|Y` telling us that when pages `X` and `Y` are in an update, page `X` must be printed before page `Y`. We are tasked with finding the updates that adhere to the rule set. Our answer is then the sum of the middle element of these updates."
   ]
  },
  {
   "cell_type": "code",
   "execution_count": 18,
   "metadata": {},
   "outputs": [],
   "source": [
    "test_input = backend.parseInput(\"\"\"47|53\n",
    "97|13\n",
    "97|61\n",
    "97|47\n",
    "75|29\n",
    "61|13\n",
    "75|53\n",
    "29|13\n",
    "97|29\n",
    "53|29\n",
    "61|53\n",
    "97|53\n",
    "61|29\n",
    "47|13\n",
    "75|47\n",
    "97|75\n",
    "47|61\n",
    "75|61\n",
    "47|29\n",
    "75|13\n",
    "53|13\n",
    "\n",
    "75,47,61,53,29\n",
    "97,61,53,29,13\n",
    "75,29,13\n",
    "75,97,47,61,53\n",
    "61,13,29\n",
    "97,13,75,29,47\"\"\",sections=backend.paragraphs, surpress=True)"
   ]
  },
  {
   "cell_type": "markdown",
   "metadata": {},
   "source": [
    "I created a function `split_rules_and_updates` that does some more parsing as my `backend` can only handle one split per time. (This is included in the run time). Then, I created a function called `pages_allowed_before` and `pages_allowed_after` that specify what pages are allowed to come before, or after a specified page number given the rule set.\n",
    "\n",
    "Then, I use `check_update` to confirm whether an update is valid. Suppose `97,13,75,29,47` is an update, and the rules are `97|13` and `75|13`.\n",
    "I iteratively go through the update and check for each page what numbers <b>may only</b> appear before it, and adding this to a set called `disallowed_pages`. In our example, there is no rule specifying any page may only preceed page 97, so we add no page to `disallowed_pages`. Page `13` may be preceeded by pages `97` and `75`. We add these pages to `disallowed_pages`. The next page is page `75` which is in the `disallowed_pages` as page `75` must always come before `13`. Hence this is an invalid update.\n",
    "\n",
    "This procedure is then applied on all updates."
   ]
  },
  {
   "cell_type": "code",
   "execution_count": 19,
   "metadata": {},
   "outputs": [
    {
     "name": "stdout",
     "output_type": "stream",
     "text": [
      "Answer: 143            0.000243 seconds\n",
      "Test succeeded.\n"
     ]
    }
   ],
   "source": [
    "def split_rules_and_updates(input : list) -> tuple:\n",
    "    \"\"\"Split the input into seperate lists containing rules and updates\"\"\"\n",
    "    rules = backend.parseInput(input[0], parseMethod = backend.parseInts, surpress = True)\n",
    "    updates = backend.parseInput(input[1], parseMethod = backend.parseInts, surpress = True)\n",
    "    return rules, updates\n",
    "\n",
    "def pages_allowed_before(rules : list, page_num : int) -> set:\n",
    "    \"\"\"Returns all pages that are allowed before a given page number\"\"\"\n",
    "    return set(n for n, k in rules if k == page_num)\n",
    "\n",
    "def pages_allowed_after(rules : list, page_num : int) -> set:\n",
    "    \"\"\"Returns all pages that are allowed after a given page number\"\"\"\n",
    "    return set(k for n, k in rules if n == page_num)\n",
    "\n",
    "def check_update(rules : list, update : tuple) -> bool:\n",
    "    \"\"\"Checks whether an update adheres to the rules\"\"\"\n",
    "    disallowed_pages = set()\n",
    "    for page_num in update:\n",
    "        if page_num in disallowed_pages : return False\n",
    "        disallowed_pages.update(pages_allowed_before(rules, page_num))\n",
    "    return True\n",
    "\n",
    "def valid_updates(rules : list, updates : list, invalid = False) -> list:\n",
    "    \"\"\"Returns a list of valid updates given rules. (Or invalid updates if invalid = True)\"\"\"\n",
    "    if invalid : return [update for update in updates if not check_update(rules, update)]\n",
    "    return [update for update in updates if check_update(rules, update)]\n",
    "\n",
    "def middle_element(i : list|tuple):\n",
    "    \"\"\"Returns the middle element of a list\"\"\"\n",
    "    return i[(len(i)-1)//2]\n",
    "\n",
    "backend.test(lambda i : sum(map(middle_element, valid_updates(*split_rules_and_updates(i)))), test_input, 143)"
   ]
  },
  {
   "cell_type": "code",
   "execution_count": 20,
   "metadata": {},
   "outputs": [
    {
     "name": "stdout",
     "output_type": "stream",
     "text": [
      "Answer for day 5 part 1: 6267  Average time  0.105681 seconds [10 runs]\n"
     ]
    },
    {
     "data": {
      "text/plain": [
       "6267"
      ]
     },
     "execution_count": 20,
     "metadata": {},
     "output_type": "execute_result"
    }
   ],
   "source": [
    "real_input = backend.parseInput(open(\"inputs/day5.txt\").read(), sections = backend.paragraphs, surpress = True)\n",
    "backend.run(lambda i : sum(map(middle_element, valid_updates(*split_rules_and_updates(i)))), real_input, 5, 1)"
   ]
  },
  {
   "cell_type": "markdown",
   "metadata": {},
   "source": [
    "## Part 2"
   ]
  },
  {
   "cell_type": "markdown",
   "metadata": {},
   "source": [
    "Now we need to <b>fix</b> all invalid updates, so that they adhere to the rule set. I saw this question coming so I allowed the `check_update` function to have an inverse parameter that checks whether an update is invalid. \n",
    "\n",
    "To fix an update, we find for each page number in an update <b>all</b> page numbers that are allowed to come after it. We then take the intersection with the elements of the update to only retrieve the <b>relevant</b> elements. \n",
    "\n",
    "The page number with the largest set of allowed pages that come after it must be first, as we will run out of pages otherwise in the end. We therefore sort the pages based on the size of the set of the allowed pages that may follow a given page number. This order ensures the update is valid."
   ]
  },
  {
   "cell_type": "code",
   "execution_count": 21,
   "metadata": {},
   "outputs": [
    {
     "name": "stdout",
     "output_type": "stream",
     "text": [
      "Answer: 123            0.000231 seconds\n",
      "Test succeeded.\n"
     ]
    }
   ],
   "source": [
    "def fix_invalid_update(rules : list, update : tuple) -> tuple:\n",
    "    cardinalities = list()\n",
    "    for page_num in update:\n",
    "        allowed_pages = pages_allowed_after(rules, page_num).intersection(update)\n",
    "        cardinalities.append(len(allowed_pages))\n",
    "    sorted_indexes = sorted(range(len(update)), key = lambda i : cardinalities[i], reverse = True)\n",
    "    fixed_update = tuple(update[i] for i in sorted_indexes)\n",
    "    return fixed_update\n",
    "\n",
    "def day_5_part_2(input):\n",
    "    rules, updates = split_rules_and_updates(input)\n",
    "    fixed_updates = [fix_invalid_update(rules, u) for u in valid_updates(rules, updates, invalid = True)]\n",
    "    return sum(map(middle_element, fixed_updates))\n",
    "\n",
    "backend.test(day_5_part_2, test_input, 123)"
   ]
  },
  {
   "cell_type": "code",
   "execution_count": 22,
   "metadata": {},
   "outputs": [
    {
     "name": "stdout",
     "output_type": "stream",
     "text": [
      "Answer for day 5 part 2: 5184  Average time  0.190453 seconds [6 runs]\n"
     ]
    },
    {
     "data": {
      "text/plain": [
       "5184"
      ]
     },
     "execution_count": 22,
     "metadata": {},
     "output_type": "execute_result"
    }
   ],
   "source": [
    "backend.run(day_5_part_2, real_input, 5, 2)"
   ]
  },
  {
   "cell_type": "markdown",
   "metadata": {},
   "source": [
    "<img src='notebook_images/day6.webp'/>\n",
    "\n",
    "# Day 6 : <a href=\"https://adventofcode.com/2024/day/6\">Guard Gallivant</a>\n",
    "\n",
    "## Part 1\n",
    "\n",
    "Today, we are given a map with obstacles where a guard walks around according to a simple rule. A guard walks straight ahead until an obstacle is right in front of him. Then the guard turns 90 degrees to the right, and continues. At one point the guard will leave the map. \n",
    "\n",
    "We need to find how many distinct location the guard visits on his patrol.\n"
   ]
  },
  {
   "cell_type": "code",
   "execution_count": 23,
   "metadata": {},
   "outputs": [
    {
     "name": "stdout",
     "output_type": "stream",
     "text": [
      "__________ Input to be parsed __________\n",
      "....#.....\n",
      ".........#\n",
      "..........\n",
      "..#.......\n",
      ".......#..\n",
      "... and maybe more\n",
      "____________________\n",
      "__________ Parsed input __________\n",
      "....#.....\n",
      ".........#\n",
      "..........\n",
      "..#.......\n",
      ".......#..\n",
      "... and maybe more\n",
      "____________________\n",
      "Answer: 41            0.000091 seconds\n",
      "Test succeeded.\n"
     ]
    }
   ],
   "source": [
    "test_input = backend.parseInput(\"\"\"....#.....\n",
    ".........#\n",
    "..........\n",
    "..#.......\n",
    ".......#..\n",
    "..........\n",
    ".#..^.....\n",
    "........#.\n",
    "#.........\n",
    "......#...\"\"\")\n",
    "\n",
    "def map_to_locs(map : list):\n",
    "    obstacle_locs = [complex(j, i) for i in range(len(map)) for j in range(len(map[0])) if map[i][j] == \"#\"]\n",
    "    guard_loc = [complex(j, i) for i in range(len(map)) for j in range(len(map[0])) if map[i][j] == \"^\"]\n",
    "    assert len(guard_loc) == 1, \"There should only be one guard location.\"\n",
    "    guard_loc = guard_loc[0]\n",
    "    return guard_loc, obstacle_locs, len(map)\n",
    "\n",
    "def iterate_path(c_pos : complex, obstacle_locs : list, map_size : int, initial_direction : complex):\n",
    "    obstacle_locs = set(obstacle_locs) # Make it a set\n",
    "    direction = initial_direction\n",
    "    visited_locations = set([c_pos])\n",
    "    obstacle_encounters = set()\n",
    "    while 0 <= c_pos.real < map_size and 0 <= c_pos.imag < map_size:\n",
    "        if (c_pos, direction) in obstacle_encounters : return False\n",
    "        if c_pos in obstacle_locs:\n",
    "            c_pos -= direction # Move one step back, as we are on an obstacle\n",
    "            obstacle_encounters.add((c_pos, direction)) # Add this pair of position and direction to the encounters\n",
    "            direction *= complex(0, 1) # Rotate right\n",
    "        visited_locations.add(c_pos) # Add this point to the visited locations\n",
    "        c_pos += direction # Move ahead\n",
    "    return visited_locations\n",
    "\n",
    "backend.test(lambda m : len(set(iterate_path(*map_to_locs(m), complex(0, -1)))), test_input, 41)"
   ]
  },
  {
   "cell_type": "code",
   "execution_count": 24,
   "metadata": {},
   "outputs": [
    {
     "name": "stdout",
     "output_type": "stream",
     "text": [
      "__________ Input to be parsed __________\n",
      "........................#........#................#.............#..#....#.#.#.........#........##..................#..#...........\n",
      ".#........#......##........#.................................................#.#.........#......#.................................\n",
      "...........#.#.##.#.........#.#..#............#.....................................................#.............#...............\n",
      "..........#...............#......#...............#.#..............................#..........#........#..#...##.........#..#......\n",
      "..........................................................#...........................................#...........................\n",
      "... and maybe more\n",
      "____________________\n",
      "__________ Parsed input __________\n",
      "........................#........#................#.............#..#....#.#.#.........#........##..................#..#...........\n",
      ".#........#......##........#.................................................#.#.........#......#.................................\n",
      "...........#.#.##.#.........#.#..#............#.....................................................#.............#...............\n",
      "..........#...............#......#...............#.#..............................#..........#........#..#...##.........#..#......\n",
      "..........................................................#...........................................#...........................\n",
      "... and maybe more\n",
      "____________________\n",
      "Answer for day 6 part 1: 4778  Average time  0.010787 seconds [51 runs]\n"
     ]
    },
    {
     "data": {
      "text/plain": [
       "4778"
      ]
     },
     "execution_count": 24,
     "metadata": {},
     "output_type": "execute_result"
    }
   ],
   "source": [
    "\n",
    "real_input = backend.parseInput(open(\"inputs/day6.txt\").read())\n",
    "backend.run(lambda m : len(set(iterate_path(*map_to_locs(m), complex(0, -1)))), real_input, 6, 1)\n"
   ]
  },
  {
   "cell_type": "markdown",
   "metadata": {},
   "source": [
    "## Part 2\n",
    "\n",
    "For part 2 we need to find in how many ways we can place an obstacle such that the guard will get stuck in a loop. I added a check in the `iterate_path` function, which checks if the path is in a loop. We can do this by checking whether a specific obstacle is encountered 2 times or more in a route. We also know that we only need to check locations that are on the path as adding obstacles on locations that are not on the path will not have any influence. \n",
    "\n",
    "For now, I brute force check each location. As I did not have time to properly think about an elegant way to solve the problem. I might revisit this in a Part 3."
   ]
  },
  {
   "cell_type": "code",
   "execution_count": 25,
   "metadata": {},
   "outputs": [
    {
     "name": "stdout",
     "output_type": "stream",
     "text": [
      "Answer: 6            0.001709 seconds\n",
      "Test succeeded.\n"
     ]
    }
   ],
   "source": [
    "def get_possible_obstacle_places(init_pos : complex, obstacle_locs : list, map_size : int, initial_direction : complex):\n",
    "    visited_locations = iterate_path(init_pos, obstacle_locs, map_size, initial_direction) ## Store the locations on the route\n",
    "    possible_obstacle_places = set()\n",
    "    for loc in visited_locations:\n",
    "        if loc == init_pos : continue\n",
    "        if loc in possible_obstacle_places : continue\n",
    "        if iterate_path(init_pos, obstacle_locs + [loc], map_size, initial_direction) == False:\n",
    "            possible_obstacle_places.add(loc)\n",
    "    return possible_obstacle_places\n",
    "\n",
    "backend.test(lambda m : len(get_possible_obstacle_places(*map_to_locs(m), complex(0, -1))), test_input, 6)"
   ]
  },
  {
   "cell_type": "code",
   "execution_count": 26,
   "metadata": {},
   "outputs": [
    {
     "name": "stdout",
     "output_type": "stream",
     "text": [
      "Answer for day 6 part 2: 1618  Average time  14.604708 seconds [1 runs]\n"
     ]
    },
    {
     "data": {
      "text/plain": [
       "1618"
      ]
     },
     "execution_count": 26,
     "metadata": {},
     "output_type": "execute_result"
    }
   ],
   "source": [
    "backend.run(lambda m : len(get_possible_obstacle_places(*map_to_locs(m), complex(0, -1))), real_input, 6, 2)"
   ]
  },
  {
   "cell_type": "markdown",
   "metadata": {},
   "source": [
    "<img src='notebook_images/day7.webp'/>\n",
    "\n",
    "# Day 7 : <a href=\"https://adventofcode.com/2024/day/7\">Bridge Repair</a>\n",
    "\n",
    "## Part 1\n",
    "\n",
    "Today we are given a set with calibration values. Unfortunately, elephants stole our operators so we need to find for what calibration lines we can add multiplication and addition operators.\n",
    "\n",
    "For this I use a backtracking algorithm that starts with the initial value and goes backwards. As an example we consider the second case:\n",
    "`158: 3 8 5 3`\n",
    "We start with the target value `158` and check if `158` can be obtained by adding 3 to a number, or multiplying 3 by a number. As `158` is not a multiple of `3` this number could only have been obtained by adding `3` to `155`. Which is our new target value. We then compare this value to the previous calibration value. This should (but is not guaranteed to) cut the state space in about half."
   ]
  },
  {
   "cell_type": "code",
   "execution_count": 27,
   "metadata": {},
   "outputs": [
    {
     "name": "stdout",
     "output_type": "stream",
     "text": [
      "__________ Input to be parsed __________\n",
      "190: 10 19\n",
      "3267: 81 40 27\n",
      "83: 17 5\n",
      "156: 15 6\n",
      "7290: 6 8 6 15\n",
      "... and maybe more\n",
      "____________________\n",
      "__________ Parsed input __________\n",
      "(190, 10, 19)\n",
      "(3267, 81, 40, 27)\n",
      "(83, 17, 5)\n",
      "(156, 15, 6)\n",
      "(7290, 6, 8, 6, 15)\n",
      "... and maybe more\n",
      "____________________\n",
      "Answer: 3749            0.000018 seconds\n",
      "Test succeeded.\n"
     ]
    }
   ],
   "source": [
    "test_input = backend.parseInput(\"\"\"190: 10 19\n",
    "3267: 81 40 27\n",
    "83: 17 5\n",
    "156: 15 6\n",
    "7290: 6 8 6 15\n",
    "161011: 16 10 13\n",
    "192: 17 8 14\n",
    "21037: 9 7 18 13\n",
    "292: 11 6 16 20\"\"\", parseMethod=backend.parseInts)\n",
    "\n",
    "def calibration_possible(calibration_line) :\n",
    "    target_value, *calibration_values = calibration_line\n",
    "    if len(calibration_values) == 2:\n",
    "        return sum(calibration_values) == target_value or calibration_values[0] * calibration_values[1] == target_value\n",
    "    *new_calibration_values, last_value = calibration_values\n",
    "    if target_value % last_value > 0 : # We only need to check the addition operation\n",
    "        return calibration_possible((target_value - last_value, *new_calibration_values))\n",
    "    \n",
    "    add_target_val = target_value - last_value # Target value when we add\n",
    "    mult_target_val = target_value // last_value # Target value when we multiply\n",
    "    \n",
    "    return calibration_possible((mult_target_val, *new_calibration_values)) or calibration_possible((add_target_val, *new_calibration_values))\n",
    "\n",
    "backend.test(lambda w : sum([r for r, *calibration_line in w if calibration_possible((r, *calibration_line))]), test_input, 3749)\n"
   ]
  },
  {
   "cell_type": "code",
   "execution_count": 28,
   "metadata": {},
   "outputs": [
    {
     "name": "stdout",
     "output_type": "stream",
     "text": [
      "__________ Input to be parsed __________\n",
      "2382106471: 2 8 175 1 17 3 5 9 4 51 5\n",
      "864708004: 278 22 259 2 12 3\n",
      "1659517050: 33 8 9 673 51 967\n",
      "5331437: 5 3 305 89 849\n",
      "97828: 8 6 6 3 5 70 4 696 5 91 3\n",
      "... and maybe more\n",
      "____________________\n",
      "__________ Parsed input __________\n",
      "(2382106471, 2, 8, 175, 1, 17, 3, 5, 9, 4, 51, 5)\n",
      "(864708004, 278, 22, 259, 2, 12, 3)\n",
      "(1659517050, 33, 8, 9, 673, 51, 967)\n",
      "(5331437, 5, 3, 305, 89, 849)\n",
      "(97828, 8, 6, 6, 3, 5, 70, 4, 696, 5, 91, 3)\n",
      "... and maybe more\n",
      "____________________\n",
      "Answer for day 7 part 1: 267566105056  Average time  0.014817 seconds [51 runs]\n"
     ]
    },
    {
     "data": {
      "text/plain": [
       "267566105056"
      ]
     },
     "execution_count": 28,
     "metadata": {},
     "output_type": "execute_result"
    }
   ],
   "source": [
    "real_input = backend.parseInput(open(\"inputs/day7.txt\").read(), parseMethod=backend.parseInts)\n",
    "backend.run(lambda w : sum([r for r, *calibration_line in w if calibration_possible((r, *calibration_line))]), real_input, 7, 1)"
   ]
  },
  {
   "cell_type": "markdown",
   "metadata": {},
   "source": [
    "## Part 2\n",
    "\n",
    "Part two remains the same, however we are allowed to use concatination operators `||` which glues two numbers together. We use the same approach by noting that the concatination operator only works if the target value ends with the calibration value. I.e. if the calibration value is `35` and the target value is `31435` then `314 || 35` would be possible. Our new target value would then be `314`."
   ]
  },
  {
   "cell_type": "code",
   "execution_count": 29,
   "metadata": {},
   "outputs": [
    {
     "name": "stdout",
     "output_type": "stream",
     "text": [
      "Answer: 11387            0.000069 seconds\n",
      "Test succeeded.\n"
     ]
    }
   ],
   "source": [
    "def calibration_possible(calibration_line) :\n",
    "    target_value, *calibration_values = calibration_line\n",
    "    *new_calibration_values, last_value = calibration_values\n",
    "    if len(calibration_values) == 2:\n",
    "        return sum(calibration_values) == target_value or calibration_values[0] * calibration_values[1] == target_value or int(f\"{calibration_values[0]}{calibration_values[1]}\") == target_value\n",
    "    \n",
    "    check_multiplication = (target_value % last_value == 0)\n",
    "    check_concat = (str(target_value).endswith(str(last_value)) and last_value != target_value)\n",
    "    check_addition = True\n",
    "    \n",
    "    add_target_val = target_value - last_value\n",
    "    mult_target_val = target_value // last_value\n",
    "    cat_target_val = int(re.match(rf\"(.+)(?={last_value})\", str(target_value)).group()) if check_concat else -1\n",
    "\n",
    "    return (check_addition and calibration_possible((add_target_val, *new_calibration_values))) or (check_multiplication and calibration_possible((mult_target_val, *new_calibration_values))) or (check_concat and calibration_possible((cat_target_val, *new_calibration_values)))\n",
    "\n",
    "backend.test(lambda w : sum([r for r, *calibration_line in w if calibration_possible((r, *calibration_line))]), test_input, 11387)"
   ]
  },
  {
   "cell_type": "code",
   "execution_count": 30,
   "metadata": {},
   "outputs": [
    {
     "name": "stdout",
     "output_type": "stream",
     "text": [
      "Answer for day 7 part 2: 116094961956019  Average time  0.047845 seconds [22 runs]\n"
     ]
    },
    {
     "data": {
      "text/plain": [
       "116094961956019"
      ]
     },
     "execution_count": 30,
     "metadata": {},
     "output_type": "execute_result"
    }
   ],
   "source": [
    "backend.run(lambda w : sum([r for r, *calibration_line in w if calibration_possible((r, *calibration_line))]), real_input, 7, 2)"
   ]
  },
  {
   "cell_type": "markdown",
   "metadata": {},
   "source": [
    "<img src='notebook_images/day8.webp'/>\n",
    "\n",
    "# Day 8 : <a href=\"https://adventofcode.com/2024/day/8\">Resonant Collinearity</a>\n",
    "\n",
    "## Part 1\n",
    "For this day we are given a map with antennas. Each letter/digit denotes a different frequency. Antinodes are locations that are in line with at least two antennas of the same frequency, where one antenna is twice as far away as the other. \n",
    "\n",
    "To find these locations I used some simple vector computations, to find the locations of the antinodes. We therefore need to take all combinations of nodes of the same frequency."
   ]
  },
  {
   "cell_type": "code",
   "execution_count": 31,
   "metadata": {},
   "outputs": [
    {
     "name": "stdout",
     "output_type": "stream",
     "text": [
      "__________ Input to be parsed __________\n",
      "............\n",
      "........0...\n",
      ".....0......\n",
      ".......0....\n",
      "....0.......\n",
      "... and maybe more\n",
      "____________________\n",
      "__________ Parsed input __________\n",
      "............\n",
      "........0...\n",
      ".....0......\n",
      ".......0....\n",
      "....0.......\n",
      "... and maybe more\n",
      "____________________\n",
      "Answer: 14            0.000083 seconds\n",
      "Test succeeded.\n"
     ]
    }
   ],
   "source": [
    "test_input = backend.parseInput(\"\"\"............\n",
    "........0...\n",
    ".....0......\n",
    ".......0....\n",
    "....0.......\n",
    "......A.....\n",
    "............\n",
    "............\n",
    "........A...\n",
    ".........A..\n",
    "............\n",
    "............\"\"\")\n",
    "\n",
    "def count_antinodes(input : list):\n",
    "\n",
    "    frequencies = set(input[i][j] for i in range(len(input)) for j in range(len(input[0])) if input[i][j] != \".\")\n",
    "    freq_locations = {f : list((j, i) for i in range(len(input)) for j in range(len(input[0])) if input[i][j] == f) for f in frequencies}\n",
    "\n",
    "    antinode_locations = set()\n",
    "\n",
    "    for frequency in frequencies:\n",
    "        antenna_locations = freq_locations[frequency]\n",
    "        # A line is defined by two points\n",
    "        lines = combinations(antenna_locations, 2)\n",
    "        for p_1, p_2 in lines:\n",
    "            x1, y1 = 2*p_2[0] - p_1[0], 2*p_2[1] - p_1[1]\n",
    "            x2, y2 = 2*p_1[0] - p_2[0], 2*p_1[1] - p_2[1]\n",
    "            if 0 <= x1 < len(input) and 0 <= y1 < len(input) : antinode_locations.add((x1, y1))\n",
    "            if 0 <= x2 < len(input) and 0 <= y2 < len(input) : antinode_locations.add((x2, y2))\n",
    "    return len(antinode_locations)\n",
    "\n",
    "backend.test(count_antinodes, test_input, 14)"
   ]
  },
  {
   "cell_type": "code",
   "execution_count": 32,
   "metadata": {},
   "outputs": [
    {
     "name": "stdout",
     "output_type": "stream",
     "text": [
      "__________ Input to be parsed __________\n",
      "...............................s..................\n",
      "..................s..............q.............p..\n",
      ".....a............................................\n",
      "........c......Y.......Q..........................\n",
      "............................................4.....\n",
      "... and maybe more\n",
      "____________________\n",
      "__________ Parsed input __________\n",
      "...............................s..................\n",
      "..................s..............q.............p..\n",
      ".....a............................................\n",
      "........c......Y.......Q..........................\n",
      "............................................4.....\n",
      "... and maybe more\n",
      "____________________\n",
      "Answer for day 8 part 1: 244  Average time  0.007390 seconds [51 runs]\n"
     ]
    },
    {
     "data": {
      "text/plain": [
       "244"
      ]
     },
     "execution_count": 32,
     "metadata": {},
     "output_type": "execute_result"
    }
   ],
   "source": [
    "real_input = backend.parseInput(open(\"inputs/day8.txt\").read())\n",
    "backend.run(count_antinodes, real_input, 8, 1)"
   ]
  },
  {
   "cell_type": "markdown",
   "metadata": {},
   "source": [
    "## Part 2\n",
    "\n",
    "It turns out that <b>all</b> nodes that are in line with at least two antennas of the same frequency are antinodes. We can now loop through the integer solutions to the equation $y = ax + b$."
   ]
  },
  {
   "cell_type": "code",
   "execution_count": 33,
   "metadata": {},
   "outputs": [
    {
     "name": "stdout",
     "output_type": "stream",
     "text": [
      "__________ Input to be parsed __________\n",
      "............\n",
      "........0...\n",
      ".....0......\n",
      ".......0....\n",
      "....0.......\n",
      "... and maybe more\n",
      "____________________\n",
      "__________ Parsed input __________\n",
      "............\n",
      "........0...\n",
      ".....0......\n",
      ".......0....\n",
      "....0.......\n",
      "... and maybe more\n",
      "____________________\n",
      "Answer: 34            0.000180 seconds\n",
      "Test succeeded.\n"
     ]
    }
   ],
   "source": [
    "test_input = backend.parseInput(\"\"\"............\n",
    "........0...\n",
    ".....0......\n",
    ".......0....\n",
    "....0.......\n",
    "......A.....\n",
    "............\n",
    "............\n",
    "........A...\n",
    ".........A..\n",
    "............\n",
    "............\"\"\")\n",
    "\n",
    "def count_antinodes(input : list):\n",
    "\n",
    "    frequencies = set(input[i][j] for i in range(len(input)) for j in range(len(input[0])) if input[i][j] != \".\")\n",
    "    freq_locations = {f : list((j, i) for i in range(len(input)) for j in range(len(input[0])) if input[i][j] == f) for f in frequencies}\n",
    "    antinode_locations = set()\n",
    "\n",
    "    for frequency in frequencies:\n",
    "        antenna_locations = freq_locations[frequency]\n",
    "        # A line is defined by two points\n",
    "        lines = combinations(antenna_locations, 2)\n",
    "        for p_1, p_2 in lines:\n",
    "            if p_2[0] == p_1[0] : ## Antennas are on a vertical line\n",
    "                antinode_locations.update((p_1[0], i) for i in range(len(input)))\n",
    "                continue\n",
    "            slope = (p_2[1] - p_1[1]) / (p_2[0] - p_1[0])\n",
    "            intercept = p_1[1] - slope*p_1[0]\n",
    "            x = 0\n",
    "            y = intercept + slope*x\n",
    "            while 0 <= x < len(input):\n",
    "                # Some early loop breaks to improve speed\n",
    "                if slope > 0 and y >= len(input) + 1 : break\n",
    "                if slope < 0 and y < -1 : break\n",
    "\n",
    "                if abs(round(y) - y) <= 1e-8 and - 1e-6 <= y < len(input) - 1e-9:\n",
    "                    antinode_locations.add((round(x), round(y)))\n",
    "                x += 1\n",
    "                y = intercept + slope*x\n",
    "        \n",
    "    return len(antinode_locations)\n",
    "\n",
    "backend.test(count_antinodes, test_input, 34)"
   ]
  },
  {
   "cell_type": "code",
   "execution_count": 34,
   "metadata": {},
   "outputs": [
    {
     "name": "stdout",
     "output_type": "stream",
     "text": [
      "Answer for day 8 part 2: 912  Average time  0.013729 seconds [51 runs]\n"
     ]
    },
    {
     "data": {
      "text/plain": [
       "912"
      ]
     },
     "execution_count": 34,
     "metadata": {},
     "output_type": "execute_result"
    }
   ],
   "source": [
    "backend.run(count_antinodes, real_input, 8, 2)"
   ]
  },
  {
   "cell_type": "markdown",
   "metadata": {},
   "source": [
    "<img src='notebook_images/day9.webp'/>\n",
    "\n",
    "# Day 9 : <a href=\"https://adventofcode.com/2024/day/9\">Disk Fragmenter</a>\n",
    "\n",
    "## Part 1\n",
    "Today we are tasked with reorganizing the contents of a hard disk. We must compute the checksum of the organized disk."
   ]
  },
  {
   "cell_type": "code",
   "execution_count": 35,
   "metadata": {},
   "outputs": [
    {
     "name": "stdout",
     "output_type": "stream",
     "text": [
      "__________ Input to be parsed __________\n",
      "2333133121414131402\n",
      "... and maybe more\n",
      "____________________\n",
      "__________ Parsed input __________\n",
      "(2, 3, 3, 3, 1, 3, 3, 1, 2, 1, 4, 1, 4, 1, 3, 1, 4, 0, 2)\n",
      "... and maybe more\n",
      "____________________\n",
      "Answer: 1928            0.000035 seconds\n",
      "Test succeeded.\n"
     ]
    }
   ],
   "source": [
    "test_input = backend.parseInput(\"2333133121414131402\", parseMethod=backend.parseDigits)\n",
    "\n",
    "\n",
    "def file_sizes(disk_map : tuple): return tuple(disk_map[2*i] for i in range(1 + len(disk_map)//2))\n",
    "def free_spaces(disk_map : tuple): return tuple(disk_map[2*i + 1] for i in range(len(disk_map)//2))\n",
    "\n",
    "def disk_from_map(disk_map : tuple) -> list:\n",
    "    *sizes, last_size = file_sizes(disk_map)\n",
    "    empties = free_spaces(disk_map)\n",
    "    file_id = 0\n",
    "    disk = list()\n",
    "    for s, e in zip(sizes, empties):\n",
    "        disk.extend([file_id for _ in range(s)])\n",
    "        disk.extend([None for _ in range(e)])\n",
    "        file_id += 1\n",
    "    disk.extend([file_id for _ in range(last_size)])\n",
    "    return disk, file_sizes(disk_map)\n",
    "\n",
    "def compact_disk(disk : list) -> list:\n",
    "    free_element_indexes = list(reversed([i for i in range(len(disk)) if disk[i] == None]))\n",
    "    compressed_size = len(disk) - disk.count(None) # We know the size of the disk when compression is done\n",
    "    while len(disk) > compressed_size:\n",
    "        add_block = disk.pop()\n",
    "        if add_block == None : continue\n",
    "        disk[free_element_indexes.pop()] = add_block\n",
    "    return disk\n",
    "\n",
    "def disk_checksum(disk : list) -> int:\n",
    "    ## Replace None with 0 to easy computations\n",
    "    return sum(i * disk[i] for i in range(len(disk)) if disk[i] is not None)\n",
    "\n",
    "backend.test(lambda i : disk_checksum(compact_disk(disk_from_map(i)[0])), test_input, 1928)\n"
   ]
  },
  {
   "cell_type": "code",
   "execution_count": 36,
   "metadata": {},
   "outputs": [
    {
     "name": "stdout",
     "output_type": "stream",
     "text": [
      "Answer for day 9 part 1: 6299243228569  Average time  0.043299 seconds [24 runs]\n"
     ]
    },
    {
     "data": {
      "text/plain": [
       "6299243228569"
      ]
     },
     "execution_count": 36,
     "metadata": {},
     "output_type": "execute_result"
    }
   ],
   "source": [
    "real_input = backend.parseInput(open(\"inputs/day9.txt\").read(), parseMethod=backend.parseDigits, surpress=True)\n",
    "\n",
    "backend.run(lambda i : disk_checksum(compact_disk(disk_from_map(i)[0])), real_input, 9, 1)"
   ]
  },
  {
   "cell_type": "markdown",
   "metadata": {},
   "source": [
    "## Part 2"
   ]
  },
  {
   "cell_type": "markdown",
   "metadata": {},
   "source": [
    "We may now only move blocks of files. Starting with the largest file ID."
   ]
  },
  {
   "cell_type": "code",
   "execution_count": 37,
   "metadata": {},
   "outputs": [
    {
     "name": "stdout",
     "output_type": "stream",
     "text": [
      "Answer: 2858            0.000060 seconds\n",
      "Test succeeded.\n"
     ]
    }
   ],
   "source": [
    "def compact_disk_no_frag(disk : list, filesizes : tuple) -> list:\n",
    "    free_element_indexes = list(reversed([i for i in range(len(disk)) if disk[i] == None]))\n",
    "    files = reversed(range(1 + max(f for f in disk if f is not None)))\n",
    "    for file in files:\n",
    "        file_size = filesizes[file]\n",
    "        file_index = disk.index(file)\n",
    "        for idx in reversed(free_element_indexes):\n",
    "            # The free index must be before the current file index\n",
    "            if idx >= file_index : break\n",
    "            if disk[idx] is not None: continue\n",
    "            if len(set(disk[idx : idx + file_size])) == 1:\n",
    "                disk[idx : idx + file_size] = disk[file_index : file_index + file_size]\n",
    "                disk[file_index : file_index + file_size] = [None] * file_size\n",
    "                break\n",
    "    return disk\n",
    "                \n",
    "backend.test(lambda i : disk_checksum(compact_disk_no_frag(*disk_from_map(i))), test_input, 2858)"
   ]
  },
  {
   "cell_type": "code",
   "execution_count": 38,
   "metadata": {},
   "outputs": [
    {
     "name": "stdout",
     "output_type": "stream",
     "text": [
      "Answer for day 9 part 2: 6326952672104  Average time  13.049971 seconds [1 runs]\n"
     ]
    },
    {
     "data": {
      "text/plain": [
       "6326952672104"
      ]
     },
     "execution_count": 38,
     "metadata": {},
     "output_type": "execute_result"
    }
   ],
   "source": [
    "backend.run(lambda i : disk_checksum(compact_disk_no_frag(*disk_from_map(i))), real_input, 9, 2)"
   ]
  },
  {
   "cell_type": "markdown",
   "metadata": {},
   "source": [
    "<img src='notebook_images/day10.webp'/>\n",
    "\n",
    "# Day 10 : <a href=\"https://adventofcode.com/2024/day/10\">Hoof it</a>\n",
    "\n",
    "## Part 1\n",
    "\n",
    "Today we are given a map with different heights. We are tasked with finding for each starting point marked with a zero how many tops can be reached, that are marked with a 9."
   ]
  },
  {
   "cell_type": "code",
   "execution_count": 39,
   "metadata": {},
   "outputs": [
    {
     "name": "stdout",
     "output_type": "stream",
     "text": [
      "__________ Input to be parsed __________\n",
      "89010123\n",
      "78121874\n",
      "87430965\n",
      "96549874\n",
      "45678903\n",
      "... and maybe more\n",
      "____________________\n",
      "__________ Parsed input __________\n",
      "(8, 9, 0, 1, 0, 1, 2, 3)\n",
      "(7, 8, 1, 2, 1, 8, 7, 4)\n",
      "(8, 7, 4, 3, 0, 9, 6, 5)\n",
      "(9, 6, 5, 4, 9, 8, 7, 4)\n",
      "(4, 5, 6, 7, 8, 9, 0, 3)\n",
      "... and maybe more\n",
      "____________________\n",
      "Answer: 36            0.000740 seconds\n",
      "Test succeeded.\n"
     ]
    }
   ],
   "source": [
    "test_input = backend.parseInput(\"\"\"89010123\n",
    "78121874\n",
    "87430965\n",
    "96549874\n",
    "45678903\n",
    "32019012\n",
    "01329801\n",
    "10456732\"\"\", parseMethod=backend.parseDigits)\n",
    "\n",
    "def positions_around(pos : tuple, map_size : int):\n",
    "    row, col = pos\n",
    "    p = [(row, max(col - 1, 0)), (row, min(col + 1, map_size - 1)), (max(row - 1, 0), col), (min(row + 1, map_size - 1), col)]\n",
    "    return set(p)\n",
    "\n",
    "\n",
    "def n_reachable_tops(map : list, start_pos : tuple):\n",
    "    found = set()\n",
    "    def find_reachable_tops(current_pos : tuple):\n",
    "        row, col = current_pos\n",
    "        val = map[row][col] # Get the value at the current position\n",
    "        if val == 9 :\n",
    "            found.add(current_pos)\n",
    "        check_pos = positions_around(current_pos, len(map))\n",
    "        higher_pos = [(r, c) for r, c in check_pos if map[r][c] == val + 1]\n",
    "        for p in higher_pos:\n",
    "            find_reachable_tops(p)\n",
    "    find_reachable_tops(start_pos)\n",
    "    return len(found)\n",
    "\n",
    "def zeros(map : list) -> list:\n",
    "    return[(i, j) for i in range(len(map)) for j in range(len(map)) if map[i][j] == 0]\n",
    "\n",
    "def trailhead_scores(map : list) -> tuple:\n",
    "    return [n_reachable_tops(map, p) for p in zeros(map)]\n",
    "\n",
    "backend.test(lambda i : sum(trailhead_scores(i)), test_input, 36)"
   ]
  },
  {
   "cell_type": "code",
   "execution_count": 40,
   "metadata": {},
   "outputs": [
    {
     "name": "stdout",
     "output_type": "stream",
     "text": [
      "__________ Input to be parsed __________\n",
      "3212345678121056780310106543218765210109876\n",
      "7301106769012349891210237858909650987212345\n",
      "8943219878734217894354345997434501896398730\n",
      "7654306765025606765969876786521432345485621\n",
      "1233456834110715610870945431010676541014678\n",
      "... and maybe more\n",
      "____________________\n",
      "__________ Parsed input __________\n",
      "(3, 2, 1, 2, 3, 4, 5, 6, 7, 8, 1, 2, 1, 0, 5, 6, 7, 8, 0, 3, 1, 0, 1, 0, 6, 5, 4, 3, 2, 1, 8, 7, 6, 5, 2, 1, 0, 1, 0, 9, 8, 7, 6)\n",
      "(7, 3, 0, 1, 1, 0, 6, 7, 6, 9, 0, 1, 2, 3, 4, 9, 8, 9, 1, 2, 1, 0, 2, 3, 7, 8, 5, 8, 9, 0, 9, 6, 5, 0, 9, 8, 7, 2, 1, 2, 3, 4, 5)\n",
      "(8, 9, 4, 3, 2, 1, 9, 8, 7, 8, 7, 3, 4, 2, 1, 7, 8, 9, 4, 3, 5, 4, 3, 4, 5, 9, 9, 7, 4, 3, 4, 5, 0, 1, 8, 9, 6, 3, 9, 8, 7, 3, 0)\n",
      "(7, 6, 5, 4, 3, 0, 6, 7, 6, 5, 0, 2, 5, 6, 0, 6, 7, 6, 5, 9, 6, 9, 8, 7, 6, 7, 8, 6, 5, 2, 1, 4, 3, 2, 3, 4, 5, 4, 8, 5, 6, 2, 1)\n",
      "(1, 2, 3, 3, 4, 5, 6, 8, 3, 4, 1, 1, 0, 7, 1, 5, 6, 1, 0, 8, 7, 0, 9, 4, 5, 4, 3, 1, 0, 1, 0, 6, 7, 6, 5, 4, 1, 0, 1, 4, 6, 7, 8)\n",
      "... and maybe more\n",
      "____________________\n",
      "Answer for day 10 part 1: 510  Average time  0.013702 seconds [51 runs]\n"
     ]
    },
    {
     "data": {
      "text/plain": [
       "510"
      ]
     },
     "execution_count": 40,
     "metadata": {},
     "output_type": "execute_result"
    }
   ],
   "source": [
    "real_input = backend.parseInput(open(\"inputs/day10.txt\").read(), parseMethod=backend.parseDigits)\n",
    "backend.run(lambda i : sum(trailhead_scores(i)), real_input, 10, 1)"
   ]
  },
  {
   "cell_type": "markdown",
   "metadata": {},
   "source": [
    "## Part 2\n",
    "Now we must find the total number of distinct paths that lead to a top."
   ]
  },
  {
   "cell_type": "code",
   "execution_count": 41,
   "metadata": {},
   "outputs": [
    {
     "name": "stdout",
     "output_type": "stream",
     "text": [
      "Answer: 81            0.000795 seconds\n",
      "Test succeeded.\n"
     ]
    }
   ],
   "source": [
    "def n_paths(map : list, start_pos : tuple):\n",
    "    found = list()\n",
    "    def find_reachable_tops(current_pos : tuple):\n",
    "        row, col = current_pos\n",
    "        val = map[row][col] # Get the value at the current position\n",
    "        if val == 9 :\n",
    "            found.append(current_pos)\n",
    "        check_pos = positions_around(current_pos, len(map))\n",
    "        higher_pos = [(r, c) for r, c in check_pos if map[r][c] == val + 1]\n",
    "        for p in higher_pos:\n",
    "            find_reachable_tops(p)\n",
    "    find_reachable_tops(start_pos)\n",
    "    return len(found)\n",
    "\n",
    "def trailhead_ratings(map : list) -> tuple:\n",
    "    return [n_paths(map, p) for p in zeros(map)]\n",
    "\n",
    "backend.test(lambda i : sum(trailhead_ratings(i)), test_input, 81)"
   ]
  },
  {
   "cell_type": "code",
   "execution_count": 42,
   "metadata": {},
   "outputs": [
    {
     "name": "stdout",
     "output_type": "stream",
     "text": [
      "Answer for day 10 part 2: 1058  Average time  0.012283 seconds [51 runs]\n"
     ]
    },
    {
     "data": {
      "text/plain": [
       "1058"
      ]
     },
     "execution_count": 42,
     "metadata": {},
     "output_type": "execute_result"
    }
   ],
   "source": [
    "backend.run(lambda i : sum(trailhead_ratings(i)), real_input, 10, 2)"
   ]
  },
  {
   "cell_type": "markdown",
   "metadata": {},
   "source": [
    "# Statistics AOC 2024"
   ]
  },
  {
   "cell_type": "code",
   "execution_count": 43,
   "metadata": {},
   "outputs": [
    {
     "data": {
      "text/html": [
       "<div>\n",
       "<style scoped>\n",
       "    .dataframe tbody tr th:only-of-type {\n",
       "        vertical-align: middle;\n",
       "    }\n",
       "\n",
       "    .dataframe tbody tr th {\n",
       "        vertical-align: top;\n",
       "    }\n",
       "\n",
       "    .dataframe thead th {\n",
       "        text-align: right;\n",
       "    }\n",
       "</style>\n",
       "<table border=\"1\" class=\"dataframe\">\n",
       "  <thead>\n",
       "    <tr style=\"text-align: right;\">\n",
       "      <th></th>\n",
       "      <th>Day</th>\n",
       "      <th>Part</th>\n",
       "      <th>Result</th>\n",
       "      <th>Time</th>\n",
       "    </tr>\n",
       "  </thead>\n",
       "  <tbody>\n",
       "    <tr>\n",
       "      <th>0</th>\n",
       "      <td>1</td>\n",
       "      <td>1</td>\n",
       "      <td>1110981</td>\n",
       "      <td>0.000648</td>\n",
       "    </tr>\n",
       "    <tr>\n",
       "      <th>1</th>\n",
       "      <td>1</td>\n",
       "      <td>2</td>\n",
       "      <td>24869388</td>\n",
       "      <td>0.009662</td>\n",
       "    </tr>\n",
       "    <tr>\n",
       "      <th>2</th>\n",
       "      <td>2</td>\n",
       "      <td>1</td>\n",
       "      <td>526</td>\n",
       "      <td>0.006496</td>\n",
       "    </tr>\n",
       "    <tr>\n",
       "      <th>3</th>\n",
       "      <td>2</td>\n",
       "      <td>2</td>\n",
       "      <td>566</td>\n",
       "      <td>0.021097</td>\n",
       "    </tr>\n",
       "    <tr>\n",
       "      <th>4</th>\n",
       "      <td>3</td>\n",
       "      <td>1</td>\n",
       "      <td>192767529</td>\n",
       "      <td>0.002412</td>\n",
       "    </tr>\n",
       "    <tr>\n",
       "      <th>5</th>\n",
       "      <td>3</td>\n",
       "      <td>2</td>\n",
       "      <td>104083373</td>\n",
       "      <td>0.007971</td>\n",
       "    </tr>\n",
       "    <tr>\n",
       "      <th>6</th>\n",
       "      <td>4</td>\n",
       "      <td>1</td>\n",
       "      <td>2560</td>\n",
       "      <td>0.015192</td>\n",
       "    </tr>\n",
       "    <tr>\n",
       "      <th>7</th>\n",
       "      <td>4</td>\n",
       "      <td>2</td>\n",
       "      <td>1910</td>\n",
       "      <td>0.007264</td>\n",
       "    </tr>\n",
       "    <tr>\n",
       "      <th>8</th>\n",
       "      <td>5</td>\n",
       "      <td>1</td>\n",
       "      <td>6267</td>\n",
       "      <td>0.105681</td>\n",
       "    </tr>\n",
       "    <tr>\n",
       "      <th>9</th>\n",
       "      <td>5</td>\n",
       "      <td>2</td>\n",
       "      <td>5184</td>\n",
       "      <td>0.190453</td>\n",
       "    </tr>\n",
       "    <tr>\n",
       "      <th>10</th>\n",
       "      <td>6</td>\n",
       "      <td>1</td>\n",
       "      <td>4778</td>\n",
       "      <td>0.010787</td>\n",
       "    </tr>\n",
       "    <tr>\n",
       "      <th>11</th>\n",
       "      <td>6</td>\n",
       "      <td>2</td>\n",
       "      <td>1618</td>\n",
       "      <td>14.604708</td>\n",
       "    </tr>\n",
       "    <tr>\n",
       "      <th>12</th>\n",
       "      <td>7</td>\n",
       "      <td>1</td>\n",
       "      <td>267566105056</td>\n",
       "      <td>0.014817</td>\n",
       "    </tr>\n",
       "    <tr>\n",
       "      <th>13</th>\n",
       "      <td>7</td>\n",
       "      <td>2</td>\n",
       "      <td>116094961956019</td>\n",
       "      <td>0.047845</td>\n",
       "    </tr>\n",
       "    <tr>\n",
       "      <th>14</th>\n",
       "      <td>8</td>\n",
       "      <td>1</td>\n",
       "      <td>244</td>\n",
       "      <td>0.007390</td>\n",
       "    </tr>\n",
       "    <tr>\n",
       "      <th>15</th>\n",
       "      <td>8</td>\n",
       "      <td>2</td>\n",
       "      <td>912</td>\n",
       "      <td>0.013729</td>\n",
       "    </tr>\n",
       "    <tr>\n",
       "      <th>16</th>\n",
       "      <td>9</td>\n",
       "      <td>1</td>\n",
       "      <td>6299243228569</td>\n",
       "      <td>0.043299</td>\n",
       "    </tr>\n",
       "    <tr>\n",
       "      <th>17</th>\n",
       "      <td>9</td>\n",
       "      <td>2</td>\n",
       "      <td>6326952672104</td>\n",
       "      <td>13.049971</td>\n",
       "    </tr>\n",
       "    <tr>\n",
       "      <th>18</th>\n",
       "      <td>10</td>\n",
       "      <td>1</td>\n",
       "      <td>510</td>\n",
       "      <td>0.013702</td>\n",
       "    </tr>\n",
       "    <tr>\n",
       "      <th>19</th>\n",
       "      <td>10</td>\n",
       "      <td>2</td>\n",
       "      <td>1058</td>\n",
       "      <td>0.012283</td>\n",
       "    </tr>\n",
       "  </tbody>\n",
       "</table>\n",
       "</div>"
      ],
      "text/plain": [
       "    Day  Part           Result       Time\n",
       "0     1     1          1110981   0.000648\n",
       "1     1     2         24869388   0.009662\n",
       "2     2     1              526   0.006496\n",
       "3     2     2              566   0.021097\n",
       "4     3     1        192767529   0.002412\n",
       "5     3     2        104083373   0.007971\n",
       "6     4     1             2560   0.015192\n",
       "7     4     2             1910   0.007264\n",
       "8     5     1             6267   0.105681\n",
       "9     5     2             5184   0.190453\n",
       "10    6     1             4778   0.010787\n",
       "11    6     2             1618  14.604708\n",
       "12    7     1     267566105056   0.014817\n",
       "13    7     2  116094961956019   0.047845\n",
       "14    8     1              244   0.007390\n",
       "15    8     2              912   0.013729\n",
       "16    9     1    6299243228569   0.043299\n",
       "17    9     2    6326952672104  13.049971\n",
       "18   10     1              510   0.013702\n",
       "19   10     2             1058   0.012283"
      ]
     },
     "execution_count": 43,
     "metadata": {},
     "output_type": "execute_result"
    }
   ],
   "source": [
    "backend.overall_results()"
   ]
  },
  {
   "cell_type": "code",
   "execution_count": 44,
   "metadata": {},
   "outputs": [
    {
     "data": {
      "text/plain": [
       "'The total runtime is on average  28.19 seconds'"
      ]
     },
     "execution_count": 44,
     "metadata": {},
     "output_type": "execute_result"
    }
   ],
   "source": [
    "backend.total_avg_runtime()"
   ]
  },
  {
   "cell_type": "code",
   "execution_count": 45,
   "metadata": {},
   "outputs": [
    {
     "data": {
      "text/plain": [
       "Day\n",
       "1       14.916088\n",
       "2        3.247622\n",
       "3        3.304351\n",
       "4        2.091389\n",
       "5        1.802155\n",
       "6     1353.931492\n",
       "7        3.229150\n",
       "8        1.857766\n",
       "9      301.389917\n",
       "10       1.115490\n",
       "Name: Time, dtype: float64"
      ]
     },
     "execution_count": 45,
     "metadata": {},
     "output_type": "execute_result"
    }
   ],
   "source": [
    "backend.complexity_increase_per_day()"
   ]
  },
  {
   "cell_type": "code",
   "execution_count": 46,
   "metadata": {},
   "outputs": [
    {
     "data": {
      "image/png": "[encoded data removed]",
      "text/plain": [
       "<Figure size 1600x600 with 1 Axes>"
      ]
     },
     "metadata": {},
     "output_type": "display_data"
    }
   ],
   "source": [
    "backend.plot_results()"
   ]
  }
 ],
 "metadata": {
  "kernelspec": {
   "display_name": "Python 3",
   "language": "python",
   "name": "python3"
  },
  "language_info": {
   "codemirror_mode": {
    "name": "ipython",
    "version": 3
   },
   "file_extension": ".py",
   "mimetype": "text/x-python",
   "name": "python",
   "nbconvert_exporter": "python",
   "pygments_lexer": "ipython3",
   "version": "3.12.2"
  }
 },
 "nbformat": 4,
 "nbformat_minor": 2
}
