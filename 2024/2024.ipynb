{
 "cells": [
  {
   "cell_type": "markdown",
   "metadata": {},
   "source": [
    "# Advent of code 2024\n",
    "\n",
    "It's time for AOC 2024! This time, I will put all answers in one notebook, so we can get a nice overview of runtimes and answers over time. To brighten things up a bit, I added some (AI generated) images corresponding to the problem description. "
   ]
  },
  {
   "cell_type": "code",
   "execution_count": 51,
   "metadata": {},
   "outputs": [],
   "source": [
    "import backend\n",
    "import re\n",
    "\n",
    "backend.run_results = list()"
   ]
  },
  {
   "cell_type": "markdown",
   "metadata": {},
   "source": [
    "<img src='notebook_images/day1.webp'/>\n",
    "\n",
    "# Day 1 : <a href=\"https://adventofcode.com/2024/day/1\">Historian Hysteria</a>\n",
    "\n",
    "## Part 1\n",
    "\n",
    "For our first problem we will need to sort two lists, and take the sum of each pair of numbers in the sorted lists. Again, I will use my file parser to convert the input to some tuples, and convert them into a NumPy array."
   ]
  },
  {
   "cell_type": "code",
   "execution_count": 52,
   "metadata": {},
   "outputs": [
    {
     "name": "stdout",
     "output_type": "stream",
     "text": [
      "__________ Input to be parsed __________\n",
      "3   4\n",
      "4   3\n",
      "2   5\n",
      "1   3\n",
      "3   9\n",
      "... and maybe more\n",
      "____________________\n",
      "__________ Parsed input __________\n",
      "(3, 4)\n",
      "(4, 3)\n",
      "(2, 5)\n",
      "(1, 3)\n",
      "(3, 9)\n",
      "... and maybe more\n",
      "____________________\n",
      "Answer: 11            0.000013 seconds\n",
      "Test succeeded.\n"
     ]
    }
   ],
   "source": [
    "test_input = backend.parseInput(\"\"\"3   4\n",
    "4   3\n",
    "2   5\n",
    "1   3\n",
    "3   9\n",
    "3   3\"\"\", parseMethod = backend.parseInts)\n",
    "\n",
    "\n",
    "def day_1_part_1(lines : list):\n",
    "    first_list = sorted(tuple(line[0] for line in lines))\n",
    "    second_list = sorted(tuple(line[1] for line in lines))\n",
    "    differences = (abs(first_list[i] - second_list[i]) for i in range(len(first_list)))\n",
    "    return(sum(differences))\n",
    "\n",
    "backend.test(day_1_part_1, test_input, 11)\n"
   ]
  },
  {
   "cell_type": "code",
   "execution_count": 53,
   "metadata": {},
   "outputs": [
    {
     "name": "stdout",
     "output_type": "stream",
     "text": [
      "__________ Input to be parsed __________\n",
      "76309   75213\n",
      "79731   28444\n",
      "29583   71339\n",
      "60992   99148\n",
      "34680   74530\n",
      "... and maybe more\n",
      "____________________\n",
      "__________ Parsed input __________\n",
      "(76309, 75213)\n",
      "(79731, 28444)\n",
      "(29583, 71339)\n",
      "(60992, 99148)\n",
      "(34680, 74530)\n",
      "... and maybe more\n",
      "____________________\n",
      "Answer for day 1 part 1: 1110981  Average time  0.000597 seconds\n"
     ]
    },
    {
     "data": {
      "text/plain": [
       "1110981"
      ]
     },
     "execution_count": 53,
     "metadata": {},
     "output_type": "execute_result"
    }
   ],
   "source": [
    "real_input = backend.parseInput(open(\"inputs/day1.txt\").read(), backend.parseInts)\n",
    "\n",
    "backend.run(day_1_part_1, real_input, 1, 1)"
   ]
  },
  {
   "cell_type": "markdown",
   "metadata": {},
   "source": [
    "That was easy! Now on to part 2."
   ]
  },
  {
   "cell_type": "markdown",
   "metadata": {},
   "source": [
    "## Part 2\n",
    "\n",
    "It turns out that our first list contains ID's and we need to count each ID in the second list. We multiply the ID by the number of occurences in the second list, to obtain the <b>Similarity score</b>."
   ]
  },
  {
   "cell_type": "code",
   "execution_count": 54,
   "metadata": {},
   "outputs": [
    {
     "name": "stdout",
     "output_type": "stream",
     "text": [
      "Answer: 31            0.000017 seconds\n",
      "Test succeeded.\n"
     ]
    }
   ],
   "source": [
    "def day_1_part_2(lines : list):\n",
    "    first_list = tuple(line[0] for line in lines)\n",
    "    second_list = tuple(line[1] for line in lines)\n",
    "    similarity_scores = map(lambda e: e * second_list.count(e), first_list)\n",
    "    return(sum(similarity_scores))\n",
    "    \n",
    "backend.test(day_1_part_2, test_input, 31)"
   ]
  },
  {
   "cell_type": "code",
   "execution_count": 55,
   "metadata": {},
   "outputs": [
    {
     "name": "stdout",
     "output_type": "stream",
     "text": [
      "Answer for day 1 part 2: 24869388  Average time  0.009658 seconds\n"
     ]
    },
    {
     "data": {
      "text/plain": [
       "24869388"
      ]
     },
     "execution_count": 55,
     "metadata": {},
     "output_type": "execute_result"
    }
   ],
   "source": [
    "backend.run(day_1_part_2, real_input, 1, 2)"
   ]
  },
  {
   "cell_type": "markdown",
   "metadata": {},
   "source": [
    "Day 1 was quite doable, as ever with AOC. Let's see what day 2 brings us!"
   ]
  },
  {
   "cell_type": "markdown",
   "metadata": {},
   "source": [
    "<img src='notebook_images/day2.webp'/>\n",
    "\n",
    "# Day 2 : <a href=\"https://adventofcode.com/2024/day/2\">Red-Nosed Reports</a>\n",
    "\n",
    "Today, we are tasked with classifying reports whether they are either <b>safe</b> or <b>unsafe</b>.\n",
    "Safe reports contain numbers in strictly increasing or strictly decreasing order (i.e. monotonic), where the increments, or decrements do not exceed 3.\n",
    "\n",
    "For this, I introduce a function called `diff_tuple` which generates a tuple that represents the running difference of another tuple.\n",
    "\n",
    "## Part 1\n"
   ]
  },
  {
   "cell_type": "code",
   "execution_count": 56,
   "metadata": {},
   "outputs": [
    {
     "name": "stdout",
     "output_type": "stream",
     "text": [
      "__________ Input to be parsed __________\n",
      "7 6 4 2 1\n",
      "1 2 7 8 9\n",
      "9 7 6 2 1\n",
      "1 3 2 4 5\n",
      "8 6 4 4 1\n",
      "... and maybe more\n",
      "____________________\n",
      "__________ Parsed input __________\n",
      "(7, 6, 4, 2, 1)\n",
      "(1, 2, 7, 8, 9)\n",
      "(9, 7, 6, 2, 1)\n",
      "(1, 3, 2, 4, 5)\n",
      "(8, 6, 4, 4, 1)\n",
      "... and maybe more\n",
      "____________________\n",
      "Answer: 2            0.000066 seconds\n",
      "Test succeeded.\n"
     ]
    }
   ],
   "source": [
    "test_input = backend.parseInput(\"\"\"7 6 4 2 1\n",
    "1 2 7 8 9\n",
    "9 7 6 2 1\n",
    "1 3 2 4 5\n",
    "8 6 4 4 1\n",
    "1 3 6 7 9\"\"\", parseMethod = backend.parseInts)\n",
    "\n",
    "def diff_tuple(t : tuple) -> tuple:\n",
    "    \"\"\"Returns a tuple with the one-step differences\"\"\"\n",
    "    return tuple(t[i + 1] - t[i] for i in range(len(t)-1))\n",
    "\n",
    "def is_monotonic_tuple(t : tuple) -> bool:\n",
    "    \"\"\"Check is a tuple either strictly increases or decreases\"\"\"\n",
    "    diff_t = diff_tuple(t)\n",
    "    return min(diff_t) * max(diff_t) > 0\n",
    "\n",
    "def is_safe(report : tuple) -> bool:\n",
    "    monotonic = is_monotonic_tuple(report)\n",
    "    safe_abs_change = max(diff_tuple(report)) <= 3 and min(diff_tuple(report)) >= -3\n",
    "    return(monotonic * safe_abs_change)\n",
    "\n",
    "def day_2_part_1(reports : list):\n",
    "    map_obj = map(is_safe, reports)\n",
    "    return(sum(map_obj))\n",
    "\n",
    "backend.test(day_2_part_1, test_input, 2)"
   ]
  },
  {
   "cell_type": "code",
   "execution_count": 57,
   "metadata": {},
   "outputs": [
    {
     "name": "stdout",
     "output_type": "stream",
     "text": [
      "__________ Input to be parsed __________\n",
      "20 21 24 25 27 29 27\n",
      "60 61 62 64 64\n",
      "15 18 21 22 25 26 30\n",
      "5 8 11 14 16 19 20 26\n",
      "20 22 20 23 24\n",
      "... and maybe more\n",
      "____________________\n",
      "__________ Parsed input __________\n",
      "(20, 21, 24, 25, 27, 29, 27)\n",
      "(60, 61, 62, 64, 64)\n",
      "(15, 18, 21, 22, 25, 26, 30)\n",
      "(5, 8, 11, 14, 16, 19, 20, 26)\n",
      "(20, 22, 20, 23, 24)\n",
      "... and maybe more\n",
      "____________________\n",
      "Answer for day 2 part 1: 526  Average time  0.005330 seconds\n"
     ]
    },
    {
     "data": {
      "text/plain": [
       "526"
      ]
     },
     "execution_count": 57,
     "metadata": {},
     "output_type": "execute_result"
    }
   ],
   "source": [
    "real_input = backend.parseInput(open(\"inputs/day2.txt\").read(), parseMethod = backend.parseInts)\n",
    "backend.run(day_2_part_1, real_input, 2, 1)"
   ]
  },
  {
   "cell_type": "markdown",
   "metadata": {},
   "source": [
    "## Part 2\n",
    "\n",
    "It turns out that the facility contains a <b>problem dampener</b>, that can remove a single element from a report to make it safe. We now need to figure out how many reports are safe after the problem dampener removed a single element from a report to make it safe (if possible). For this, I use a simple approach by checking whether we obtain a safe list by removing any element from the report."
   ]
  },
  {
   "cell_type": "code",
   "execution_count": 58,
   "metadata": {},
   "outputs": [
    {
     "name": "stdout",
     "output_type": "stream",
     "text": [
      "Answer: 4            0.000170 seconds\n",
      "Test succeeded.\n"
     ]
    }
   ],
   "source": [
    "def list_without(l : list, i: int) -> list:\n",
    "    \"\"\"Returns a list with index i removed\"\"\"\n",
    "    l_copy = l.copy()\n",
    "    l_copy.pop(i)\n",
    "    return(l_copy)\n",
    "\n",
    "def problem_dampener(report : tuple):\n",
    "    if is_safe(report) : return True\n",
    "    report_list = list(report)\n",
    "    return(sum(map(lambda e : is_safe(list_without(report_list, e)), range(len(report_list)))) > 0)\n",
    "    \n",
    "def day_2_part_2(input):\n",
    "    map_obj = map(problem_dampener, [report for report in input])\n",
    "    return(sum(map_obj))\n",
    "\n",
    "backend.test(day_2_part_2, test_input, 4)"
   ]
  },
  {
   "cell_type": "code",
   "execution_count": 59,
   "metadata": {},
   "outputs": [
    {
     "name": "stdout",
     "output_type": "stream",
     "text": [
      "Answer for day 2 part 2: 566  Average time  0.019803 seconds\n"
     ]
    },
    {
     "data": {
      "text/plain": [
       "566"
      ]
     },
     "execution_count": 59,
     "metadata": {},
     "output_type": "execute_result"
    }
   ],
   "source": [
    "backend.run(day_2_part_2, real_input, 2, 2)"
   ]
  },
  {
   "cell_type": "markdown",
   "metadata": {},
   "source": [
    "<img src='notebook_images/day3.webp'/>\n",
    "\n",
    "# Day 3 : <a href=\"https://adventofcode.com/2024/day/3\">Mull It Over</a>\n",
    "\n",
    "Time for some <b>multiplication</b>! The owner of the Toboggan rental shop asks us to help carry out some corrupted multiplication instructions on their (probably worn out) computer.\n",
    "\n",
    "## Part 1\n",
    "We are tasked with finding all occurrences of instructions of the form `mul(x,y)` where `x` and `y` are 1 to 3 digit numbers. We are asked to find the sum of all the outcomes. In this case, I refrain from using my `backend` as we can use some simple regex to find all valid `mul` instructions:"
   ]
  },
  {
   "cell_type": "code",
   "execution_count": 60,
   "metadata": {},
   "outputs": [
    {
     "name": "stdout",
     "output_type": "stream",
     "text": [
      "Answer: 161            0.000036 seconds\n",
      "Test succeeded.\n"
     ]
    }
   ],
   "source": [
    "test_input = \"\"\"xmul(2,4)%&mul[3,7]!@^do_not_mul(5,5)+mul(32,64]then(mul(11,8)mul(8,5))\"\"\"\n",
    "def perform_mul(mul_instruction : str):\n",
    "    numbers = list(map(int,  re.findall(r\"\\d+\",mul_instruction)))\n",
    "    assert len(numbers) == 2, f\"Can only multiply if the multiplication instruction is of length two. Got {mul_instruction} as instruction instead.\"\n",
    "    return(numbers[0] * numbers[1])\n",
    "\n",
    "def day_3_part_1(input : str):\n",
    "    mul_instructions = re.findall(r\"mul\\(\\d+,\\d+\\)\", input)\n",
    "    return sum(map(perform_mul, mul_instructions))\n",
    "\n",
    "backend.test(day_3_part_1, test_input, 161)\n"
   ]
  },
  {
   "cell_type": "code",
   "execution_count": 61,
   "metadata": {},
   "outputs": [
    {
     "name": "stdout",
     "output_type": "stream",
     "text": [
      "Answer for day 3 part 1: 192767529  Average time  0.002546 seconds\n"
     ]
    },
    {
     "data": {
      "text/plain": [
       "192767529"
      ]
     },
     "execution_count": 61,
     "metadata": {},
     "output_type": "execute_result"
    }
   ],
   "source": [
    "real_input = open(\"inputs/day3.txt\").read()\n",
    "\n",
    "backend.run(day_3_part_1, real_input, 3, 1)"
   ]
  },
  {
   "cell_type": "markdown",
   "metadata": {},
   "source": [
    "## Part 2\n",
    "It turns out that our input file also contains additional instructions, namely `do()` and `don't()`, which tells us to carry out any instructions that follow, or ignore any of the following instructions. \n",
    "\n",
    "To solve this, I wrote a function that finds the locations of all `do()`, `don't()` and `mul()` instructions. A `mul()` instruction should be carried out if the largest `do()` location that comes before it is bigger than the largest `don't()` location that comes before it. We filter the `mul()` instructions, and once again apply the `perform_mul()` on all filtered instructions."
   ]
  },
  {
   "cell_type": "code",
   "execution_count": 62,
   "metadata": {},
   "outputs": [
    {
     "name": "stdout",
     "output_type": "stream",
     "text": [
      "Answer: 48            0.000065 seconds\n",
      "Test succeeded.\n"
     ]
    }
   ],
   "source": [
    "test_input = \"xmul(2,4)&mul[3,7]!^don't()_mul(5,5)+mul(32,64](mul(11,8)undo()?mul(8,5))\"\n",
    "\n",
    "def regexp_locs(input : str, r_exp : str) -> list:\n",
    "    \"\"\"Returns a list of locations where the regular expression was found\"\"\" \n",
    "    m_iterable = re.finditer(r_exp, input)\n",
    "    return [m.span()[0] for m in m_iterable]\n",
    "\n",
    "def smaller_elements(l : list, compare : int) -> list:\n",
    "    \"\"\"Returns a copy of l with only the elements smaller than 'compare'\"\"\"\n",
    "    return[li for li in l if li < compare]\n",
    "\n",
    "def should_carry_out_mul(mul_location : int, do_locations : list, dont_locations : list) -> bool:\n",
    "    \"\"\"Checks whether a mul corresponding to a location should be carried out\"\"\"\n",
    "    previous_do_locations = smaller_elements(do_locations, mul_location)\n",
    "    previous_dont_locations = smaller_elements(dont_locations, mul_location)\n",
    "    if len(previous_dont_locations) == 0 : return True\n",
    "    if len(previous_do_locations) == 0 : previous_do_locations = [-1]\n",
    "    latest_do = max(previous_do_locations)\n",
    "    latest_dont = max(previous_dont_locations)\n",
    "    return(latest_do > latest_dont)\n",
    "\n",
    "def filter_muls(input : str) -> list:\n",
    "    \"\"\"Returns a list of mul instructions after filtering the 'do' and 'dont' instructions.\"\"\"\n",
    "    # Look for locations of mul instructions\n",
    "    mul_locations = regexp_locs(input, r\"mul\\(\\d+,\\d+\\)\")\n",
    "    mul_instructions = re.findall(r\"mul\\(\\d+,\\d+\\)\", input)\n",
    "    do_locations = regexp_locs(input, r\"do\\(\\)\")\n",
    "    dont_locations = regexp_locs(input, r\"don't\\(\\)\")\n",
    "\n",
    "    unignored_locations = [location for location in mul_locations if should_carry_out_mul(location, do_locations, dont_locations)]\n",
    "    return([mul_instructions[mul_locations.index(i)] for i in unignored_locations])\n",
    "    \n",
    "def day_3_part_2(input : str):\n",
    "    return(sum(map(perform_mul, filter_muls(input))))\n",
    "\n",
    "backend.test(day_3_part_2, test_input, 48)"
   ]
  },
  {
   "cell_type": "code",
   "execution_count": 63,
   "metadata": {},
   "outputs": [
    {
     "name": "stdout",
     "output_type": "stream",
     "text": [
      "Answer for day 3 part 2: 104083373  Average time  0.005654 seconds\n"
     ]
    },
    {
     "data": {
      "text/plain": [
       "104083373"
      ]
     },
     "execution_count": 63,
     "metadata": {},
     "output_type": "execute_result"
    }
   ],
   "source": [
    "backend.run(day_3_part_2, real_input, 3, 2)"
   ]
  },
  {
   "cell_type": "markdown",
   "metadata": {},
   "source": [
    "<img src='notebook_images/day4.webp'/>\n",
    "\n",
    "# Day 4 : <a href=\"https://adventofcode.com/2024/day/4\">Ceres Search</a>\n",
    "\n",
    "If you take part in AOC you should like puzzles right? I do, but I definitely do not like crossword puzzles...\n",
    "\n",
    "## Part 1\n",
    "Today, we are tasked with solving a crossword puzzle. More specifically, we are given a crossword puzzle consisting of only the letters `X`, `M`, `A` and `S`. Funnily enough these letters spell `XMAS`. Which is exactly what we should look for. In this problem we need to count how many times the word `XMAS` appears, horizontally, vertically and diagonally. In regular or reversed order.\n",
    "\n",
    "In order to do so I create a function called `count_horizontals` which takes in a cross word puzzle and counts all occurrences of the word `XMAS`, in both directions. I can then transpose the crossword so the rows become columns and apply `count_horizontals` again. Finally, I create a function that takes all diagonal cuts of the crossword and we run `count_horizontals` on all diagonals as well. "
   ]
  },
  {
   "cell_type": "code",
   "execution_count": 64,
   "metadata": {},
   "outputs": [
    {
     "name": "stdout",
     "output_type": "stream",
     "text": [
      "__________ Input to be parsed __________\n",
      "MMMSXXMASM\n",
      "MSAMXMSMSA\n",
      "AMXSXMAAMM\n",
      "MSAMASMSMX\n",
      "XMASAMXAMM\n",
      "... and maybe more\n",
      "____________________\n",
      "__________ Parsed input __________\n",
      "MMMSXXMASM\n",
      "MSAMXMSMSA\n",
      "AMXSXMAAMM\n",
      "MSAMASMSMX\n",
      "XMASAMXAMM\n",
      "... and maybe more\n",
      "____________________\n",
      "Answer: 18            0.000227 seconds\n",
      "Test succeeded.\n"
     ]
    }
   ],
   "source": [
    "test_input = backend.parseInput(\"\"\"MMMSXXMASM\n",
    "MSAMXMSMSA\n",
    "AMXSXMAAMM\n",
    "MSAMASMSMX\n",
    "XMASAMXAMM\n",
    "XXAMMXXAMA\n",
    "SMSMSASXSS\n",
    "SAXAMASAAA\n",
    "MAMMMXMMMM\n",
    "MXMXAXMASX\"\"\")\n",
    "\n",
    "def horizontal_flipped_cw(crossword : list) -> list:\n",
    "    return [\"\".join(reversed(line)) for line in crossword]\n",
    "\n",
    "def get_diagonals(crossword : list) -> list:\n",
    "    n_col, n_row = len(crossword[0]), len(crossword)\n",
    "    lower_diag = [\"\".join(crossword[i+j][j] for j in range(n_col) if i + j < n_col) for i in range(n_row)]\n",
    "    upper_diag = [\"\".join(crossword[i][j + i] for i in range(n_row) if i + j < n_row) for j in range(n_col)][1:]\n",
    "    crossword = horizontal_flipped_cw(crossword) # Flip the crossword and add the other diagonals\n",
    "    lower_diag += [\"\".join(crossword[i+j][j] for j in range(n_col) if i + j < n_col) for i in range(n_row)]\n",
    "    upper_diag += [\"\".join(crossword[i][j + i] for i in range(n_row) if i + j < n_row) for j in range(n_col)][1:]\n",
    "    return(lower_diag + upper_diag) # The middle diagonal is double counted, so we ignore one of them\n",
    "\n",
    "def transposed_cw(crossword : list) -> list:\n",
    "    return [''.join(list(i)) for i in zip(*crossword)]\n",
    "\n",
    "def count_horizontals(crossword : list, word = \"xmas\") -> int:\n",
    "    \"\"\"Counts how many time the word appears horizontally in a crossword\"\"\"\n",
    "    left_to_right = sum(map(lambda w : len(re.findall(rf\"(?i){word}\", w)), crossword))\n",
    "    right_to_left = sum(map(lambda w : len(re.findall(rf\"(?i){word[::-1]}\", w)), crossword))\n",
    "    return(left_to_right + right_to_left)\n",
    "\n",
    "def count_verticals(crossword : list, word = \"xmas\") -> int:\n",
    "    \"\"\"Counts how many times the word appears vertically in a crossword\"\"\"\n",
    "    return(count_horizontals(transposed_cw(crossword), word))\n",
    "\n",
    "def count_diagonals(crossword : list, word = \"xmas\") -> int:\n",
    "    \"\"\"Counts how many times the word appears on the diagonals of a crossword\"\"\"\n",
    "    return count_horizontals(get_diagonals(crossword), word)\n",
    "\n",
    "def count_all(crossword : list, word = \"xmas\") -> int:\n",
    "    return count_diagonals(crossword, word) + count_horizontals(crossword, word) + count_verticals(crossword, word)\n",
    "\n",
    "backend.test(count_all, test_input, 18)"
   ]
  },
  {
   "cell_type": "code",
   "execution_count": 65,
   "metadata": {},
   "outputs": [
    {
     "name": "stdout",
     "output_type": "stream",
     "text": [
      "__________ Input to be parsed __________\n",
      "XMASAXMASXXMMAMAXAXXXMSASXSXSXMAMMAMXMASASXMXMASMSMSSMMSXMASXMSMXMASMMSSMMMSMMAMMSMMMMMSXMAXMSMMMMMSAXAXXXMASAMXXSXMXSSSMSMSXMAMXXXSAXSMSAMX\n",
      "MSMMMMSMXMXSSSSSSMSMSMSASAAXXASAXXMAXSMSAMMSAMSXAAAAXSAMXMASXMXMASAMXXAAAXMAMMAAMAMXAASAMMMSAMXMAASMSXMSMSMXMASMXMASXMAAXAAAXXSSSMMAMMXAXSXX\n",
      "AAAAAAAMMSAAMAAAXAAAAAMMMMMXMXMASXMSASXMAMAMASAMSMMMXMXSAMXSXMASXSAMXMSSMMSASXXSSMMSAMMASAAAAXXXSMSAAMXAAMSXSAMASAAMAMAMSMSMSMAAASAAXAMXMMMS\n",
      "SSSMMSSSSMSSMMMMMSMXMMMAAXXAXAMXMXAMASMSMMMSMMMXASAMXSMSXSAMAXAMAMASAMXAXXMAMXAAMXXMXMMAMMSSSMXXXAMXMAMMSMAXMASXXMASMMAXAAAXAAMMMMSXXSAMXAAA\n",
      "XMAXMXXMAAAXXXAMXXSMMMSMMSAMXMMMMMXMXMAAMAASAMXSAXXMAXAMXMMSSMSSSSMMASXMMMMAMSSMSMMAAXMASXAAAAASMMMSXSXAXMAMSAMXSSMSXMAMMXMSMSSXSAMXAAXXSMSS\n",
      "... and maybe more\n",
      "____________________\n",
      "__________ Parsed input __________\n",
      "XMASAXMASXXMMAMAXAXXXMSASXSXSXMAMMAMXMASASXMXMASMSMSSMMSXMASXMSMXMASMMSSMMMSMMAMMSMMMMMSXMAXMSMMMMMSAXAXXXMASAMXXSXMXSSSMSMSXMAMXXXSAXSMSAMX\n",
      "MSMMMMSMXMXSSSSSSMSMSMSASAAXXASAXXMAXSMSAMMSAMSXAAAAXSAMXMASXMXMASAMXXAAAXMAMMAAMAMXAASAMMMSAMXMAASMSXMSMSMXMASMXMASXMAAXAAAXXSSSMMAMMXAXSXX\n",
      "AAAAAAAMMSAAMAAAXAAAAAMMMMMXMXMASXMSASXMAMAMASAMSMMMXMXSAMXSXMASXSAMXMSSMMSASXXSSMMSAMMASAAAAXXXSMSAAMXAAMSXSAMASAAMAMAMSMSMSMAAASAAXAMXMMMS\n",
      "SSSMMSSSSMSSMMMMMSMXMMMAAXXAXAMXMXAMASMSMMMSMMMXASAMXSMSXSAMAXAMAMASAMXAXXMAMXAAMXXMXMMAMMSSSMXXXAMXMAMMSMAXMASXXMASMMAXAAAXAAMMMMSXXSAMXAAA\n",
      "XMAXMXXMAAAXXXAMXXSMMMSMMSAMXMMMMMXMXMAAMAASAMXSAXXMAXAMXMMSSMSSSSMMASXMMMMAMSSMSMMAAXMASXAAAAASMMMSXSXAXMAMSAMXSSMSXMAMMXMSMSSXSAMXAAXXSMSS\n",
      "... and maybe more\n",
      "____________________\n",
      "Answer for day 4 part 1: 2560  Average time  0.015988 seconds\n"
     ]
    },
    {
     "data": {
      "text/plain": [
       "2560"
      ]
     },
     "execution_count": 65,
     "metadata": {},
     "output_type": "execute_result"
    }
   ],
   "source": [
    "real_input = backend.parseInput(open(\"inputs/day4.txt\").read())\n",
    "backend.run(count_all, real_input, 4, 1)"
   ]
  },
  {
   "cell_type": "markdown",
   "metadata": {},
   "source": [
    "## Part 2"
   ]
  },
  {
   "cell_type": "markdown",
   "metadata": {},
   "source": [
    "It turns out that we didn't read the instructions correctly and that we actually need to look for `X-MAS` which means `MAS` spelled in the shape of an `X`.\n",
    "In order to do so I compute all the locations of the central element `A`, and do some checks on the elements that are on the left top, right top, left bottom and right bottom. \n"
   ]
  },
  {
   "cell_type": "code",
   "execution_count": 66,
   "metadata": {},
   "outputs": [
    {
     "name": "stdout",
     "output_type": "stream",
     "text": [
      "Answer: 9            0.000087 seconds\n",
      "Test succeeded.\n"
     ]
    }
   ],
   "source": [
    "def letter_locations(crossword : list, letter : str):\n",
    "    return list((i, j) for i in range(len(crossword)) for j in range(len(crossword)) if crossword[i][j] == letter)\n",
    "\n",
    "def count_mas(cw : list) -> int:\n",
    "    mas_count = 0\n",
    "    for loc in letter_locations(cw, \"A\"):\n",
    "        i, j = loc\n",
    "        # Filter locations at the edges\n",
    "        if i < 1 or j < 1: continue\n",
    "        if i >= len(cw) - 1 or j >= len(cw) - 1: continue\n",
    "        \n",
    "        l_top, r_top = cw[i-1][j-1], cw[i-1][j+1]\n",
    "        l_bot, r_bot = cw[i+1][j-1], cw[i+1][j+1]\n",
    "        if \"X\" in [l_top, r_top, l_bot, r_bot] : continue\n",
    "        if \"A\" in [l_top, r_top, l_bot, r_bot] : continue\n",
    "        if l_top == r_bot or r_top == l_bot : continue\n",
    "        mas_count += 1\n",
    "    return mas_count\n",
    "\n",
    "backend.test(count_mas, test_input, 9)"
   ]
  },
  {
   "cell_type": "code",
   "execution_count": 67,
   "metadata": {},
   "outputs": [
    {
     "name": "stdout",
     "output_type": "stream",
     "text": [
      "Answer for day 4 part 2: 1910  Average time  0.006941 seconds\n"
     ]
    },
    {
     "data": {
      "text/plain": [
       "1910"
      ]
     },
     "execution_count": 67,
     "metadata": {},
     "output_type": "execute_result"
    }
   ],
   "source": [
    "backend.run(count_mas, real_input, 4, 2)"
   ]
  },
  {
   "cell_type": "markdown",
   "metadata": {},
   "source": [
    "Funnily enough, part 2 took less time! I'm too lazy to reiterate through part 1 though. As long as we can solve all AOC problems in less than 1 second right?"
   ]
  },
  {
   "cell_type": "markdown",
   "metadata": {},
   "source": [
    "# Statistics AOC 2024"
   ]
  },
  {
   "cell_type": "code",
   "execution_count": 68,
   "metadata": {},
   "outputs": [
    {
     "data": {
      "text/html": [
       "<div>\n",
       "<style scoped>\n",
       "    .dataframe tbody tr th:only-of-type {\n",
       "        vertical-align: middle;\n",
       "    }\n",
       "\n",
       "    .dataframe tbody tr th {\n",
       "        vertical-align: top;\n",
       "    }\n",
       "\n",
       "    .dataframe thead th {\n",
       "        text-align: right;\n",
       "    }\n",
       "</style>\n",
       "<table border=\"1\" class=\"dataframe\">\n",
       "  <thead>\n",
       "    <tr style=\"text-align: right;\">\n",
       "      <th></th>\n",
       "      <th>Day</th>\n",
       "      <th>Part</th>\n",
       "      <th>Result</th>\n",
       "      <th>Time</th>\n",
       "    </tr>\n",
       "  </thead>\n",
       "  <tbody>\n",
       "    <tr>\n",
       "      <th>0</th>\n",
       "      <td>1</td>\n",
       "      <td>1</td>\n",
       "      <td>1110981</td>\n",
       "      <td>0.000597</td>\n",
       "    </tr>\n",
       "    <tr>\n",
       "      <th>1</th>\n",
       "      <td>1</td>\n",
       "      <td>2</td>\n",
       "      <td>24869388</td>\n",
       "      <td>0.009658</td>\n",
       "    </tr>\n",
       "    <tr>\n",
       "      <th>2</th>\n",
       "      <td>2</td>\n",
       "      <td>1</td>\n",
       "      <td>526</td>\n",
       "      <td>0.005330</td>\n",
       "    </tr>\n",
       "    <tr>\n",
       "      <th>3</th>\n",
       "      <td>2</td>\n",
       "      <td>2</td>\n",
       "      <td>566</td>\n",
       "      <td>0.019803</td>\n",
       "    </tr>\n",
       "    <tr>\n",
       "      <th>4</th>\n",
       "      <td>3</td>\n",
       "      <td>1</td>\n",
       "      <td>192767529</td>\n",
       "      <td>0.002546</td>\n",
       "    </tr>\n",
       "    <tr>\n",
       "      <th>5</th>\n",
       "      <td>3</td>\n",
       "      <td>2</td>\n",
       "      <td>104083373</td>\n",
       "      <td>0.005654</td>\n",
       "    </tr>\n",
       "    <tr>\n",
       "      <th>6</th>\n",
       "      <td>4</td>\n",
       "      <td>1</td>\n",
       "      <td>2560</td>\n",
       "      <td>0.015988</td>\n",
       "    </tr>\n",
       "    <tr>\n",
       "      <th>7</th>\n",
       "      <td>4</td>\n",
       "      <td>2</td>\n",
       "      <td>1910</td>\n",
       "      <td>0.006941</td>\n",
       "    </tr>\n",
       "  </tbody>\n",
       "</table>\n",
       "</div>"
      ],
      "text/plain": [
       "   Day  Part     Result      Time\n",
       "0    1     1    1110981  0.000597\n",
       "1    1     2   24869388  0.009658\n",
       "2    2     1        526  0.005330\n",
       "3    2     2        566  0.019803\n",
       "4    3     1  192767529  0.002546\n",
       "5    3     2  104083373  0.005654\n",
       "6    4     1       2560  0.015988\n",
       "7    4     2       1910  0.006941"
      ]
     },
     "execution_count": 68,
     "metadata": {},
     "output_type": "execute_result"
    }
   ],
   "source": [
    "backend.overall_results()"
   ]
  },
  {
   "cell_type": "code",
   "execution_count": 69,
   "metadata": {},
   "outputs": [
    {
     "data": {
      "text/plain": [
       "'The total runtime is on average  0.07 seconds'"
      ]
     },
     "execution_count": 69,
     "metadata": {},
     "output_type": "execute_result"
    }
   ],
   "source": [
    "backend.total_avg_runtime()"
   ]
  },
  {
   "cell_type": "code",
   "execution_count": 70,
   "metadata": {},
   "outputs": [
    {
     "data": {
      "text/plain": [
       "Day\n",
       "1    16.188290\n",
       "2     3.715350\n",
       "3     2.220878\n",
       "4     2.303236\n",
       "Name: Time, dtype: float64"
      ]
     },
     "execution_count": 70,
     "metadata": {},
     "output_type": "execute_result"
    }
   ],
   "source": [
    "backend.complexity_increase_per_day()"
   ]
  },
  {
   "cell_type": "code",
   "execution_count": 71,
   "metadata": {},
   "outputs": [
    {
     "data": {
      "image/png": "[encoded data removed]",
      "text/plain": [
       "<Figure size 600x600 with 1 Axes>"
      ]
     },
     "metadata": {},
     "output_type": "display_data"
    }
   ],
   "source": [
    "backend.plot_results()"
   ]
  }
 ],
 "metadata": {
  "kernelspec": {
   "display_name": "Python 3",
   "language": "python",
   "name": "python3"
  },
  "language_info": {
   "codemirror_mode": {
    "name": "ipython",
    "version": 3
   },
   "file_extension": ".py",
   "mimetype": "text/x-python",
   "name": "python",
   "nbconvert_exporter": "python",
   "pygments_lexer": "ipython3",
   "version": "3.12.2"
  }
 },
 "nbformat": 4,
 "nbformat_minor": 2
}
