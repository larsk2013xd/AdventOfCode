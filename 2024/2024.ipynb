{
 "cells": [
  {
   "cell_type": "markdown",
   "metadata": {},
   "source": [
    "# Advent of code 2024\n",
    "\n",
    "It's time for AOC 2024! This time, I will put all answers in one notebook, so we can get a nice overview of runtimes and answers over time. To brighten things up a bit, I added some (AI generated) images corresponding to the problem description. "
   ]
  },
  {
   "cell_type": "code",
   "execution_count": 1,
   "metadata": {},
   "outputs": [],
   "source": [
    "import backend\n",
    "\n",
    "backend.run_results = list()"
   ]
  },
  {
   "cell_type": "markdown",
   "metadata": {},
   "source": [
    "<img src='notebook_images/day1.webp'/>\n",
    "\n",
    "# Day 1 : <a href=\"https://adventofcode.com/2024/day/1\">Historian Hysteria</a>\n",
    "\n",
    "## Part 1\n",
    "\n",
    "For our first problem we will need to sort two lists, and take the sum of each pair of numbers in the sorted lists. Again, I will use my file parser to convert the input to some tuples, and convert them into a NumPy array."
   ]
  },
  {
   "cell_type": "code",
   "execution_count": 2,
   "metadata": {},
   "outputs": [
    {
     "name": "stdout",
     "output_type": "stream",
     "text": [
      "__________ Input to be parsed __________\n",
      "3   4\n",
      "4   3\n",
      "2   5\n",
      "1   3\n",
      "3   9\n",
      "... and maybe more\n",
      "____________________\n",
      "__________ Parsed input __________\n",
      "(3, 4)\n",
      "(4, 3)\n",
      "(2, 5)\n",
      "(1, 3)\n",
      "(3, 9)\n",
      "... and maybe more\n",
      "____________________\n",
      "Answer: 11            0.000010 seconds\n",
      "Test succeeded.\n"
     ]
    }
   ],
   "source": [
    "test_input = backend.parseInput(\"\"\"3   4\n",
    "4   3\n",
    "2   5\n",
    "1   3\n",
    "3   9\n",
    "3   3\"\"\", parseMethod = backend.parseInts)\n",
    "\n",
    "\n",
    "def day_1_part_1(lines : list):\n",
    "    first_list = sorted(tuple(line[0] for line in lines))\n",
    "    second_list = sorted(tuple(line[1] for line in lines))\n",
    "    differences = (abs(first_list[i] - second_list[i]) for i in range(len(first_list)))\n",
    "    return(sum(differences))\n",
    "\n",
    "backend.test(day_1_part_1, test_input, 11)\n"
   ]
  },
  {
   "cell_type": "code",
   "execution_count": 3,
   "metadata": {},
   "outputs": [
    {
     "name": "stdout",
     "output_type": "stream",
     "text": [
      "__________ Input to be parsed __________\n",
      "76309   75213\n",
      "79731   28444\n",
      "29583   71339\n",
      "60992   99148\n",
      "34680   74530\n",
      "... and maybe more\n",
      "____________________\n",
      "__________ Parsed input __________\n",
      "(76309, 75213)\n",
      "(79731, 28444)\n",
      "(29583, 71339)\n",
      "(60992, 99148)\n",
      "(34680, 74530)\n",
      "... and maybe more\n",
      "____________________\n",
      "Answer for day 1 part 1: 1110981  Average time  0.000524 seconds\n"
     ]
    },
    {
     "data": {
      "text/plain": [
       "1110981"
      ]
     },
     "execution_count": 3,
     "metadata": {},
     "output_type": "execute_result"
    }
   ],
   "source": [
    "real_input = backend.parseInput(open(\"inputs/day1.txt\").read(), backend.parseInts)\n",
    "\n",
    "backend.run(day_1_part_1, real_input, 1, 1)"
   ]
  },
  {
   "cell_type": "markdown",
   "metadata": {},
   "source": [
    "That was easy! Now on to part 2."
   ]
  },
  {
   "cell_type": "markdown",
   "metadata": {},
   "source": [
    "## Part 2\n",
    "\n",
    "It turns out that our first list contains ID's and we need to count each ID in the second list. We multiply the ID by the number of occurences in the second list, to obtain the <b>Similarity score</b>."
   ]
  },
  {
   "cell_type": "code",
   "execution_count": 4,
   "metadata": {},
   "outputs": [
    {
     "name": "stdout",
     "output_type": "stream",
     "text": [
      "Answer: 31            0.000021 seconds\n",
      "Test succeeded.\n"
     ]
    }
   ],
   "source": [
    "def day_1_part_2(lines : list):\n",
    "    first_list = tuple(line[0] for line in lines)\n",
    "    second_list = tuple(line[1] for line in lines)\n",
    "    similarity_scores = map(lambda e: e * second_list.count(e), first_list)\n",
    "    return(sum(similarity_scores))\n",
    "    \n",
    "backend.test(day_1_part_2, test_input, 31)"
   ]
  },
  {
   "cell_type": "code",
   "execution_count": 5,
   "metadata": {},
   "outputs": [
    {
     "name": "stdout",
     "output_type": "stream",
     "text": [
      "Answer for day 1 part 2: 24869388  Average time  0.010004 seconds\n"
     ]
    },
    {
     "data": {
      "text/plain": [
       "24869388"
      ]
     },
     "execution_count": 5,
     "metadata": {},
     "output_type": "execute_result"
    }
   ],
   "source": [
    "backend.run(day_1_part_2, real_input, 1, 2)"
   ]
  },
  {
   "cell_type": "markdown",
   "metadata": {},
   "source": [
    "Day 1 was quite doable, as ever with AOC. Let's see what day 2 brings us!"
   ]
  },
  {
   "cell_type": "markdown",
   "metadata": {},
   "source": [
    "<img src='notebook_images/day2.webp'/>\n",
    "\n",
    "# Day 2 : <a href=\"https://adventofcode.com/2024/day/2\">Red-Nosed Reports</a>\n",
    "\n",
    "Today, we are tasked with classifying reports whether they are either <b>safe</b> or <b>unsafe</b>.\n",
    "Safe reports contain numbers in strictly increasing or strictly decreasing order (i.e. monotonic), where the increments, or decrements do not exceed 3.\n",
    "\n",
    "For this, I introduce a function called `diff_tuple` which generates a tuple that represents the running difference of another tuple.\n",
    "\n",
    "## Part 1\n"
   ]
  },
  {
   "cell_type": "code",
   "execution_count": 6,
   "metadata": {},
   "outputs": [
    {
     "name": "stdout",
     "output_type": "stream",
     "text": [
      "__________ Input to be parsed __________\n",
      "7 6 4 2 1\n",
      "1 2 7 8 9\n",
      "9 7 6 2 1\n",
      "1 3 2 4 5\n",
      "8 6 4 4 1\n",
      "... and maybe more\n",
      "____________________\n",
      "__________ Parsed input __________\n",
      "(7, 6, 4, 2, 1)\n",
      "(1, 2, 7, 8, 9)\n",
      "(9, 7, 6, 2, 1)\n",
      "(1, 3, 2, 4, 5)\n",
      "(8, 6, 4, 4, 1)\n",
      "... and maybe more\n",
      "____________________\n",
      "Answer: 2            0.000048 seconds\n",
      "Test succeeded.\n"
     ]
    }
   ],
   "source": [
    "test_input = backend.parseInput(\"\"\"7 6 4 2 1\n",
    "1 2 7 8 9\n",
    "9 7 6 2 1\n",
    "1 3 2 4 5\n",
    "8 6 4 4 1\n",
    "1 3 6 7 9\"\"\", parseMethod = backend.parseInts)\n",
    "\n",
    "def diff_tuple(t : tuple) -> tuple:\n",
    "    \"\"\"Returns a tuple with the one-step differences\"\"\"\n",
    "    return tuple(t[i + 1] - t[i] for i in range(len(t)-1))\n",
    "\n",
    "def is_monotonic_tuple(t : tuple) -> bool:\n",
    "    \"\"\"Check is a tuple either strictly increases or decreases\"\"\"\n",
    "    diff_t = diff_tuple(t)\n",
    "    return min(diff_t) * max(diff_t) > 0\n",
    "\n",
    "def is_safe(report : tuple) -> bool:\n",
    "    monotonic = is_monotonic_tuple(report)\n",
    "    safe_abs_change = max(diff_tuple(report)) <= 3 and min(diff_tuple(report)) >= -3\n",
    "    return(monotonic * safe_abs_change)\n",
    "\n",
    "def day_2_part_1(reports : list):\n",
    "    map_obj = map(is_safe, reports)\n",
    "    return(sum(map_obj))\n",
    "\n",
    "backend.test(day_2_part_1, test_input, 2)"
   ]
  },
  {
   "cell_type": "code",
   "execution_count": 7,
   "metadata": {},
   "outputs": [
    {
     "name": "stdout",
     "output_type": "stream",
     "text": [
      "__________ Input to be parsed __________\n",
      "20 21 24 25 27 29 27\n",
      "60 61 62 64 64\n",
      "15 18 21 22 25 26 30\n",
      "5 8 11 14 16 19 20 26\n",
      "20 22 20 23 24\n",
      "... and maybe more\n",
      "____________________\n",
      "__________ Parsed input __________\n",
      "(20, 21, 24, 25, 27, 29, 27)\n",
      "(60, 61, 62, 64, 64)\n",
      "(15, 18, 21, 22, 25, 26, 30)\n",
      "(5, 8, 11, 14, 16, 19, 20, 26)\n",
      "(20, 22, 20, 23, 24)\n",
      "... and maybe more\n",
      "____________________\n",
      "Answer for day 2 part 1: 526  Average time  0.004190 seconds\n"
     ]
    },
    {
     "data": {
      "text/plain": [
       "526"
      ]
     },
     "execution_count": 7,
     "metadata": {},
     "output_type": "execute_result"
    }
   ],
   "source": [
    "real_input = backend.parseInput(open(\"inputs/day2.txt\").read(), parseMethod = backend.parseInts)\n",
    "backend.run(day_2_part_1, real_input, 2, 1)"
   ]
  },
  {
   "cell_type": "markdown",
   "metadata": {},
   "source": [
    "## Part 2\n",
    "\n",
    "It turns out that the facility contains a <b>problem dampener</b>, that can remove a single element from a report to make it safe. We now need to figure out how many reports are safe after the problem dampener removed a single element from a report to make it safe (if possible). For this, I use a simple approach by checking whether we obtain a safe list by removing any element from the report."
   ]
  },
  {
   "cell_type": "code",
   "execution_count": 8,
   "metadata": {},
   "outputs": [
    {
     "name": "stdout",
     "output_type": "stream",
     "text": [
      "Answer: 4            0.000112 seconds\n",
      "Test succeeded.\n"
     ]
    }
   ],
   "source": [
    "def list_without(l : list, i: int) -> list:\n",
    "    \"\"\"Returns a list with index i removed\"\"\"\n",
    "    l_copy = l.copy()\n",
    "    l_copy.pop(i)\n",
    "    return(l_copy)\n",
    "\n",
    "def problem_dampener(report : tuple):\n",
    "    if is_safe(report) : return True\n",
    "    report_list = list(report)\n",
    "    return(sum(map(lambda e : is_safe(list_without(report_list, e)), range(len(report_list)))) > 0)\n",
    "    \n",
    "def day_2_part_2(input):\n",
    "    map_obj = map(problem_dampener, [report for report in input])\n",
    "    return(sum(map_obj))\n",
    "\n",
    "backend.test(day_2_part_2, test_input, 4)"
   ]
  },
  {
   "cell_type": "code",
   "execution_count": 9,
   "metadata": {},
   "outputs": [
    {
     "name": "stdout",
     "output_type": "stream",
     "text": [
      "Answer for day 2 part 2: 566  Average time  0.015845 seconds\n"
     ]
    },
    {
     "data": {
      "text/plain": [
       "566"
      ]
     },
     "execution_count": 9,
     "metadata": {},
     "output_type": "execute_result"
    }
   ],
   "source": [
    "backend.run(day_2_part_2, real_input, 2, 2)"
   ]
  },
  {
   "cell_type": "markdown",
   "metadata": {},
   "source": [
    "# Statistics AOC 2024"
   ]
  },
  {
   "cell_type": "code",
   "execution_count": 10,
   "metadata": {},
   "outputs": [
    {
     "data": {
      "text/html": [
       "<div>\n",
       "<style scoped>\n",
       "    .dataframe tbody tr th:only-of-type {\n",
       "        vertical-align: middle;\n",
       "    }\n",
       "\n",
       "    .dataframe tbody tr th {\n",
       "        vertical-align: top;\n",
       "    }\n",
       "\n",
       "    .dataframe thead th {\n",
       "        text-align: right;\n",
       "    }\n",
       "</style>\n",
       "<table border=\"1\" class=\"dataframe\">\n",
       "  <thead>\n",
       "    <tr style=\"text-align: right;\">\n",
       "      <th></th>\n",
       "      <th>Day</th>\n",
       "      <th>Part</th>\n",
       "      <th>Result</th>\n",
       "      <th>Time</th>\n",
       "    </tr>\n",
       "  </thead>\n",
       "  <tbody>\n",
       "    <tr>\n",
       "      <th>0</th>\n",
       "      <td>1</td>\n",
       "      <td>1</td>\n",
       "      <td>1110981</td>\n",
       "      <td>0.000524</td>\n",
       "    </tr>\n",
       "    <tr>\n",
       "      <th>1</th>\n",
       "      <td>1</td>\n",
       "      <td>2</td>\n",
       "      <td>24869388</td>\n",
       "      <td>0.010004</td>\n",
       "    </tr>\n",
       "    <tr>\n",
       "      <th>2</th>\n",
       "      <td>2</td>\n",
       "      <td>1</td>\n",
       "      <td>526</td>\n",
       "      <td>0.004190</td>\n",
       "    </tr>\n",
       "    <tr>\n",
       "      <th>3</th>\n",
       "      <td>2</td>\n",
       "      <td>2</td>\n",
       "      <td>566</td>\n",
       "      <td>0.015845</td>\n",
       "    </tr>\n",
       "  </tbody>\n",
       "</table>\n",
       "</div>"
      ],
      "text/plain": [
       "   Day  Part    Result      Time\n",
       "0    1     1   1110981  0.000524\n",
       "1    1     2  24869388  0.010004\n",
       "2    2     1       526  0.004190\n",
       "3    2     2       566  0.015845"
      ]
     },
     "execution_count": 10,
     "metadata": {},
     "output_type": "execute_result"
    }
   ],
   "source": [
    "backend.overall_results()"
   ]
  },
  {
   "cell_type": "code",
   "execution_count": 11,
   "metadata": {},
   "outputs": [
    {
     "data": {
      "text/plain": [
       "'The total runtime is on average  0.03 seconds'"
      ]
     },
     "execution_count": 11,
     "metadata": {},
     "output_type": "execute_result"
    }
   ],
   "source": [
    "backend.total_avg_runtime()"
   ]
  },
  {
   "cell_type": "code",
   "execution_count": 12,
   "metadata": {},
   "outputs": [
    {
     "data": {
      "text/plain": [
       "Day\n",
       "1    19.084361\n",
       "2     3.781528\n",
       "Name: Time, dtype: float64"
      ]
     },
     "execution_count": 12,
     "metadata": {},
     "output_type": "execute_result"
    }
   ],
   "source": [
    "backend.complexity_increase_per_day()"
   ]
  },
  {
   "cell_type": "code",
   "execution_count": 13,
   "metadata": {},
   "outputs": [
    {
     "data": {
      "image/png": "[encoded data removed]",
      "text/plain": [
       "<Figure size 600x600 with 1 Axes>"
      ]
     },
     "metadata": {},
     "output_type": "display_data"
    }
   ],
   "source": [
    "backend.plot_results()"
   ]
  }
 ],
 "metadata": {
  "kernelspec": {
   "display_name": "base",
   "language": "python",
   "name": "python3"
  },
  "language_info": {
   "codemirror_mode": {
    "name": "ipython",
    "version": 3
   },
   "file_extension": ".py",
   "mimetype": "text/x-python",
   "name": "python",
   "nbconvert_exporter": "python",
   "pygments_lexer": "ipython3",
   "version": "3.12.4"
  }
 },
 "nbformat": 4,
 "nbformat_minor": 2
}
