{
 "cells": [
  {
   "cell_type": "markdown",
   "metadata": {},
   "source": [
    "# Day 7 : No Space Left On Device\n",
    "\n",
    "## Part 1\n"
   ]
  },
  {
   "cell_type": "code",
   "execution_count": 1,
   "metadata": {},
   "outputs": [
    {
     "name": "stdout",
     "output_type": "stream",
     "text": [
      "__________ Input to be parsed __________\n",
      "$ cd /\n",
      "$ ls\n",
      "dir a\n",
      "14848514 b.txt\n",
      "8504156 c.dat\n",
      "... and maybe more\n",
      "____________________\n",
      "__________ Parsed input __________\n",
      "('$', 'cd', '/')\n",
      "('$', 'ls')\n",
      "('dir', 'a')\n",
      "('14848514', 'b.txt')\n",
      "('8504156', 'c.dat')\n",
      "... and maybe more\n",
      "____________________\n"
     ]
    }
   ],
   "source": [
    "from backend import *\n",
    "\n",
    "testInput = parseInput(\"\"\"$ cd /\n",
    "$ ls\n",
    "dir a\n",
    "14848514 b.txt\n",
    "8504156 c.dat\n",
    "dir d\n",
    "$ cd a\n",
    "$ ls\n",
    "dir e\n",
    "29116 f\n",
    "2557 g\n",
    "62596 h.lst\n",
    "$ cd e\n",
    "$ ls\n",
    "584 i\n",
    "$ cd ..\n",
    "$ cd ..\n",
    "$ cd d\n",
    "$ ls\n",
    "4060174 j\n",
    "8033020 d.log\n",
    "5626152 d.ext\n",
    "7214296 k\"\"\", parseMethod=parseWords)"
   ]
  },
  {
   "cell_type": "markdown",
   "metadata": {},
   "source": [
    "The actual data:"
   ]
  },
  {
   "cell_type": "code",
   "execution_count": 2,
   "metadata": {},
   "outputs": [
    {
     "name": "stdout",
     "output_type": "stream",
     "text": [
      "__________ Input to be parsed __________\n",
      "$ cd /\n",
      "$ ls\n",
      "dir plws\n",
      "dir pwlbgbz\n",
      "dir pwtpltr\n",
      "... and maybe more\n",
      "____________________\n",
      "__________ Parsed input __________\n",
      "('$', 'cd', '/')\n",
      "('$', 'ls')\n",
      "('dir', 'plws')\n",
      "('dir', 'pwlbgbz')\n",
      "('dir', 'pwtpltr')\n",
      "... and maybe more\n",
      "____________________\n"
     ]
    }
   ],
   "source": [
    "actualInput = parseInput(open(\"inputs/day7.txt\").read(), parseMethod=parseWords)"
   ]
  },
  {
   "cell_type": "code",
   "execution_count": null,
   "metadata": {},
   "outputs": [
    {
     "data": {
      "text/plain": [
       "95437"
      ]
     },
     "execution_count": 88,
     "metadata": {},
     "output_type": "execute_result"
    }
   ],
   "source": [
    "class Folder():\n",
    "    def __init__(self, path : str, items : list, parentItem = None):\n",
    "        self.path = path\n",
    "        self.items = items\n",
    "        self.parentItem = parentItem\n",
    "\n",
    "    def folderSize(self) -> int:\n",
    "        return(sum(map(sizeOfPathElement, self.items)))\n",
    "\n",
    "    @classmethod\n",
    "    def isInFolder(cls, searchFolder, searchedFolder):\n",
    "        return searchFolder in searchedFolder\n",
    "    \n",
    "    def findFolder(self, pathName):\n",
    "        found = [item for item in self.items if item.path == pathName]\n",
    "        return found[0] if len(found) >= 1 else None\n",
    "    \n",
    "    def listAllFolders(self):\n",
    "        subFolders = [self]\n",
    "        if all(map(lambda W : type(W) == File, self.items)): return([self])\n",
    "        for item in self.items:\n",
    "            if type(item) == type(self) : subFolders.extend(item.listAllFolders())\n",
    "        return subFolders\n",
    "            \n",
    "class File():\n",
    "    def __init__(self, path : str, fileSize : int):\n",
    "        self.path = path\n",
    "        self.fileSize = fileSize\n",
    "\n",
    "def sizeOfPathElement(pathElement : File | Folder) -> int:\n",
    "    \"\"\"Returns the size of a path element which is either a file or folder\"\"\"\n",
    "    if type(pathElement) == File : return pathElement.fileSize\n",
    "    if type(pathElement) == Folder : return pathElement.folderSize()\n",
    "\n",
    "def instructionsToTree(instructions : list) -> Folder:\n",
    "    \"\"\"Iterate through an instructionset and return the main folder\"\"\"\n",
    "    rootFolder = Folder(\"root\", [])\n",
    "    currentFolder = rootFolder\n",
    "    lsList = [] ## To keep track of LS\n",
    "    for firstElement, *additionalElements in instructions:\n",
    "        if firstElement == \"$\" : # We perform a new action\n",
    "            command, *commandArguments = additionalElements\n",
    "            if command == \"cd\" :\n",
    "                ## Clear the lsList, and add the items to the current folder\n",
    "                currentFolder.items.extend(lsList)\n",
    "                lsList = []\n",
    "                if commandArguments[0] == \"/\" : currentFolder = rootFolder; continue\n",
    "                if commandArguments[0] == \"..\" : currentFolder = currentFolder.parentItem; continue\n",
    "                newFolder = currentFolder.findFolder(f\"{currentFolder.path}/{commandArguments[0]}\")\n",
    "                if not newFolder : ## Add the folder to the structure if not found\n",
    "                    newFolder = Folder(f\"{currentFolder.path}/{commandArguments[0]}\", [], currentFolder)\n",
    "                    currentFolder.items.append(newFolder)\n",
    "                currentFolder = newFolder\n",
    "        else : # We are still listing items\n",
    "            fileSize, fileName = firstElement, additionalElements\n",
    "            if fileSize == \"dir\" : continue # Do not add directories to the folder, this is indexed when changing directories.\n",
    "            lsList.append(File(fileName, int(fileSize)))\n",
    "    \n",
    "    currentFolder.items.extend(lsList) # Take care of final items if they exist\n",
    "    return rootFolder\n"
   ]
  },
  {
   "cell_type": "code",
   "execution_count": 89,
   "metadata": {},
   "outputs": [
    {
     "name": "stdout",
     "output_type": "stream",
     "text": [
      "Answer: 95437            0.000075 seconds\n",
      "Test succeeded.\n"
     ]
    }
   ],
   "source": [
    "day7_part1 = lambda W : sum([folder.folderSize() for folder in Folder.listAllFolders(instructionsToTree(W)) if folder.folderSize() <= 1e5])\n",
    "test(day7_part1, testInput, 95437)"
   ]
  },
  {
   "cell_type": "code",
   "execution_count": 90,
   "metadata": {},
   "outputs": [
    {
     "name": "stdout",
     "output_type": "stream",
     "text": [
      "Answer: 1432936            0.002431 seconds\n"
     ]
    },
    {
     "data": {
      "text/plain": [
       "1432936"
      ]
     },
     "execution_count": 90,
     "metadata": {},
     "output_type": "execute_result"
    }
   ],
   "source": [
    "run(day7_part1, actualInput)"
   ]
  },
  {
   "cell_type": "markdown",
   "metadata": {},
   "source": [
    "## Part 2"
   ]
  },
  {
   "cell_type": "code",
   "execution_count": null,
   "metadata": {},
   "outputs": [
    {
     "data": {
      "text/plain": [
       "24933642"
      ]
     },
     "execution_count": 115,
     "metadata": {},
     "output_type": "execute_result"
    }
   ],
   "source": [
    "def day7_part2(input):\n",
    "    folderSizes = list(map(Folder.folderSize, Folder.listAllFolders(instructionsToTree(input))))\n",
    "    requiredSpace = 3e7 - 7e7 + max(folderSizes)\n",
    "    return(min([folderSize for folderSize in folderSizes if folderSize >= requiredSpace]))"
   ]
  },
  {
   "cell_type": "code",
   "execution_count": 116,
   "metadata": {},
   "outputs": [
    {
     "name": "stdout",
     "output_type": "stream",
     "text": [
      "Answer: 24933642            0.000063 seconds\n",
      "Test succeeded.\n"
     ]
    }
   ],
   "source": [
    "test(day7_part2, testInput, 24933642)"
   ]
  },
  {
   "cell_type": "code",
   "execution_count": 117,
   "metadata": {},
   "outputs": [
    {
     "name": "stdout",
     "output_type": "stream",
     "text": [
      "Answer: 272298            0.001884 seconds\n"
     ]
    },
    {
     "data": {
      "text/plain": [
       "272298"
      ]
     },
     "execution_count": 117,
     "metadata": {},
     "output_type": "execute_result"
    }
   ],
   "source": [
    "run(day7_part2, actualInput)"
   ]
  }
 ],
 "metadata": {
  "kernelspec": {
   "display_name": "Python 3",
   "language": "python",
   "name": "python3"
  },
  "language_info": {
   "codemirror_mode": {
    "name": "ipython",
    "version": 3
   },
   "file_extension": ".py",
   "mimetype": "text/x-python",
   "name": "python",
   "nbconvert_exporter": "python",
   "pygments_lexer": "ipython3",
   "version": "3.12.2"
  }
 },
 "nbformat": 4,
 "nbformat_minor": 2
}
