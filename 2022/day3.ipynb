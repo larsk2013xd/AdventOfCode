{
 "cells": [
  {
   "cell_type": "markdown",
   "metadata": {},
   "source": [
    "# Day 3 : Rucksack Reorganization\n",
    "\n",
    "## Part 1\n",
    "\n"
   ]
  },
  {
   "cell_type": "code",
   "execution_count": 31,
   "metadata": {},
   "outputs": [
    {
     "name": "stdout",
     "output_type": "stream",
     "text": [
      "__________ Input to be parsed __________\n",
      "vJrwpWtwJgWrhcsFMMfFFhFp\n",
      "jqHRNqRjqzjGDLGLrsFMfFZSrLrFZsSL\n",
      "PmmdzqPrVvPwwTWBwg\n",
      "wMqvLMZHhHMvwLHjbvcjnnSBnvTQFn\n",
      "ttgJtRGJQctTZtZT\n",
      "... and maybe more\n",
      "____________________\n",
      "__________ Parsed input __________\n",
      "vJrwpWtwJgWrhcsFMMfFFhFp\n",
      "jqHRNqRjqzjGDLGLrsFMfFZSrLrFZsSL\n",
      "PmmdzqPrVvPwwTWBwg\n",
      "wMqvLMZHhHMvwLHjbvcjnnSBnvTQFn\n",
      "ttgJtRGJQctTZtZT\n",
      "... and maybe more\n",
      "____________________\n"
     ]
    }
   ],
   "source": [
    "from backend import *\n",
    "\n",
    "testInput = parseInput(\"\"\"vJrwpWtwJgWrhcsFMMfFFhFp\n",
    "jqHRNqRjqzjGDLGLrsFMfFZSrLrFZsSL\n",
    "PmmdzqPrVvPwwTWBwg\n",
    "wMqvLMZHhHMvwLHjbvcjnnSBnvTQFn\n",
    "ttgJtRGJQctTZtZT\n",
    "CrZsJsPPZsGzwwsLwLmpwMDw\"\"\", parseMethod=str)\n"
   ]
  },
  {
   "cell_type": "markdown",
   "metadata": {},
   "source": [
    "and our actual data:"
   ]
  },
  {
   "cell_type": "code",
   "execution_count": 32,
   "metadata": {},
   "outputs": [
    {
     "name": "stdout",
     "output_type": "stream",
     "text": [
      "__________ Input to be parsed __________\n",
      "NGvdqJmJvpNbGRMGQgRsfgfn\n",
      "WlHTHShlLwSWjFRsncfbcwsgQc\n",
      "BHtSBHWHSCWLZHlhjTHLLdbNNqNpzpDzNvDvtPmmPp\n",
      "JJSShnTpDSJJlllfwBNVbMQWwhQhgQtt\n",
      "cTzrvrHdLwwzttQNWB\n",
      "... and maybe more\n",
      "____________________\n",
      "__________ Parsed input __________\n",
      "NGvdqJmJvpNbGRMGQgRsfgfn\n",
      "WlHTHShlLwSWjFRsncfbcwsgQc\n",
      "BHtSBHWHSCWLZHlhjTHLLdbNNqNpzpDzNvDvtPmmPp\n",
      "JJSShnTpDSJJlllfwBNVbMQWwhQhgQtt\n",
      "cTzrvrHdLwwzttQNWB\n",
      "... and maybe more\n",
      "____________________\n"
     ]
    }
   ],
   "source": [
    "actualInput = parseInput(open(\"inputs/day3.txt\").read(), parseMethod=str)"
   ]
  },
  {
   "cell_type": "code",
   "execution_count": 90,
   "metadata": {},
   "outputs": [],
   "source": [
    "def splitRuckSack(rucksack : str) -> tuple:\n",
    "    return((rucksack[:len(rucksack)//2], rucksack[-len(rucksack)//2:]))\n",
    "\n",
    "def getCommon(rucksack : str):\n",
    "    \"\"\"Returns the common element in multiple items\"\"\"\n",
    "    split = splitRuckSack(rucksack)\n",
    "    return(list(item for item in split[0] if item in split[1])[0])\n",
    "\n",
    "def priority(rucksack : str) -> int:\n",
    "    item = getCommon(rucksack)\n",
    "    if(ord(item) >= 97) : return ord(item) - 96\n",
    "    if(ord(item) < 97) : return ord(item) - 38\n"
   ]
  },
  {
   "cell_type": "code",
   "execution_count": 92,
   "metadata": {},
   "outputs": [
    {
     "name": "stdout",
     "output_type": "stream",
     "text": [
      "Answer: 157            0.000034 seconds\n",
      "Test succeeded.\n"
     ]
    }
   ],
   "source": [
    "day3_part1 = lambda W : sum(map(priority, W))\n",
    "test(day3_part1, testInput, 157)"
   ]
  },
  {
   "cell_type": "code",
   "execution_count": 93,
   "metadata": {},
   "outputs": [
    {
     "name": "stdout",
     "output_type": "stream",
     "text": [
      "Answer: 8139            0.001138 seconds\n"
     ]
    },
    {
     "data": {
      "text/plain": [
       "8139"
      ]
     },
     "execution_count": 93,
     "metadata": {},
     "output_type": "execute_result"
    }
   ],
   "source": [
    "run(day3_part1, actualInput)"
   ]
  },
  {
   "cell_type": "markdown",
   "metadata": {},
   "source": [
    "Very nice! This wasn't too difficult. I wonder why we're getting not just getting points for the outcomes...\n",
    "\n",
    "## Part 2\n",
    "\n",
    "Well, it turns out that the instructions don't refer to the strategy we need to play. It actually refers to losing, drawing or winning. Now we need to determine our strategy given the instruction, and the strategy our opponent played. "
   ]
  },
  {
   "cell_type": "code",
   "execution_count": null,
   "metadata": {},
   "outputs": [],
   "source": [
    "def playToGetOutcome(game : tuple) -> str:\n",
    "    scoreoutcome = 0 * (game[1] == \"X\") + 3 * (game[1] == \"Y\") + 6 * (game[1] == \"Z\")\n",
    "    player = [key[1:] for key in gameMatrix.keys() if gameMatrix[key] == scoreoutcome and key.startswith(game[0])][0]\n",
    "    return gameScore((game[0], player))"
   ]
  },
  {
   "cell_type": "code",
   "execution_count": null,
   "metadata": {},
   "outputs": [
    {
     "name": "stdout",
     "output_type": "stream",
     "text": [
      "Answer: 12            0.000031 seconds\n",
      "Test succeeded.\n"
     ]
    }
   ],
   "source": [
    "day2_part2 = lambda W : sum(map(playToGetOutcome, W))\n",
    "test(day2_part2, testInput, 12)"
   ]
  },
  {
   "cell_type": "code",
   "execution_count": null,
   "metadata": {},
   "outputs": [
    {
     "name": "stdout",
     "output_type": "stream",
     "text": [
      "Answer: 10835            0.008511 seconds\n"
     ]
    },
    {
     "data": {
      "text/plain": [
       "10835"
      ]
     },
     "execution_count": 83,
     "metadata": {},
     "output_type": "execute_result"
    }
   ],
   "source": [
    "run(day2_part2, actualInput)"
   ]
  }
 ],
 "metadata": {
  "kernelspec": {
   "display_name": "Python 3",
   "language": "python",
   "name": "python3"
  },
  "language_info": {
   "codemirror_mode": {
    "name": "ipython",
    "version": 3
   },
   "file_extension": ".py",
   "mimetype": "text/x-python",
   "name": "python",
   "nbconvert_exporter": "python",
   "pygments_lexer": "ipython3",
   "version": "3.12.2"
  }
 },
 "nbformat": 4,
 "nbformat_minor": 2
}
