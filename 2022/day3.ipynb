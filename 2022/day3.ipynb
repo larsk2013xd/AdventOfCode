{
 "cells": [
  {
   "cell_type": "markdown",
   "metadata": {},
   "source": [
    "# Day 3 : Rucksack Reorganization\n",
    "\n",
    "## Part 1\n",
    "\n",
    "For this problem we consider rucksacks that elves carry with different items. Each item type denoted by letters is supposed to be in only one of two sections of the rucksack. Each of the two sections contain the same amount of items. The goal is to find the item which is present in both sections of each rucksack and find it's priority number. We then must find the sum of all priority numbers of each of the rucksacks.\n",
    "\n",
    "Let us start by importing the test input:"
   ]
  },
  {
   "cell_type": "code",
   "execution_count": 91,
   "metadata": {},
   "outputs": [
    {
     "name": "stdout",
     "output_type": "stream",
     "text": [
      "__________ Input to be parsed __________\n",
      "vJrwpWtwJgWrhcsFMMfFFhFp\n",
      "jqHRNqRjqzjGDLGLrsFMfFZSrLrFZsSL\n",
      "PmmdzqPrVvPwwTWBwg\n",
      "wMqvLMZHhHMvwLHjbvcjnnSBnvTQFn\n",
      "ttgJtRGJQctTZtZT\n",
      "... and maybe more\n",
      "____________________\n",
      "__________ Parsed input __________\n",
      "vJrwpWtwJgWrhcsFMMfFFhFp\n",
      "jqHRNqRjqzjGDLGLrsFMfFZSrLrFZsSL\n",
      "PmmdzqPrVvPwwTWBwg\n",
      "wMqvLMZHhHMvwLHjbvcjnnSBnvTQFn\n",
      "ttgJtRGJQctTZtZT\n",
      "... and maybe more\n",
      "____________________\n"
     ]
    }
   ],
   "source": [
    "from backend import *\n",
    "\n",
    "testInput = parseInput(\"\"\"vJrwpWtwJgWrhcsFMMfFFhFp\n",
    "jqHRNqRjqzjGDLGLrsFMfFZSrLrFZsSL\n",
    "PmmdzqPrVvPwwTWBwg\n",
    "wMqvLMZHhHMvwLHjbvcjnnSBnvTQFn\n",
    "ttgJtRGJQctTZtZT\n",
    "CrZsJsPPZsGzwwsLwLmpwMDw\"\"\", parseMethod=str)\n"
   ]
  },
  {
   "cell_type": "markdown",
   "metadata": {},
   "source": [
    "and our actual data:"
   ]
  },
  {
   "cell_type": "code",
   "execution_count": 92,
   "metadata": {},
   "outputs": [
    {
     "name": "stdout",
     "output_type": "stream",
     "text": [
      "__________ Input to be parsed __________\n",
      "NGvdqJmJvpNbGRMGQgRsfgfn\n",
      "WlHTHShlLwSWjFRsncfbcwsgQc\n",
      "BHtSBHWHSCWLZHlhjTHLLdbNNqNpzpDzNvDvtPmmPp\n",
      "JJSShnTpDSJJlllfwBNVbMQWwhQhgQtt\n",
      "cTzrvrHdLwwzttQNWB\n",
      "... and maybe more\n",
      "____________________\n",
      "__________ Parsed input __________\n",
      "NGvdqJmJvpNbGRMGQgRsfgfn\n",
      "WlHTHShlLwSWjFRsncfbcwsgQc\n",
      "BHtSBHWHSCWLZHlhjTHLLdbNNqNpzpDzNvDvtPmmPp\n",
      "JJSShnTpDSJJlllfwBNVbMQWwhQhgQtt\n",
      "cTzrvrHdLwwzttQNWB\n",
      "... and maybe more\n",
      "____________________\n"
     ]
    }
   ],
   "source": [
    "actualInput = parseInput(open(\"inputs/day3.txt\").read(), parseMethod=str)"
   ]
  },
  {
   "cell_type": "markdown",
   "metadata": {},
   "source": [
    "I defined a function `splitRuckSack` which just splits a string into two halves. Then, using `set` intersections I defined a function `getCommon` which returns the item(s) that are present in all the given lists. We could pass multiple strings or lists to this function and it would find overlapping elements.\n",
    "\n",
    "Finally, in the function `itemPriority` I map the item to its corresponding priority using `ord`. The system behind the prioritites is quite simple: `a` refers to a priority of `1`, and `z` corresponds to priority `26`. Then `A` corresponds to `27` and `Z` corresponds to `52`."
   ]
  },
  {
   "cell_type": "code",
   "execution_count": 93,
   "metadata": {},
   "outputs": [],
   "source": [
    "def splitRuckSack(rucksack : str) -> tuple:\n",
    "    return((rucksack[:len(rucksack)//2], rucksack[-len(rucksack)//2:]))\n",
    "\n",
    "def getCommon(lists):\n",
    "    \"\"\"Returns the common elements from iterables in a list of iterables.\"\"\"\n",
    "    return list(set.intersection(*[set(listType) for listType in lists]))\n",
    "    \n",
    "def itemPriority(item : str) -> int:\n",
    "    assert len(item) == 1, f\"Function expects a single item. Got {item} instead.\"\n",
    "    item = item[0]\n",
    "    return (ord(item) >= 97)*(ord(item) - 96) + (ord(item) < 97)*(ord(item) - 38)"
   ]
  },
  {
   "cell_type": "markdown",
   "metadata": {},
   "source": [
    "We need to do some mapping to get the priorities of each of the rule-breaking items in all of the rucksacks. But it should give us the right answer."
   ]
  },
  {
   "cell_type": "code",
   "execution_count": 94,
   "metadata": {},
   "outputs": [
    {
     "name": "stdout",
     "output_type": "stream",
     "text": [
      "Answer: 157            0.000066 seconds\n",
      "Test succeeded.\n"
     ]
    }
   ],
   "source": [
    "day3_part1 = lambda W : sum(map(itemPriority, map(getCommon, map(splitRuckSack, W))))\n",
    "test(day3_part1, testInput, 157)"
   ]
  },
  {
   "cell_type": "code",
   "execution_count": 95,
   "metadata": {},
   "outputs": [
    {
     "name": "stdout",
     "output_type": "stream",
     "text": [
      "Answer: 8139            0.001536 seconds\n"
     ]
    },
    {
     "data": {
      "text/plain": [
       "8139"
      ]
     },
     "execution_count": 95,
     "metadata": {},
     "output_type": "execute_result"
    }
   ],
   "source": [
    "run(day3_part1, actualInput)"
   ]
  },
  {
   "cell_type": "markdown",
   "metadata": {},
   "source": [
    "## Part 2"
   ]
  },
  {
   "cell_type": "markdown",
   "metadata": {},
   "source": [
    "It turns out that every group of three elves have exactly one item type in all of their rucksacks. Which is called their badge number. We need to find the sum of all item priorities of the badges worn by each group of three elves. \n",
    "\n",
    "To create these groups I partition the dataset into rows of 3 using `kRows` as defined in <a href='backend.py'>the backend</a>. Which quickly creates groups for me that I can iterate over. As the `getCommons` function is already expanded to accept multiple lists and find overlapping items, we should be able to adjust our code quite easily.\n",
    "\n",
    "First we need to reload our data into the correct format."
   ]
  },
  {
   "cell_type": "code",
   "execution_count": 100,
   "metadata": {},
   "outputs": [
    {
     "name": "stdout",
     "output_type": "stream",
     "text": [
      "__________ Input to be parsed __________\n",
      "vJrwpWtwJgWrhcsFMMfFFhFp\n",
      "jqHRNqRjqzjGDLGLrsFMfFZSrLrFZsSL\n",
      "PmmdzqPrVvPwwTWBwg\n",
      "wMqvLMZHhHMvwLHjbvcjnnSBnvTQFn\n",
      "ttgJtRGJQctTZtZT\n",
      "... and maybe more\n",
      "____________________\n",
      "__________ Parsed input __________\n",
      "['vJrwpWtwJgWrhcsFMMfFFhFp', 'jqHRNqRjqzjGDLGLrsFMfFZSrLrFZsSL', 'PmmdzqPrVvPwwTWBwg']\n",
      "['wMqvLMZHhHMvwLHjbvcjnnSBnvTQFn', 'ttgJtRGJQctTZtZT', 'CrZsJsPPZsGzwwsLwLmpwMDw']\n",
      "... and maybe more\n",
      "____________________\n"
     ]
    }
   ],
   "source": [
    "testInput = parseInput(\"\"\"vJrwpWtwJgWrhcsFMMfFFhFp\n",
    "jqHRNqRjqzjGDLGLrsFMfFZSrLrFZsSL\n",
    "PmmdzqPrVvPwwTWBwg\n",
    "wMqvLMZHhHMvwLHjbvcjnnSBnvTQFn\n",
    "ttgJtRGJQctTZtZT\n",
    "CrZsJsPPZsGzwwsLwLmpwMDw\"\"\", sections = kRows(3))"
   ]
  },
  {
   "cell_type": "code",
   "execution_count": 97,
   "metadata": {},
   "outputs": [
    {
     "name": "stdout",
     "output_type": "stream",
     "text": [
      "__________ Input to be parsed __________\n",
      "NGvdqJmJvpNbGRMGQgRsfgfn\n",
      "WlHTHShlLwSWjFRsncfbcwsgQc\n",
      "BHtSBHWHSCWLZHlhjTHLLdbNNqNpzpDzNvDvtPmmPp\n",
      "JJSShnTpDSJJlllfwBNVbMQWwhQhgQtt\n",
      "cTzrvrHdLwwzttQNWB\n",
      "... and maybe more\n",
      "____________________\n",
      "__________ Parsed input __________\n",
      "['NGvdqJmJvpNbGRMGQgRsfgfn', 'WlHTHShlLwSWjFRsncfbcwsgQc', 'BHtSBHWHSCWLZHlhjTHLLdbNNqNpzpDzNvDvtPmmPp']\n",
      "['JJSShnTpDSJJlllfwBNVbMQWwhQhgQtt', 'cTzrvrHdLwwzttQNWB', 'qrFqTFvqZvrmsplsjlnDflnZ']\n",
      "['mhhhVHvNNddHMwBqQwlWZZtv', 'fbjzjJllCtWjjrZtjq', 'CbgcgpPRDJfzVHFFnSnsSDlm']\n",
      "['ZqBPqBQnPLmqZsFqhsvFsLZQMfSSMbbWddWbjbJSrgWgJf', 'NRHnlllcDwwCNClNtttHbNJrSJNfbdWMdfbWgdrJ', 'cHGlzTptHtCpncHnCpHpRGzDmvVhqLmvLPmPvLqPmzsqqmPB']\n",
      "['rCzVtMMbMvCmmvGlclFQFfLpJFJfJpcLHPJL', 'nDGGwqGqnRTfpHLpRFpLFf', 'ZNdNTDsWgNZsZBndnGrzrlMrjgrmjVGjvC']\n",
      "... and maybe more\n",
      "____________________\n"
     ]
    }
   ],
   "source": [
    "actualInput = parseInput(open(\"inputs/day3.txt\").read(), sections=kRows(3))"
   ]
  },
  {
   "cell_type": "markdown",
   "metadata": {},
   "source": [
    "Actually, we require a step less now, as we only need to find common items between three rucksacks, and we do not need to consider the individual sections in each rucksack."
   ]
  },
  {
   "cell_type": "code",
   "execution_count": 98,
   "metadata": {},
   "outputs": [
    {
     "name": "stdout",
     "output_type": "stream",
     "text": [
      "Answer: 70            0.000030 seconds\n",
      "Test succeeded.\n"
     ]
    }
   ],
   "source": [
    "day3_part2 = lambda W : sum(map(itemPriority, map(getCommon, W)))\n",
    "test(day3_part2, testInput, 70)"
   ]
  },
  {
   "cell_type": "code",
   "execution_count": 99,
   "metadata": {},
   "outputs": [
    {
     "name": "stdout",
     "output_type": "stream",
     "text": [
      "Answer: 2668            0.001007 seconds\n"
     ]
    },
    {
     "data": {
      "text/plain": [
       "2668"
      ]
     },
     "execution_count": 99,
     "metadata": {},
     "output_type": "execute_result"
    }
   ],
   "source": [
    "run(day3_part2, actualInput)"
   ]
  },
  {
   "cell_type": "markdown",
   "metadata": {},
   "source": [
    "That's that for day 3!"
   ]
  }
 ],
 "metadata": {
  "kernelspec": {
   "display_name": "Python 3",
   "language": "python",
   "name": "python3"
  },
  "language_info": {
   "codemirror_mode": {
    "name": "ipython",
    "version": 3
   },
   "file_extension": ".py",
   "mimetype": "text/x-python",
   "name": "python",
   "nbconvert_exporter": "python",
   "pygments_lexer": "ipython3",
   "version": "3.12.2"
  }
 },
 "nbformat": 4,
 "nbformat_minor": 2
}
