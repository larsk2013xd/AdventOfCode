{
 "cells": [
  {
   "cell_type": "markdown",
   "metadata": {},
   "source": [
    "# Day 2 : Rock Paper Scissors\n",
    "\n",
    "## Part 1\n",
    "\n",
    "Rock Paper Scissors time! We are given some instructions to play rock paper scissors. Specifically, we are given the opponent strategy, and the strategy we need to play. `A`, `B`, `C` correspond to the opponent playing rocks, paper or scissors respectively. And in a similar way `X`, `Y` and `Z` denote our strategy. We get points for the strategy we play, <b>and</b> points for winning, drawing or losing.\n",
    "\n",
    "We start once again with parsing our data."
   ]
  },
  {
   "cell_type": "code",
   "execution_count": 75,
   "metadata": {},
   "outputs": [
    {
     "name": "stdout",
     "output_type": "stream",
     "text": [
      "__________ Input to be parsed __________\n",
      "A Y\n",
      "B X\n",
      "C Z\n",
      "... and maybe more\n",
      "____________________\n",
      "__________ Parsed input __________\n",
      "('A', 'Y')\n",
      "('B', 'X')\n",
      "('C', 'Z')\n",
      "... and maybe more\n",
      "____________________\n"
     ]
    }
   ],
   "source": [
    "from backend import *\n",
    "\n",
    "testInput = parseInput(\"\"\"A Y\n",
    "B X\n",
    "C Z\"\"\", parseMethod=parseLetters)\n"
   ]
  },
  {
   "cell_type": "markdown",
   "metadata": {},
   "source": [
    "and our actual data:"
   ]
  },
  {
   "cell_type": "code",
   "execution_count": 76,
   "metadata": {},
   "outputs": [
    {
     "name": "stdout",
     "output_type": "stream",
     "text": [
      "__________ Input to be parsed __________\n",
      "C Z\n",
      "C Z\n",
      "A Y\n",
      "A X\n",
      "C Z\n",
      "... and maybe more\n",
      "____________________\n",
      "__________ Parsed input __________\n",
      "('C', 'Z')\n",
      "('C', 'Z')\n",
      "('A', 'Y')\n",
      "('A', 'X')\n",
      "('C', 'Z')\n",
      "... and maybe more\n",
      "____________________\n"
     ]
    }
   ],
   "source": [
    "actualInput = parseInput(open(\"inputs/day2.txt\").read(), parseMethod=parseLetters)"
   ]
  },
  {
   "cell_type": "markdown",
   "metadata": {},
   "source": [
    "My idea was to create a dictionary with outcomes. There are only $3^2$ possible outcomes, so it's not hard to note them down by hand."
   ]
  },
  {
   "cell_type": "code",
   "execution_count": 77,
   "metadata": {},
   "outputs": [],
   "source": [
    "gameMatrix = {\"AX\" : 3, \"AY\" : 6, \"AZ\" : 0,\n",
    "              \"BX\" : 0, \"BY\" : 3, \"BZ\" : 6,\n",
    "              \"CX\" : 6, \"CY\" : 0, \"CZ\" : 3}\n"
   ]
  },
  {
   "cell_type": "markdown",
   "metadata": {},
   "source": [
    "Then, we create a function that determines the shape score (the score of our played strategy), and a function that adds this to the outcome of the game. For example, if our opponent plays paper, and we play paper we should draw (3) points, and get 2 points for playing paper. Hence we should receive 5 points in total:"
   ]
  },
  {
   "cell_type": "code",
   "execution_count": 78,
   "metadata": {},
   "outputs": [
    {
     "data": {
      "text/plain": [
       "5"
      ]
     },
     "execution_count": 78,
     "metadata": {},
     "output_type": "execute_result"
    }
   ],
   "source": [
    "\n",
    "def shapeScore(shape : str) -> int:\n",
    "    return 3*(shape == \"Z\") + 2*(shape == \"Y\") + (shape == \"X\")\n",
    "\n",
    "def gameScore(game : tuple) -> int:\n",
    "    return shapeScore(game[1])+gameMatrix[f\"{game[0]}{game[1]}\"]\n",
    "\n",
    "gameScore((\"B\", \"Y\"))"
   ]
  },
  {
   "cell_type": "markdown",
   "metadata": {},
   "source": [
    "Now we can compute the sum of the scores for each game. (First we test our code to see if it gives the proper outcome)."
   ]
  },
  {
   "cell_type": "code",
   "execution_count": 79,
   "metadata": {},
   "outputs": [
    {
     "name": "stdout",
     "output_type": "stream",
     "text": [
      "Answer: 15            0.000012 seconds\n",
      "Test succeeded.\n"
     ]
    }
   ],
   "source": [
    "day2_part1 = lambda W : sum(map(gameScore, W))\n",
    "test(day2_part1, testInput, 15)"
   ]
  },
  {
   "cell_type": "code",
   "execution_count": 80,
   "metadata": {},
   "outputs": [
    {
     "name": "stdout",
     "output_type": "stream",
     "text": [
      "Answer: 12156            0.001739 seconds\n"
     ]
    },
    {
     "data": {
      "text/plain": [
       "12156"
      ]
     },
     "execution_count": 80,
     "metadata": {},
     "output_type": "execute_result"
    }
   ],
   "source": [
    "run(day2_part1, actualInput)"
   ]
  },
  {
   "cell_type": "markdown",
   "metadata": {},
   "source": [
    "Very nice! This wasn't too difficult. I wonder why we're getting not just getting points for the outcomes...\n",
    "\n",
    "## Part 2\n",
    "\n",
    "Well, it turns out that the instructions don't refer to the strategy we need to play. It actually refers to losing, drawing or winning. Now we need to determine our strategy given the instruction, and the strategy our opponent played. "
   ]
  },
  {
   "cell_type": "code",
   "execution_count": 81,
   "metadata": {},
   "outputs": [],
   "source": [
    "def playToGetOutcome(game : tuple) -> str:\n",
    "    scoreoutcome = 0 * (game[1] == \"X\") + 3 * (game[1] == \"Y\") + 6 * (game[1] == \"Z\")\n",
    "    player = [key[1:] for key in gameMatrix.keys() if gameMatrix[key] == scoreoutcome and key.startswith(game[0])][0]\n",
    "    return gameScore((game[0], player))"
   ]
  },
  {
   "cell_type": "code",
   "execution_count": 82,
   "metadata": {},
   "outputs": [
    {
     "name": "stdout",
     "output_type": "stream",
     "text": [
      "Answer: 12            0.000031 seconds\n",
      "Test succeeded.\n"
     ]
    }
   ],
   "source": [
    "day2_part2 = lambda W : sum(map(playToGetOutcome, W))\n",
    "test(day2_part2, testInput, 12)"
   ]
  },
  {
   "cell_type": "code",
   "execution_count": 83,
   "metadata": {},
   "outputs": [
    {
     "name": "stdout",
     "output_type": "stream",
     "text": [
      "Answer: 10835            0.008511 seconds\n"
     ]
    },
    {
     "data": {
      "text/plain": [
       "10835"
      ]
     },
     "execution_count": 83,
     "metadata": {},
     "output_type": "execute_result"
    }
   ],
   "source": [
    "run(day2_part2, actualInput)"
   ]
  }
 ],
 "metadata": {
  "kernelspec": {
   "display_name": "Python 3",
   "language": "python",
   "name": "python3"
  },
  "language_info": {
   "codemirror_mode": {
    "name": "ipython",
    "version": 3
   },
   "file_extension": ".py",
   "mimetype": "text/x-python",
   "name": "python",
   "nbconvert_exporter": "python",
   "pygments_lexer": "ipython3",
   "version": "3.12.2"
  }
 },
 "nbformat": 4,
 "nbformat_minor": 2
}
