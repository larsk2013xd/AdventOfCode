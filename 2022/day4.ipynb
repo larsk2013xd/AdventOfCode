{
 "cells": [
  {
   "cell_type": "markdown",
   "metadata": {},
   "source": [
    "# Day 4 : Camp cleanup\n",
    "\n",
    "## Part 1\n",
    "\n",
    "For this day, we are given pairs of number ranges. And we must determine whether these ranges fully contain one another."
   ]
  },
  {
   "cell_type": "code",
   "execution_count": 65,
   "metadata": {},
   "outputs": [
    {
     "name": "stdout",
     "output_type": "stream",
     "text": [
      "__________ Input to be parsed __________\n",
      "2-4,6-8\n",
      "2-3,4-5\n",
      "5-7,7-9\n",
      "2-8,3-7\n",
      "6-6,4-6\n",
      "... and maybe more\n",
      "____________________\n",
      "__________ Parsed input __________\n",
      "(2, 4, 6, 8)\n",
      "(2, 3, 4, 5)\n",
      "(5, 7, 7, 9)\n",
      "(2, 8, 3, 7)\n",
      "(6, 6, 4, 6)\n",
      "... and maybe more\n",
      "____________________\n"
     ]
    }
   ],
   "source": [
    "from backend import *\n",
    "\n",
    "testInput = parseInput(\"\"\"2-4,6-8\n",
    "2-3,4-5\n",
    "5-7,7-9\n",
    "2-8,3-7\n",
    "6-6,4-6\n",
    "2-6,4-8\"\"\", parseMethod=parseInts)\n"
   ]
  },
  {
   "cell_type": "markdown",
   "metadata": {},
   "source": [
    "and our actual data:"
   ]
  },
  {
   "cell_type": "code",
   "execution_count": 66,
   "metadata": {},
   "outputs": [
    {
     "name": "stdout",
     "output_type": "stream",
     "text": [
      "__________ Input to be parsed __________\n",
      "37-87,36-87\n",
      "3-98,3-84\n",
      "33-73,33-33\n",
      "3-65,1-3\n",
      "59-72,41-59\n",
      "... and maybe more\n",
      "____________________\n",
      "__________ Parsed input __________\n",
      "(37, 87, 36, 87)\n",
      "(3, 98, 3, 84)\n",
      "(33, 73, 33, 33)\n",
      "(3, 65, 1, 3)\n",
      "(59, 72, 41, 59)\n",
      "... and maybe more\n",
      "____________________\n"
     ]
    }
   ],
   "source": [
    "actualInput = parseInput(open(\"inputs/day4.txt\").read(), parseMethod=parseInts)"
   ]
  },
  {
   "cell_type": "markdown",
   "metadata": {},
   "source": [
    "For this, we can use some very basic math to construct an easy check whether one of two sets is fully contained within the other.\n",
    "\n",
    "If we denote the first set $S_1 = [a_1, b_1]$ and similarly for the second set $S_2 = [a_2, b_2]$, we can make some quick observations.\n",
    "Firstly, note that if $S_2$ is fully contained withing $S_1$ then $a_2-a_1$ and $b_2-b_1$ should have opposite signs, or be zero. This means that $(a_2-a_1)(b_2-b_1)\\leq 0$ is a valid condition for fully contained sets. (I will omit a full proof of this, but a quick drawing should make this concept clear.)"
   ]
  },
  {
   "cell_type": "code",
   "execution_count": 67,
   "metadata": {},
   "outputs": [
    {
     "data": {
      "text/plain": [
       "(False, True, True)"
      ]
     },
     "execution_count": 67,
     "metadata": {},
     "output_type": "execute_result"
    }
   ],
   "source": [
    "def fully_contains(ranges : tuple):\n",
    "    return (ranges[2]-ranges[0])*(ranges[3]-ranges[1]) <= 0\n",
    "\n",
    "fully_contains((2, 4, 6, 8)), fully_contains((4,6,6,6)), fully_contains((2,8,3,7))"
   ]
  },
  {
   "cell_type": "markdown",
   "metadata": {},
   "source": [
    "As shown above, the reasoning seems to hold and we are able to identify the cases where a full overlap happens."
   ]
  },
  {
   "cell_type": "code",
   "execution_count": 68,
   "metadata": {},
   "outputs": [
    {
     "name": "stdout",
     "output_type": "stream",
     "text": [
      "Answer: 2            0.000022 seconds\n",
      "Test succeeded.\n"
     ]
    }
   ],
   "source": [
    "day4_part1 = lambda W : sum(map(fully_contains, W))\n",
    "test(day4_part1, testInput, 2)"
   ]
  },
  {
   "cell_type": "code",
   "execution_count": 69,
   "metadata": {},
   "outputs": [
    {
     "name": "stdout",
     "output_type": "stream",
     "text": [
      "Answer: 651            0.000341 seconds\n"
     ]
    },
    {
     "data": {
      "text/plain": [
       "651"
      ]
     },
     "execution_count": 69,
     "metadata": {},
     "output_type": "execute_result"
    }
   ],
   "source": [
    "run(day4_part1, actualInput)"
   ]
  },
  {
   "cell_type": "markdown",
   "metadata": {},
   "source": [
    "## Part 2\n",
    "\n",
    "Now, we're not only interested in sets that fully contain one another, but if there is any overlap in the sets at all. Another quick computation that confirms this is checking whether $(b_2-a_1)(a_2-b_1)\\leq 0$. Again, I will omit the actual proof of this."
   ]
  },
  {
   "cell_type": "code",
   "execution_count": 70,
   "metadata": {},
   "outputs": [],
   "source": [
    "def overlaps(ranges : tuple):\n",
    "    return (ranges[3]-ranges[0])*(ranges[2]-ranges[1]) <= 0\n"
   ]
  },
  {
   "cell_type": "code",
   "execution_count": 71,
   "metadata": {},
   "outputs": [
    {
     "name": "stdout",
     "output_type": "stream",
     "text": [
      "Answer: 4            0.000009 seconds\n",
      "Test succeeded.\n"
     ]
    }
   ],
   "source": [
    "day4_part2 = lambda W : sum(map(overlaps, W))\n",
    "test(day4_part2, testInput, 4)"
   ]
  },
  {
   "cell_type": "code",
   "execution_count": 72,
   "metadata": {},
   "outputs": [
    {
     "name": "stdout",
     "output_type": "stream",
     "text": [
      "Answer: 956            0.000344 seconds\n"
     ]
    },
    {
     "data": {
      "text/plain": [
       "956"
      ]
     },
     "execution_count": 72,
     "metadata": {},
     "output_type": "execute_result"
    }
   ],
   "source": [
    "run(day4_part2, actualInput)"
   ]
  },
  {
   "cell_type": "markdown",
   "metadata": {},
   "source": [
    "That was one of the quickest days so far! But I think this was an elegent way of solving this problem."
   ]
  }
 ],
 "metadata": {
  "kernelspec": {
   "display_name": "Python 3",
   "language": "python",
   "name": "python3"
  },
  "language_info": {
   "codemirror_mode": {
    "name": "ipython",
    "version": 3
   },
   "file_extension": ".py",
   "mimetype": "text/x-python",
   "name": "python",
   "nbconvert_exporter": "python",
   "pygments_lexer": "ipython3",
   "version": "3.12.2"
  }
 },
 "nbformat": 4,
 "nbformat_minor": 2
}
