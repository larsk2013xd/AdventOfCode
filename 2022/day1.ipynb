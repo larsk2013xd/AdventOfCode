{
 "cells": [
  {
   "cell_type": "markdown",
   "metadata": {},
   "source": [
    "# Day 1 : Calorie counting\n",
    "\n",
    "## Part 1"
   ]
  },
  {
   "cell_type": "code",
   "execution_count": 4,
   "metadata": {},
   "outputs": [
    {
     "name": "stdout",
     "output_type": "stream",
     "text": [
      "---------- Input -> 14 lines ----------\n",
      "1000\n",
      "2000\n",
      "3000\n",
      "\n",
      "4000\n",
      "\n",
      "5000\n",
      "6000\n",
      "\n",
      "7000\n",
      "And maybe more...\n",
      "--------------------\n",
      "---------- Parsed -> 5 sections ----------\n",
      "['1000\\n2000\\n3000']\n",
      "['4000']\n",
      "['5000\\n6000']\n",
      "['7000\\n8000\\n9000']\n",
      "['10000']\n",
      "And maybe more...\n",
      "--------------------\n"
     ]
    }
   ],
   "source": [
    "from backend import *\n",
    "import re\n",
    "\n",
    "testInput = parseInput(\"\"\"1000\n",
    "2000\n",
    "3000\n",
    "\n",
    "4000\n",
    "\n",
    "5000\n",
    "6000\n",
    "\n",
    "7000\n",
    "8000\n",
    "9000\n",
    "\n",
    "10000\"\"\", parseFunction=str.split, sep = \"\\n\\n\")\n",
    "\n"
   ]
  },
  {
   "cell_type": "code",
   "execution_count": 5,
   "metadata": {},
   "outputs": [
    {
     "name": "stdout",
     "output_type": "stream",
     "text": [
      "Answer: 24000            0.000034 seconds\n",
      "Test succeeded.\n"
     ]
    }
   ],
   "source": [
    "def countCalories(lists: list) -> list:\n",
    "    return[sum(map(int, re.findall(r\"\\d+\", item))) for item in lists]\n",
    "\n",
    "day1_part1 = lambda W : max(countCalories(W))\n",
    "test(day1_part1, testInput, 24000)"
   ]
  },
  {
   "cell_type": "code",
   "execution_count": 6,
   "metadata": {},
   "outputs": [
    {
     "name": "stdout",
     "output_type": "stream",
     "text": [
      "---------- Input -> 2240 lines ----------\n",
      "2991\n",
      "13880\n",
      "13279\n",
      "1514\n",
      "9507\n",
      "\n",
      "6544\n",
      "9672\n",
      "13044\n",
      "4794\n",
      "And maybe more...\n",
      "--------------------\n",
      "---------- Parsed -> 245 sections ----------\n",
      "['2991\\n13880\\n13279\\n1514\\n9507']\n",
      "['6544\\n9672\\n13044\\n4794\\n6648\\n8669']\n",
      "['2790\\n1196\\n3619\\n1692\\n8727\\n2342\\n1099\\n6083\\n3834\\n2008']\n",
      "['2974\\n4393\\n1146\\n4240\\n1880\\n3226\\n2390\\n5640\\n2768\\n1887\\n4217\\n3314\\n5653\\n2609']\n",
      "['4473\\n7306\\n7909\\n6862\\n7413\\n3738\\n2102\\n4269\\n5966\\n7491\\n4851']\n",
      "And maybe more...\n",
      "--------------------\n",
      "Answer: 68467            0.001245 seconds\n"
     ]
    },
    {
     "data": {
      "text/plain": [
       "68467"
      ]
     },
     "execution_count": 6,
     "metadata": {},
     "output_type": "execute_result"
    }
   ],
   "source": [
    "run(day1_part1, parseInput(open(\"inputs/day1.txt\"), parseFunction=str.split, sep = \"\\n\\n\"))"
   ]
  }
 ],
 "metadata": {
  "kernelspec": {
   "display_name": "Python 3",
   "language": "python",
   "name": "python3"
  },
  "language_info": {
   "codemirror_mode": {
    "name": "ipython",
    "version": 3
   },
   "file_extension": ".py",
   "mimetype": "text/x-python",
   "name": "python",
   "nbconvert_exporter": "python",
   "pygments_lexer": "ipython3",
   "version": "3.12.2"
  }
 },
 "nbformat": 4,
 "nbformat_minor": 2
}
