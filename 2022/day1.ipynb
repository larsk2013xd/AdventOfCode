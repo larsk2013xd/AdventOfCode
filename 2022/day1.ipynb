{
 "cells": [
  {
   "cell_type": "markdown",
   "metadata": {},
   "source": [
    "# Day 1 : Calorie counting\n",
    "\n",
    "## Part 1\n",
    "\n",
    "For this problem we need to find the maximum number of calories consumed by any of the elves. The calories taken by each elve are seperated using paragraphs. I will be using some parsing functions written out in <a href='backend.py'>the backend script</a> to make parsing the data a bit easier.\n",
    "\n",
    "We will start with loading the test data:"
   ]
  },
  {
   "cell_type": "code",
   "execution_count": 26,
   "metadata": {},
   "outputs": [
    {
     "name": "stdout",
     "output_type": "stream",
     "text": [
      "__________ Input to be parsed __________\n",
      "1000\n",
      "2000\n",
      "3000\n",
      "\n",
      "4000\n",
      "... and maybe more\n",
      "____________________\n",
      "__________ Parsed input __________\n",
      "(1000, 2000, 3000)\n",
      "\n",
      "(4000,)\n",
      "\n",
      "(5000, 6000)\n",
      "\n",
      "(7000, 8000, 9000)\n",
      "\n",
      "(10000,)\n",
      "\n",
      "... and maybe more\n",
      "____________________\n"
     ]
    }
   ],
   "source": [
    "from backend import *\n",
    "\n",
    "testInput = parseInput(\"\"\"1000\n",
    "2000\n",
    "3000\n",
    "\n",
    "4000\n",
    "\n",
    "5000\n",
    "6000\n",
    "\n",
    "7000\n",
    "8000\n",
    "9000\n",
    "\n",
    "10000\"\"\", sections=paragraphs)\n"
   ]
  },
  {
   "cell_type": "markdown",
   "metadata": {},
   "source": [
    "and our actual data:"
   ]
  },
  {
   "cell_type": "code",
   "execution_count": 27,
   "metadata": {},
   "outputs": [
    {
     "name": "stdout",
     "output_type": "stream",
     "text": [
      "__________ Input to be parsed __________\n",
      "2991\n",
      "13880\n",
      "13279\n",
      "1514\n",
      "9507\n",
      "... and maybe more\n",
      "____________________\n",
      "__________ Parsed input __________\n",
      "(2991, 13880, 13279, 1514, 9507)\n",
      "\n",
      "(6544, 9672, 13044, 4794, 6648, 8669)\n",
      "\n",
      "(2790, 1196, 3619, 1692, 8727, 2342, 1099, 6083, 3834, 2008)\n",
      "\n",
      "(2974, 4393, 1146, 4240, 1880, 3226, 2390, 5640, 2768, 1887, 4217, 3314, 5653, 2609)\n",
      "\n",
      "(4473, 7306, 7909, 6862, 7413, 3738, 2102, 4269, 5966, 7491, 4851)\n",
      "\n",
      "... and maybe more\n",
      "____________________\n"
     ]
    }
   ],
   "source": [
    "actualInput = parseInput(open(\"inputs/day1.txt\").read(), sections=paragraphs)"
   ]
  },
  {
   "cell_type": "markdown",
   "metadata": {},
   "source": [
    "This should be quite easy, we simply calculate the sum of calories for each elve, and take the maximum of this list:"
   ]
  },
  {
   "cell_type": "code",
   "execution_count": 28,
   "metadata": {},
   "outputs": [
    {
     "name": "stdout",
     "output_type": "stream",
     "text": [
      "Answer: 24000            0.000006 seconds\n",
      "Test succeeded.\n"
     ]
    }
   ],
   "source": [
    "def countCalories(lists: list) -> list:\n",
    "    return[sum(item) for item in lists]\n",
    "\n",
    "day1_part1 = lambda W : max(countCalories(W))\n",
    "test(day1_part1, testInput, 24000)"
   ]
  },
  {
   "cell_type": "code",
   "execution_count": 29,
   "metadata": {},
   "outputs": [
    {
     "name": "stdout",
     "output_type": "stream",
     "text": [
      "Answer: 68467            0.000116 seconds\n"
     ]
    },
    {
     "data": {
      "text/plain": [
       "68467"
      ]
     },
     "execution_count": 29,
     "metadata": {},
     "output_type": "execute_result"
    }
   ],
   "source": [
    "run(day1_part1, actualInput)"
   ]
  },
  {
   "cell_type": "markdown",
   "metadata": {},
   "source": [
    "Great! That wasn't too hard.\n",
    "\n",
    "## Part 2\n",
    "\n",
    "Right now we are interested in the sum of the calories taken in by the 3 elves that consumed the most. Again, this should not be to hard as we just need to take the last three elements of our sorted array, and take the sum."
   ]
  },
  {
   "cell_type": "code",
   "execution_count": 30,
   "metadata": {},
   "outputs": [
    {
     "name": "stdout",
     "output_type": "stream",
     "text": [
      "Answer: 45000            0.000009 seconds\n",
      "Test succeeded.\n"
     ]
    }
   ],
   "source": [
    "day1_part2 = lambda W : sum(sorted(countCalories(W))[-3:])\n",
    "test(day1_part2, testInput, 45000)\n"
   ]
  },
  {
   "cell_type": "code",
   "execution_count": 31,
   "metadata": {},
   "outputs": [
    {
     "name": "stdout",
     "output_type": "stream",
     "text": [
      "Answer: 203420            0.000126 seconds\n"
     ]
    },
    {
     "data": {
      "text/plain": [
       "203420"
      ]
     },
     "execution_count": 31,
     "metadata": {},
     "output_type": "execute_result"
    }
   ],
   "source": [
    "run(day1_part2, actualInput)"
   ]
  }
 ],
 "metadata": {
  "kernelspec": {
   "display_name": "Python 3",
   "language": "python",
   "name": "python3"
  },
  "language_info": {
   "codemirror_mode": {
    "name": "ipython",
    "version": 3
   },
   "file_extension": ".py",
   "mimetype": "text/x-python",
   "name": "python",
   "nbconvert_exporter": "python",
   "pygments_lexer": "ipython3",
   "version": "3.12.2"
  }
 },
 "nbformat": 4,
 "nbformat_minor": 2
}
