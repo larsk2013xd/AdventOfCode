{
 "cells": [
  {
   "cell_type": "markdown",
   "metadata": {},
   "source": [
    "# Day 8 : Treetop treehouse\n",
    "\n",
    "## Part 1\n"
   ]
  },
  {
   "cell_type": "code",
   "execution_count": 18,
   "metadata": {},
   "outputs": [
    {
     "name": "stdout",
     "output_type": "stream",
     "text": [
      "__________ Input to be parsed __________\n",
      "30373\n",
      "25512\n",
      "65332\n",
      "33549\n",
      "35390\n",
      "... and maybe more\n",
      "____________________\n",
      "__________ Parsed input __________\n",
      "(3, 0, 3, 7, 3)\n",
      "(2, 5, 5, 1, 2)\n",
      "(6, 5, 3, 3, 2)\n",
      "(3, 3, 5, 4, 9)\n",
      "(3, 5, 3, 9, 0)\n",
      "... and maybe more\n",
      "____________________\n"
     ]
    }
   ],
   "source": [
    "from backend import *\n",
    "\n",
    "testInput = parseInput(\"\"\"30373\n",
    "25512\n",
    "65332\n",
    "33549\n",
    "35390\"\"\", parseMethod=parseDigits, sections=lines)"
   ]
  },
  {
   "cell_type": "markdown",
   "metadata": {},
   "source": [
    "The actual data:"
   ]
  },
  {
   "cell_type": "code",
   "execution_count": 19,
   "metadata": {},
   "outputs": [
    {
     "data": {
      "image/png": "[encoded data removed]",
      "text/plain": [
       "<Figure size 640x480 with 2 Axes>"
      ]
     },
     "metadata": {},
     "output_type": "display_data"
    }
   ],
   "source": [
    "import matplotlib.pyplot as plt\n",
    "def plotTrees(input):\n",
    "    [plt.scatter(i, j, c= input[i][j], cmap = 'summer') for i in range(len(input)) for j in range(len(input[0]))]\n",
    "    plt.colorbar()\n",
    "\n",
    "plotTrees(testInput)"
   ]
  },
  {
   "cell_type": "code",
   "execution_count": null,
   "metadata": {},
   "outputs": [],
   "source": [
    "\n"
   ]
  },
  {
   "cell_type": "code",
   "execution_count": 20,
   "metadata": {},
   "outputs": [
    {
     "ename": "NameError",
     "evalue": "name 'Folder' is not defined",
     "output_type": "error",
     "traceback": [
      "\u001b[1;31m---------------------------------------------------------------------------\u001b[0m",
      "\u001b[1;31mNameError\u001b[0m                                 Traceback (most recent call last)",
      "Cell \u001b[1;32mIn[20], line 2\u001b[0m\n\u001b[0;32m      1\u001b[0m day7_part1 \u001b[38;5;241m=\u001b[39m \u001b[38;5;28;01mlambda\u001b[39;00m W : \u001b[38;5;28msum\u001b[39m([folder\u001b[38;5;241m.\u001b[39mfolderSize() \u001b[38;5;28;01mfor\u001b[39;00m folder \u001b[38;5;129;01min\u001b[39;00m Folder\u001b[38;5;241m.\u001b[39mlistAllFolders(instructionsToTree(W)) \u001b[38;5;28;01mif\u001b[39;00m folder\u001b[38;5;241m.\u001b[39mfolderSize() \u001b[38;5;241m<\u001b[39m\u001b[38;5;241m=\u001b[39m \u001b[38;5;241m1e5\u001b[39m])\n\u001b[1;32m----> 2\u001b[0m \u001b[43mtest\u001b[49m\u001b[43m(\u001b[49m\u001b[43mday7_part1\u001b[49m\u001b[43m,\u001b[49m\u001b[43m \u001b[49m\u001b[43mtestInput\u001b[49m\u001b[43m,\u001b[49m\u001b[43m \u001b[49m\u001b[38;5;241;43m95437\u001b[39;49m\u001b[43m)\u001b[49m\n",
      "File \u001b[1;32mc:\\Users\\Lars Kwant\\Documents\\GitHub\\AdventOfCode\\2022\\backend.py:35\u001b[0m, in \u001b[0;36mtest\u001b[1;34m(function, input, expectedResult)\u001b[0m\n\u001b[0;32m     34\u001b[0m \u001b[38;5;28;01mdef\u001b[39;00m \u001b[38;5;21mtest\u001b[39m(function : \u001b[38;5;28mcallable\u001b[39m, \u001b[38;5;28minput\u001b[39m, expectedResult):\n\u001b[1;32m---> 35\u001b[0m     result \u001b[38;5;241m=\u001b[39m \u001b[43mrun\u001b[49m\u001b[43m(\u001b[49m\u001b[43mfunction\u001b[49m\u001b[43m,\u001b[49m\u001b[43m \u001b[49m\u001b[38;5;28;43minput\u001b[39;49m\u001b[43m)\u001b[49m\n\u001b[0;32m     36\u001b[0m     \u001b[38;5;28;01massert\u001b[39;00m result \u001b[38;5;241m==\u001b[39m expectedResult, \u001b[38;5;124mf\u001b[39m\u001b[38;5;124m\"\u001b[39m\u001b[38;5;124mTest failed. Expected \u001b[39m\u001b[38;5;132;01m{\u001b[39;00mexpectedResult\u001b[38;5;132;01m}\u001b[39;00m\u001b[38;5;124m, but got \u001b[39m\u001b[38;5;132;01m{\u001b[39;00mresult\u001b[38;5;132;01m}\u001b[39;00m\u001b[38;5;124m instead.\u001b[39m\u001b[38;5;124m\"\u001b[39m\n\u001b[0;32m     37\u001b[0m     \u001b[38;5;28mprint\u001b[39m(\u001b[38;5;124m\"\u001b[39m\u001b[38;5;124mTest succeeded.\u001b[39m\u001b[38;5;124m\"\u001b[39m)\n",
      "File \u001b[1;32mc:\\Users\\Lars Kwant\\Documents\\GitHub\\AdventOfCode\\2022\\backend.py:29\u001b[0m, in \u001b[0;36mrun\u001b[1;34m(function, input)\u001b[0m\n\u001b[0;32m     27\u001b[0m \u001b[38;5;250m\u001b[39m\u001b[38;5;124;03m\"\"\"Runs a function based on some inputs to get some nicely formatted answers. The function is expected to have as first argument an input file\"\"\"\u001b[39;00m\n\u001b[0;32m     28\u001b[0m t0 \u001b[38;5;241m=\u001b[39m time\u001b[38;5;241m.\u001b[39mperf_counter()\n\u001b[1;32m---> 29\u001b[0m result \u001b[38;5;241m=\u001b[39m \u001b[43mfunction\u001b[49m\u001b[43m(\u001b[49m\u001b[38;5;28;43minput\u001b[39;49m\u001b[43m)\u001b[49m\n\u001b[0;32m     30\u001b[0m t1 \u001b[38;5;241m=\u001b[39m time\u001b[38;5;241m.\u001b[39mperf_counter()\n\u001b[0;32m     31\u001b[0m \u001b[38;5;28mprint\u001b[39m(\u001b[38;5;124mf\u001b[39m\u001b[38;5;124m\"\u001b[39m\u001b[38;5;124mAnswer: \u001b[39m\u001b[38;5;132;01m{\u001b[39;00mresult\u001b[38;5;132;01m}\u001b[39;00m\u001b[38;5;124m           \u001b[39m\u001b[38;5;132;01m{\u001b[39;00m(t1\u001b[38;5;241m-\u001b[39mt0)\u001b[38;5;250m \u001b[39m\u001b[38;5;132;01m:\u001b[39;00m\u001b[38;5;124m .6f\u001b[39m\u001b[38;5;132;01m}\u001b[39;00m\u001b[38;5;124m seconds\u001b[39m\u001b[38;5;124m\"\u001b[39m)\n",
      "Cell \u001b[1;32mIn[20], line 1\u001b[0m, in \u001b[0;36m<lambda>\u001b[1;34m(W)\u001b[0m\n\u001b[1;32m----> 1\u001b[0m day7_part1 \u001b[38;5;241m=\u001b[39m \u001b[38;5;28;01mlambda\u001b[39;00m W : \u001b[38;5;28msum\u001b[39m([folder\u001b[38;5;241m.\u001b[39mfolderSize() \u001b[38;5;28;01mfor\u001b[39;00m folder \u001b[38;5;129;01min\u001b[39;00m \u001b[43mFolder\u001b[49m\u001b[38;5;241m.\u001b[39mlistAllFolders(instructionsToTree(W)) \u001b[38;5;28;01mif\u001b[39;00m folder\u001b[38;5;241m.\u001b[39mfolderSize() \u001b[38;5;241m<\u001b[39m\u001b[38;5;241m=\u001b[39m \u001b[38;5;241m1e5\u001b[39m])\n\u001b[0;32m      2\u001b[0m test(day7_part1, testInput, \u001b[38;5;241m95437\u001b[39m)\n",
      "\u001b[1;31mNameError\u001b[0m: name 'Folder' is not defined"
     ]
    }
   ],
   "source": [
    "day7_part1 = lambda W : sum([folder.folderSize() for folder in Folder.listAllFolders(instructionsToTree(W)) if folder.folderSize() <= 1e5])\n",
    "test(day7_part1, testInput, 95437)"
   ]
  },
  {
   "cell_type": "code",
   "execution_count": null,
   "metadata": {},
   "outputs": [
    {
     "name": "stdout",
     "output_type": "stream",
     "text": [
      "Answer: 1432936            0.002431 seconds\n"
     ]
    },
    {
     "data": {
      "text/plain": [
       "1432936"
      ]
     },
     "execution_count": 90,
     "metadata": {},
     "output_type": "execute_result"
    }
   ],
   "source": [
    "run(day7_part1, actualInput)"
   ]
  },
  {
   "cell_type": "markdown",
   "metadata": {},
   "source": [
    "## Part 2"
   ]
  },
  {
   "cell_type": "code",
   "execution_count": null,
   "metadata": {},
   "outputs": [
    {
     "data": {
      "text/plain": [
       "24933642"
      ]
     },
     "execution_count": 115,
     "metadata": {},
     "output_type": "execute_result"
    }
   ],
   "source": [
    "def day7_part2(input):\n",
    "    folderSizes = list(map(Folder.folderSize, Folder.listAllFolders(instructionsToTree(input))))\n",
    "    requiredSpace = 3e7 - 7e7 + max(folderSizes)\n",
    "    return(min([folderSize for folderSize in folderSizes if folderSize >= requiredSpace]))"
   ]
  },
  {
   "cell_type": "code",
   "execution_count": null,
   "metadata": {},
   "outputs": [
    {
     "name": "stdout",
     "output_type": "stream",
     "text": [
      "Answer: 24933642            0.000063 seconds\n",
      "Test succeeded.\n"
     ]
    }
   ],
   "source": [
    "test(day7_part2, testInput, 24933642)"
   ]
  },
  {
   "cell_type": "code",
   "execution_count": null,
   "metadata": {},
   "outputs": [
    {
     "name": "stdout",
     "output_type": "stream",
     "text": [
      "Answer: 272298            0.001884 seconds\n"
     ]
    },
    {
     "data": {
      "text/plain": [
       "272298"
      ]
     },
     "execution_count": 117,
     "metadata": {},
     "output_type": "execute_result"
    }
   ],
   "source": [
    "run(day7_part2, actualInput)"
   ]
  }
 ],
 "metadata": {
  "kernelspec": {
   "display_name": "Python 3",
   "language": "python",
   "name": "python3"
  },
  "language_info": {
   "codemirror_mode": {
    "name": "ipython",
    "version": 3
   },
   "file_extension": ".py",
   "mimetype": "text/x-python",
   "name": "python",
   "nbconvert_exporter": "python",
   "pygments_lexer": "ipython3",
   "version": "3.12.2"
  }
 },
 "nbformat": 4,
 "nbformat_minor": 2
}
